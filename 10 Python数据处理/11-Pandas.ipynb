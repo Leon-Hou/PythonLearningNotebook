{
 "cells": [
  {
   "cell_type": "markdown",
   "metadata": {},
   "source": [
    "# Pandas"
   ]
  },
  {
   "cell_type": "markdown",
   "metadata": {},
   "source": [
    "    numpy能够帮助我们处理数值型数据，但常常我们的数据除了数值，还有字符串、时间序列等，这就需要pandas。\n",
    "    Pandas是一个强大的分析结构化数据的工具集；它的使用基础是Numpy（提供高性能的矩阵运算）；用于数据挖掘和数据分析，同时也提供数据清洗功能。\n",
    "- Series：一维数组，与Numpy中的一维array类似。二者与Python基本的数据结构List也很相近。Series如今能保存不同种数据类型，字符串、boolean值、数字等都能保存在Series中。\n",
    "- Time- Series：以时间为索引的Series。\n",
    "- DataFrame：二维的表格型数据结构。很多功能与R中的data.frame类似。可以将DataFrame理解为Series的容器。\n",
    "- Panel ：三维的数组，可以理解为DataFrame的容器。\n",
    "- Panel4D：是像Panel一样的4维数据容器。\n",
    "- PanelND：拥有factory集合，可以创建像Panel4D一样N维命名容器的模块。\n",
    "\n",
    "官方网址：https://pandas.pydata.org/pandas-docs/stable/index.html   (有详细的用户使用手册)"
   ]
  },
  {
   "cell_type": "markdown",
   "metadata": {},
   "source": [
    "## Series"
   ]
  },
  {
   "cell_type": "markdown",
   "metadata": {},
   "source": [
    "### 创建Series"
   ]
  },
  {
   "cell_type": "code",
   "execution_count": 12,
   "metadata": {},
   "outputs": [
    {
     "name": "stdout",
     "output_type": "stream",
     "text": [
      "0     1.0\n",
      "1     2.0\n",
      "2     3.0\n",
      "3     NaN\n",
      "4    44.0\n",
      "5     1.0\n",
      "dtype: float32\n",
      "<class 'pandas.core.series.Series'>\n"
     ]
    }
   ],
   "source": [
    "# 将列表转换为series\n",
    "import pandas as pd\n",
    "import numpy as np\n",
    "a1 = pd.Series([1,2,3,np.nan,44,1],dtype=np.float32)\n",
    "print(a1)\n",
    "print(type(a1))"
   ]
  },
  {
   "cell_type": "code",
   "execution_count": 21,
   "metadata": {},
   "outputs": [
    {
     "name": "stdout",
     "output_type": "stream",
     "text": [
      "name    xiaohong\n",
      "age           30\n",
      "tel        10086\n",
      "dtype: object\n"
     ]
    }
   ],
   "source": [
    "# 将字典转换为Series\n",
    "temp_dict = {'name':'xiaohong','age':30,'tel':10086}\n",
    "s3 = pd.Series(temp_dict)\n",
    "print(s3)"
   ]
  },
  {
   "cell_type": "code",
   "execution_count": 3,
   "metadata": {},
   "outputs": [
    {
     "name": "stdout",
     "output_type": "stream",
     "text": [
      "1    5\n",
      "2    5\n",
      "3    5\n",
      "4    5\n",
      "5    5\n",
      "dtype: int64\n"
     ]
    }
   ],
   "source": [
    "# 如果数据是常量值，则必须提供索引。将重复该值以匹配索引的长度。\n",
    "import pandas as pd\n",
    "import numpy as np\n",
    "res = pd.Series(5,index=[1,2,3,4,5])\n",
    "print(res)   "
   ]
  },
  {
   "cell_type": "code",
   "execution_count": 22,
   "metadata": {},
   "outputs": [
    {
     "name": "stdout",
     "output_type": "stream",
     "text": [
      "A    0\n",
      "B    1\n",
      "C    2\n",
      "D    3\n",
      "E    4\n",
      "F    5\n",
      "G    6\n",
      "H    7\n",
      "I    8\n",
      "J    9\n",
      "dtype: int32\n"
     ]
    }
   ],
   "source": [
    "# 自定义索引\n",
    "import string\n",
    "t = pd.Series(np.arange(10),index=list(string.ascii_uppercase[:10]))\n",
    "print(t)"
   ]
  },
  {
   "cell_type": "code",
   "execution_count": 20,
   "metadata": {},
   "outputs": [
    {
     "name": "stdout",
     "output_type": "stream",
     "text": [
      "A    0\n",
      "B    1\n",
      "C    2\n",
      "D    3\n",
      "E    4\n",
      "F    5\n",
      "G    6\n",
      "H    7\n",
      "I    8\n",
      "J    9\n",
      "dtype: int64\n",
      "F    5.0\n",
      "G    6.0\n",
      "H    7.0\n",
      "I    8.0\n",
      "J    9.0\n",
      "K    NaN\n",
      "L    NaN\n",
      "M    NaN\n",
      "N    NaN\n",
      "O    NaN\n",
      "dtype: float64\n"
     ]
    }
   ],
   "source": [
    "# 重新自定义索引\n",
    "a = {string.ascii_uppercase[i]: i for i in range(10)}\n",
    "b = pd.Series(a)\n",
    "print(b)\n",
    "c =pd.Series(a,index = list(string.ascii_uppercase[5:15]))\n",
    "print(c) # NaN为float类型，所以Series类型自动切换"
   ]
  },
  {
   "cell_type": "markdown",
   "metadata": {},
   "source": [
    "### 数据查询"
   ]
  },
  {
   "cell_type": "code",
   "execution_count": 2,
   "metadata": {},
   "outputs": [
    {
     "name": "stdout",
     "output_type": "stream",
     "text": [
      "a    1\n",
      "b    2\n",
      "c    3\n",
      "dtype: int64 \n",
      "---\n",
      "4 \n",
      "---\n",
      "c    3\n",
      "d    4\n",
      "e    5\n",
      "dtype: int64 \n",
      "---\n",
      "0    1\n",
      "1    2\n",
      "2    3\n",
      "3    4\n",
      "4    5\n",
      "dtype: int64 \n",
      "---\n",
      "2    3\n",
      "4    5\n",
      "dtype: int64\n"
     ]
    }
   ],
   "source": [
    "# 通过序号查询\n",
    "import pandas as pd\n",
    "data = [1,2,3,4,5]\n",
    "res = pd.Series(data,index=[\"a\",\"b\",\"c\",\"d\",\"e\"])\n",
    "print(res[0:3],\"\\n---\")  # 这里跟python的切片一样\n",
    "print(res[3],\"\\n---\")\n",
    "print(res[-3:],\"\\n---\")\n",
    "res1 = pd.Series(data)\n",
    "print(res1,'\\n---')\n",
    "print(res1[[2,4]])"
   ]
  },
  {
   "cell_type": "code",
   "execution_count": 3,
   "metadata": {},
   "outputs": [
    {
     "name": "stdout",
     "output_type": "stream",
     "text": [
      "1 \n",
      "------\n",
      "a    1\n",
      "b    2\n",
      "dtype: int64\n"
     ]
    }
   ],
   "source": [
    "# 通过index查询\n",
    "data = [1,2,3,4,5]\n",
    "res = pd.Series(data,index=[\"a\",\"b\",\"c\",\"d\",\"e\"])\n",
    "print(res[\"a\"],'\\n------')\n",
    "# 检索多个值 标签用中括号包裹\n",
    "print(res[[\"a\",\"b\"]]) # 如果用没有的标签检索则会抛出异常KeyError: 'f'"
   ]
  },
  {
   "cell_type": "code",
   "execution_count": 20,
   "metadata": {},
   "outputs": [
    {
     "name": "stdout",
     "output_type": "stream",
     "text": [
      "res.head(3):\n",
      " a    1\n",
      "b    2\n",
      "c    3\n",
      "dtype: int64 \n",
      "---\n",
      "res.tail(2) :\n",
      " d    4\n",
      "e    5\n",
      "dtype: int64 \n",
      "---\n"
     ]
    }
   ],
   "source": [
    "# 使用head()/tail()查看前几个或后几个\n",
    "data = [1,2,3,4,5]\n",
    "res = pd.Series(data,index=[\"a\",\"b\",\"c\",\"d\",\"e\"])\n",
    "print('res.head(3):\\n',res.head(3),'\\n---')  # 查看前三个\n",
    "print('res.tail(2) :\\n',res.tail(2) ,'\\n---')# 查看后两个"
   ]
  },
  {
   "cell_type": "code",
   "execution_count": 20,
   "metadata": {},
   "outputs": [
    {
     "name": "stdout",
     "output_type": "stream",
     "text": [
      "a    1\n",
      "b    2\n",
      "c    3\n",
      "d    4\n",
      "e    5\n",
      "dtype: int64\n",
      "a    1\n",
      "b    2\n",
      "e    5\n",
      "dtype: int64\n"
     ]
    }
   ],
   "source": [
    "# 如果将布尔值作为Serrise的索引，则只保留True对应的元素值\n",
    "s = pd.Series(data=[1,2,3,4,5],index=[\"a\",\"b\",\"c\",\"d\",\"e\"])\n",
    "print(s)\n",
    "print(s[[True,True,False,False,True]] )"
   ]
  },
  {
   "cell_type": "markdown",
   "metadata": {},
   "source": [
    "### 其他操作(去重、相加、缺省)"
   ]
  },
  {
   "cell_type": "code",
   "execution_count": 23,
   "metadata": {},
   "outputs": [
    {
     "data": {
      "text/plain": [
       "array([1, 2, 3, 4, 5, 6, 7, 8], dtype=int64)"
      ]
     },
     "execution_count": 23,
     "metadata": {},
     "output_type": "execute_result"
    }
   ],
   "source": [
    "# unique() 对series元素进行去重\n",
    "s = pd.Series(data=[1,1,2,2,3,4,5,6,6,6,7,6,6,7,8])\n",
    "s.unique()"
   ]
  },
  {
   "cell_type": "code",
   "execution_count": 9,
   "metadata": {},
   "outputs": [
    {
     "name": "stdout",
     "output_type": "stream",
     "text": [
      "a    1\n",
      "b    2\n",
      "c    3\n",
      "d    4\n",
      "e    5\n",
      "dtype: int64\n",
      "a    1\n",
      "b    2\n",
      "c    3\n",
      "d    4\n",
      "f    5\n",
      "dtype: int64\n",
      "a     3.0\n",
      "b     6.0\n",
      "c     9.0\n",
      "d    12.0\n",
      "e     NaN\n",
      "f     NaN\n",
      "g     NaN\n",
      "dtype: float64\n"
     ]
    }
   ],
   "source": [
    "# 多个Series相加\n",
    "# - 在运算中自动对齐不同索引的数据\n",
    "#- 如果索引不对应，则补NaN\n",
    "s1 = pd.Series(data=[1,2,3,4,5],index=[\"a\",\"b\",\"c\",\"d\",\"e\"])\n",
    "print(s1)\n",
    "s2 = pd.Series(data=[1,2,3,4,5],index=[\"a\",\"b\",\"c\",\"d\",\"f\"])\n",
    "print(s2)\n",
    "s3 = pd.Series(data=[1,2,3,4,5],index=[\"a\",\"b\",\"c\",\"d\",\"g\"])\n",
    "s = s1 + s2 +s3\n",
    "print(s)"
   ]
  },
  {
   "cell_type": "code",
   "execution_count": 16,
   "metadata": {},
   "outputs": [
    {
     "name": "stdout",
     "output_type": "stream",
     "text": [
      "a    1.0\n",
      "b    2.0\n",
      "c    NaN\n",
      "d    4.0\n",
      "e    5.0\n",
      "dtype: float64\n",
      "a    False\n",
      "b    False\n",
      "c     True\n",
      "d    False\n",
      "e    False\n",
      "dtype: bool\n",
      "a     True\n",
      "b     True\n",
      "c    False\n",
      "d     True\n",
      "e     True\n",
      "dtype: bool\n"
     ]
    }
   ],
   "source": [
    "# 监测缺失的值isnull、notnull\n",
    "import pandas as pd\n",
    "import numpy as np\n",
    "s = pd.Series(data=[1,2,np.nan,4,5],index=[\"a\",\"b\",\"c\",\"d\",\"e\"])\n",
    "print(s)\n",
    "print(s.isnull())\n",
    "print(s.notnull())"
   ]
  },
  {
   "cell_type": "code",
   "execution_count": 25,
   "metadata": {},
   "outputs": [
    {
     "name": "stdout",
     "output_type": "stream",
     "text": [
      "c   NaN\n",
      "dtype: float64\n",
      "a    1.0\n",
      "b    2.0\n",
      "d    4.0\n",
      "e    5.0\n",
      "dtype: float64\n"
     ]
    }
   ],
   "source": [
    "# 取出所有空的数据和所有不为空的数据\n",
    "s = pd.Series(data=[1,2,np.nan,4,5],index=[\"a\",\"b\",\"c\",\"d\",\"e\"])\n",
    "print(s[s.isnull()])  # 取出所有nan的元素\n",
    "print(s[s.notnull()]) # 取出所有不是nan的元素"
   ]
  },
  {
   "cell_type": "markdown",
   "metadata": {},
   "source": [
    "## Time-Series"
   ]
  },
  {
   "cell_type": "markdown",
   "metadata": {},
   "source": [
    "时间序列（time series）数据是一种重要的结构化数据形式，具体的应用场景，主要有以下几种：\n",
    "\n",
    "- 时间戳（timestamp），特定的时刻。\n",
    "- 固定时期（period），如2007年1月或2010年全年。\n",
    "- 时间间隔（interval），由起始和结束时间戳表示。时期（period）可以被看做间隔（interval）的特例。\n",
    "- 实验或过程时间，每个时间点都是相对于特定起始时间的一个度量。例如，从放入烤箱时起，每秒钟饼干的直径。\n",
    "\n",
    "下表显示了pandas可以处理的时间相关类的类型以及如何创建它们：\n",
    "\n",
    "|Class|Remarks|How to create|\n",
    "| --- | ---| ---|\n",
    "|Timestamp|Represents a single timestamp|to_datetime, Timestamp|\n",
    "|DatetimeIndex|Index of Timestamp|to_datetime, date_range, bdate_range, DatetimeIndex|\n",
    "|Period|Represents a single time span|Period|\n",
    "|PeriodIndex|Index of Period|period_range, PeriodIndex|\n",
    "\n",
    "\n",
    "https://blog.csdn.net/qq_41518277/article/details/80288031\n"
   ]
  },
  {
   "cell_type": "markdown",
   "metadata": {},
   "source": [
    "### 时间戳Timestamp()"
   ]
  },
  {
   "cell_type": "code",
   "execution_count": 9,
   "metadata": {},
   "outputs": [
    {
     "name": "stdout",
     "output_type": "stream",
     "text": [
      "pd.Timestamp('2012-05-01'): 2012-05-01 00:00:00\n",
      "pd.Timestamp(2012, 5, 1): 2012-05-01 00:00:00\n"
     ]
    }
   ],
   "source": [
    "# 时间戳pd.Timestamp\n",
    "import pandas as pd\n",
    "print(\"pd.Timestamp('2012-05-01'):\",pd.Timestamp('2012-05-01'))\n",
    "print(\"pd.Timestamp(2012, 5, 1):\",pd.Timestamp(2012, 5, 1))"
   ]
  },
  {
   "cell_type": "markdown",
   "metadata": {},
   "source": [
    "### 格式转换to_datetime()"
   ]
  },
  {
   "cell_type": "code",
   "execution_count": 13,
   "metadata": {},
   "outputs": [
    {
     "name": "stdout",
     "output_type": "stream",
     "text": [
      "2017-03-22 15:16:45\n",
      "DatetimeIndex(['1960-01-02', '1960-01-03', '1960-01-06'], dtype='datetime64[ns]', freq=None)\n"
     ]
    }
   ],
   "source": [
    "# to_datetime(arg,errors=\"raise\",dayfirst=False,yearfirst=False,utc=None,box=True,\n",
    "#     format=None,exact=True,unit=None,infer_datetime_format=False,origin=\"unix\",cache=True,)\n",
    "import pandas as pd\n",
    "print(pd.to_datetime(1490195805, unit='s'))\n",
    "print(pd.to_datetime([1, 2, 5], unit='D', origin=pd.Timestamp('1960-01-01')))"
   ]
  },
  {
   "cell_type": "code",
   "execution_count": 11,
   "metadata": {},
   "outputs": [
    {
     "name": "stdout",
     "output_type": "stream",
     "text": [
      "2017-06-20   -0.141257\n",
      "2017-06-21   -0.567873\n",
      "2017-07-22   -1.659507\n",
      "2017-06-23   -0.470106\n",
      "2017-08-24    0.243152\n",
      "2017-05-25   -0.363135\n",
      "2017-06-26    0.773922\n",
      "2017-06-27    0.553342\n",
      "dtype: float64\n",
      "2017-06-20   -0.141257\n",
      "2017-06-21   -0.567873\n",
      "2017-06-23   -0.470106\n",
      "2017-06-26    0.773922\n",
      "2017-06-27    0.553342\n",
      "dtype: float64\n"
     ]
    }
   ],
   "source": [
    "import pandas as pd\n",
    "import numpy as np\n",
    "dates = ['2017-06-20','2017-06-21','2017-07-22','2017-06-23','2017-08-24','2017-05-25','2017-06-26','2017-06-27']\n",
    "ts = pd.Series(np.random.randn(8),index = pd.to_datetime(dates))\n",
    "print(ts)\n",
    "print(ts['2017-06'])"
   ]
  },
  {
   "cell_type": "markdown",
   "metadata": {},
   "source": [
    "### 时间序列data_range()"
   ]
  },
  {
   "cell_type": "code",
   "execution_count": 28,
   "metadata": {},
   "outputs": [
    {
     "name": "stdout",
     "output_type": "stream",
     "text": [
      "DatetimeIndex(['2019-01-01', '2019-01-02', '2019-01-03', '2019-01-04'], dtype='datetime64[ns]', freq='D')\n",
      "DatetimeIndex(['2017-01-01', '2017-01-02', '2017-01-03', '2017-01-04'], dtype='datetime64[ns]', freq='D')\n",
      "DatetimeIndex(['2017-01-01', '2017-01-02', '2017-01-03', '2017-01-04'], dtype='datetime64[ns]', freq='D')\n"
     ]
    }
   ],
   "source": [
    "import pandas as pd\n",
    "# Signature: pd.date_range(start=None, end=None, periods=None, freq='D',\n",
    "# tz=None, normalize=False, name=None, closed=None, **kwargs)\n",
    "\"\"\"\n",
    "    start : str or datetime-like, optional   起始日期\n",
    "        Left bound for generating dates.\n",
    "    end : str or datetime-like, optional     截止日期\n",
    "        Right bound for generating dates.\n",
    "    periods : integer, optional              区间\n",
    "        Number of periods to generate.\n",
    "    在调用构造方法时，必须指定start、end、periods中的两个参数值\n",
    "\"\"\"\n",
    "print(pd.date_range('20190101',periods=4))\n",
    "print(pd.date_range(start='2017-01-01', end='2017-01-04'))\n",
    "print(pd.date_range(end='2017-01-04',periods=4))"
   ]
  },
  {
   "cell_type": "code",
   "execution_count": 50,
   "metadata": {},
   "outputs": [
    {
     "name": "stdout",
     "output_type": "stream",
     "text": [
      "DatetimeIndex(['2017-12-31 08:10:50', '2018-12-31 08:10:50'], dtype='datetime64[ns]', freq='A-DEC')\n",
      "DatetimeIndex(['2017-01-31 08:10:50', '2017-02-28 08:10:50'], dtype='datetime64[ns]', freq='M')\n",
      "DatetimeIndex(['2017-01-01 08:10:50', '2017-01-02 08:10:50'], dtype='datetime64[ns]', freq='D')\n",
      "DatetimeIndex(['2017-01-01 08:10:50', '2017-01-06 08:10:50'], dtype='datetime64[ns]', freq='5D')\n",
      "DatetimeIndex(['2017-01-01 08:10:50', '2017-01-01 09:10:50'], dtype='datetime64[ns]', freq='H')\n",
      "DatetimeIndex(['2017-01-01 08:10:50', '2017-01-01 08:11:50'], dtype='datetime64[ns]', freq='T')\n",
      "DatetimeIndex(['2017-01-01 08:10:50', '2017-01-01 08:10:51'], dtype='datetime64[ns]', freq='S')\n"
     ]
    }
   ],
   "source": [
    "\"\"\"\n",
    "    freq : str or DateOffset, default 'D'   计时频率\n",
    "        Frequency strings can have multiples, e.g. '5H'. See\n",
    "        :ref:`here <timeseries.offset_aliases>` for a list of\n",
    "        frequency aliases.\n",
    "\n",
    "    pandas支持几十种计时频率，详见https://pandas.pydata.org/pandas-docs/stable/user_guide/timeseries.html#timeseries-offset-aliases\n",
    "\"\"\"\n",
    "print(pd.date_range(start='2017-01-01 08:10:50',periods=2,freq='y'))\n",
    "print(pd.date_range(start='2017-01-01 08:10:50',periods=2,freq='m'))\n",
    "print(pd.date_range(start='2017-01-01 08:10:50',periods=2,freq='d'))\n",
    "print(pd.date_range(start='2017-01-01 08:10:50',periods=2,freq='5d'))\n",
    "print(pd.date_range(start='2017-01-01 08:10:50',periods=2,freq='h'))\n",
    "print(pd.date_range(start='2017-01-01 08:10:50',periods=2,freq='t'))\n",
    "print(pd.date_range(start='2017-01-01 08:10:50',periods=2,freq='s'))"
   ]
  },
  {
   "cell_type": "code",
   "execution_count": 48,
   "metadata": {},
   "outputs": [
    {
     "name": "stdout",
     "output_type": "stream",
     "text": [
      "DatetimeIndex(['2017-01-01 08:10:50+08:00', '2017-01-02 08:10:50+08:00'], dtype='datetime64[ns, Asia/Hong_Kong]', freq='D')\n"
     ]
    }
   ],
   "source": [
    "\"\"\"\n",
    "    tz : str or tzinfo, optional  时区\n",
    "        Time zone name for returning localized DatetimeIndex, for example\n",
    "        'Asia/Hong_Kong'. By default, the resulting DatetimeIndex is\n",
    "        timezone-naive.\n",
    "\"\"\"\n",
    "print(pd.date_range(start='2017-01-01 08:10:50',periods=2,tz='Asia/Hong_Kong'))"
   ]
  },
  {
   "cell_type": "code",
   "execution_count": 23,
   "metadata": {},
   "outputs": [
    {
     "name": "stdout",
     "output_type": "stream",
     "text": [
      "DatetimeIndex(['2017-01-01 08:10:50', '2017-01-01 08:10:51',\n",
      "               '2017-01-01 08:10:52', '2017-01-01 08:10:53',\n",
      "               '2017-01-01 08:10:54', '2017-01-01 08:10:55',\n",
      "               '2017-01-01 08:10:56', '2017-01-01 08:10:57',\n",
      "               '2017-01-01 08:10:58', '2017-01-01 08:10:59'],\n",
      "              dtype='datetime64[ns]', freq='S')\n",
      "----------------------------------------------------------------------\n",
      "DatetimeIndex(['2017-01-01 00:00:00', '2017-01-01 00:00:01',\n",
      "               '2017-01-01 00:00:02', '2017-01-01 00:00:03',\n",
      "               '2017-01-01 00:00:04', '2017-01-01 00:00:05',\n",
      "               '2017-01-01 00:00:06', '2017-01-01 00:00:07',\n",
      "               '2017-01-01 00:00:08', '2017-01-01 00:00:09'],\n",
      "              dtype='datetime64[ns]', freq='S')\n"
     ]
    }
   ],
   "source": [
    "\"\"\"\n",
    "    normalize : bool, default False\n",
    "        Normalize start/end dates to midnight before generating date range. 生成之前将起始调整至次日0点\n",
    "\"\"\"\n",
    "print(pd.date_range(start='2017-01-01 08:10:50',periods=10,freq='s',normalize=False))\n",
    "print('-'*70)\n",
    "print(pd.date_range(start='2017-01-01 08:10:50',periods=10,freq='s',normalize=True))"
   ]
  },
  {
   "cell_type": "code",
   "execution_count": 58,
   "metadata": {},
   "outputs": [
    {
     "name": "stdout",
     "output_type": "stream",
     "text": [
      "DatetimeIndex(['2017-01-01', '2017-01-02', '2017-01-03', '2017-01-04'], dtype='datetime64[ns]', name='我的pd', freq='D')\n"
     ]
    }
   ],
   "source": [
    "\"\"\"\n",
    "name : str, default None\n",
    "        Name of the resulting DatetimeIndex.\n",
    "\"\"\"\n",
    "print(pd.date_range(start='2017-01-01', end='2017-01-04',name='我的pd'))"
   ]
  },
  {
   "cell_type": "code",
   "execution_count": 57,
   "metadata": {},
   "outputs": [
    {
     "name": "stdout",
     "output_type": "stream",
     "text": [
      "DatetimeIndex(['2017-01-01', '2017-01-02', '2017-01-03'], dtype='datetime64[ns]', freq='D')\n",
      "DatetimeIndex(['2017-01-02', '2017-01-03', '2017-01-04'], dtype='datetime64[ns]', freq='D')\n",
      "DatetimeIndex(['2017-01-01', '2017-01-02', '2017-01-03', '2017-01-04'], dtype='datetime64[ns]', freq='D')\n"
     ]
    }
   ],
   "source": [
    "\"\"\"\n",
    "    closed : {None, 'left', 'right'}, optional  开闭区间\n",
    "        Make the interval closed with respect to the given frequency to\n",
    "        the 'left', 'right', or both sides (None, the default).\n",
    "\"\"\"\n",
    "print(pd.date_range(start='2017-01-01', end='2017-01-04',closed='left'))\n",
    "print(pd.date_range(start='2017-01-01', end='2017-01-04',closed='right'))\n",
    "print(pd.date_range(start='2017-01-01', end='2017-01-04',closed=None))"
   ]
  },
  {
   "cell_type": "code",
   "execution_count": 60,
   "metadata": {},
   "outputs": [
    {
     "name": "stdout",
     "output_type": "stream",
     "text": [
      "['2017-01-01T10-00-00Z-1min', '2017-01-01T11-00-00Z-1min', '2017-01-01T12-00-00Z-1min', '2017-01-01T13-00-00Z-1min']\n"
     ]
    }
   ],
   "source": [
    "# 控制格式，输出list\n",
    "date_range = pd.date_range(start=\"2017-01-01 10:00:00\", end=\"2017-01-01 14:00:00\", closed=\"left\", freq=\"1h\").format(formatter=lambda x: x.strftime('%Y-%m-%dT%H-%M-%SZ-1min'))\n",
    "print(date_range) "
   ]
  },
  {
   "cell_type": "markdown",
   "metadata": {},
   "source": [
    "## DataFrame"
   ]
  },
  {
   "cell_type": "markdown",
   "metadata": {},
   "source": [
    "DataFrame是一种表格型数据结构，它含有一组有序的列，每列可以是不同的值。DataFrame既有行索引，也有列索引，它可以看作是由Series组成的字典，不过这些Series公用一个索引。"
   ]
  },
  {
   "cell_type": "markdown",
   "metadata": {},
   "source": [
    "### 创建DataFrame"
   ]
  },
  {
   "cell_type": "markdown",
   "metadata": {},
   "source": [
    "#### ndarray转化为dataframe"
   ]
  },
  {
   "cell_type": "code",
   "execution_count": 62,
   "metadata": {},
   "outputs": [
    {
     "name": "stdout",
     "output_type": "stream",
     "text": [
      "   0  1   2   3\n",
      "0  0  1   2   3\n",
      "1  4  5   6   7\n",
      "2  8  9  10  11\n",
      "                   a         b         c         d\n",
      "2019-01-01  0.942699  0.415446 -0.722186 -0.826837\n",
      "2019-01-02  0.378579 -0.565907  0.533810 -1.604506\n",
      "2019-01-03  0.780350  0.583535 -1.137213  1.590289\n",
      "2019-01-04 -0.313100  0.791528  0.383463  0.181570\n",
      "2019-01-05 -0.509561  0.519375 -1.900914  0.143416\n",
      "2019-01-06  1.202654 -0.170630 -0.924289 -0.422686\n"
     ]
    }
   ],
   "source": [
    "import pandas as pd\n",
    "import numpy as np\n",
    "\n",
    "# 不指定行列时，pandas会自动生成序号索引\n",
    "df1 = pd.DataFrame(np.arange(12).reshape(3,4))\n",
    "print(df1)\n",
    "\n",
    "# 行索引index，列索引columns\n",
    "df2 = pd.DataFrame(np.random.randn(6,4),index= pd.date_range('20190101',periods=6),columns=['a','b','c','d'])\n",
    "print(df2)"
   ]
  },
  {
   "cell_type": "markdown",
   "metadata": {},
   "source": [
    "#### 根据字典创建dataframe"
   ]
  },
  {
   "cell_type": "code",
   "execution_count": 12,
   "metadata": {},
   "outputs": [
    {
     "name": "stdout",
     "output_type": "stream",
     "text": [
      "    state  year  pop\n",
      "0    Ohio  2000  1.5\n",
      "1    Ohio  2001  1.7\n",
      "2    Ohio  2002  3.6\n",
      "3  Nevada  2001  2.4\n",
      "4  Nevada  2002  2.9\n"
     ]
    }
   ],
   "source": [
    "# 可以根据字典来创建DataFrame\n",
    "data = {\n",
    "    'state':['Ohio','Ohio','Ohio','Nevada','Nevada'],\n",
    "    'year':[2000,2001,2002,2001,2002],\n",
    "    'pop':[1.5,1.7,3.6,2.4,2.9]\n",
    "}\n",
    "frame = pd.DataFrame(data)\n",
    "print(frame)"
   ]
  },
  {
   "cell_type": "code",
   "execution_count": 13,
   "metadata": {},
   "outputs": [
    {
     "name": "stdout",
     "output_type": "stream",
     "text": [
      "      Nevada  Ohio\n",
      "2001     2.4   1.7\n",
      "2002     2.9   3.6\n",
      "2000     NaN   1.5\n"
     ]
    }
   ],
   "source": [
    "# 使用嵌套字典也可以创建DataFrame，此时外层字典的键作为列，内层键则作为索引:\n",
    "pop = {'Nevada':{2001:2.4,2002:2.9},'Ohio':{2000:1.5,2001:1.7,2002:3.6}}\n",
    "frame3 = pd.DataFrame(pop)\n",
    "print(frame3)"
   ]
  },
  {
   "cell_type": "markdown",
   "metadata": {},
   "source": [
    "#### 读取文件创建\n",
    "pandas可以读取csv、excel、hdf、sql、json、msgpack、html、gbq、stata、clipboard、pickle。读取的格式为read_xxx,写的格式为to_xxx\n",
    "该方法中几个重要的参数如下所示：\n",
    "\n",
    "|参数|描述|\n",
    "|---|---|\n",
    "|header|默认第一行为columns，如果指定header=None，则表明没有索引行，第一行就是数据|\n",
    "|index_col|默认作为索引的为第一列，可以设为index_col为-1，表明没有索引列|\n",
    "|nrows|表明读取的行数|\n",
    "|sep或delimiter|分隔符，read_csv默认是逗号，而read_table默认是制表符\\t|\n",
    "|encoding|编码格式|"
   ]
  },
  {
   "cell_type": "code",
   "execution_count": 64,
   "metadata": {},
   "outputs": [
    {
     "name": "stdout",
     "output_type": "stream",
     "text": [
      "   a  b  c\n",
      "0  1  2  6\n"
     ]
    }
   ],
   "source": [
    "import pandas as pd\n",
    "a = pd.read_csv('JobClass/net/cache/csvtest1.csv')\n",
    "print(a)"
   ]
  },
  {
   "cell_type": "markdown",
   "metadata": {},
   "source": [
    "参考：  \n",
    "1.[Pandas库read_excel()参数详解](https://www.jianshu.com/p/d1eed925509b)  \n",
    "2.[pandas读取文件的read_csv()](https://www.jianshu.com/p/ebb64a159104)\n"
   ]
  },
  {
   "cell_type": "markdown",
   "metadata": {},
   "source": [
    "###  DataFrame属性"
   ]
  },
  {
   "cell_type": "code",
   "execution_count": 82,
   "metadata": {},
   "outputs": [
    {
     "name": "stdout",
     "output_type": "stream",
     "text": [
      "     A  B\n",
      "0  aaa  1\n",
      "1  aaa  2\n",
      "----------\n",
      "A      object\n",
      "B    category\n",
      "dtype: object\n",
      "----------\n",
      "df2.shape:\n",
      " (2, 2)\n",
      "----------\n",
      "df2.index:\n",
      " RangeIndex(start=0, stop=2, step=1)\n",
      "----------\n",
      "df2.columns:\n",
      " Index(['A', 'B'], dtype='object')\n",
      "----------\n",
      "df2.values:\n",
      " [['aaa' 1]\n",
      " ['aaa' 2]]\n",
      "----------\n",
      "df2.info:\n",
      " <bound method DataFrame.info of      A  B\n",
      "0  aaa  1\n",
      "1  aaa  2>\n",
      "----------\n",
      "df2.size:\n",
      " 4\n",
      "----------\n",
      "len(df2):\n",
      " 2\n"
     ]
    }
   ],
   "source": [
    "df2 = pd.DataFrame({'A':'aaa','B':pd.Categorical([1,2])}) #缺失的会复制\n",
    "print(df2)\n",
    "print('-'*10)\n",
    "print(df2.dtypes)\n",
    "print('-'*10)\n",
    "print('df2.shape:\\n',df2.shape) # 打印行索引\n",
    "print('-'*10)\n",
    "print('df2.index:\\n',df2.index) # 打印行索引\n",
    "print('-'*10)\n",
    "print('df2.columns:\\n',df2.columns)# 打印列索引\n",
    "print('-'*10)\n",
    "print('df2.values:\\n',df2.values) # 打印值\n",
    "print('-'*10)\n",
    "print('df2.info:\\n',df2.info)\n",
    "print('-'*10)\n",
    "print('df2.size:\\n',df2.size)\n",
    "print('-'*10)\n",
    "print('len(df2):\\n',len(df2))  # 行数"
   ]
  },
  {
   "cell_type": "markdown",
   "metadata": {},
   "source": [
    "### 常用方法"
   ]
  },
  {
   "cell_type": "markdown",
   "metadata": {},
   "source": [
    "#### 排序"
   ]
  },
  {
   "cell_type": "code",
   "execution_count": 85,
   "metadata": {},
   "outputs": [
    {
     "name": "stdout",
     "output_type": "stream",
     "text": [
      "                   d         c         b         a\n",
      "2019-01-01 -0.773530 -0.876915  0.256293 -1.819657\n",
      "2019-01-02 -1.276202  0.116717 -1.313432  1.061195\n",
      "2019-01-03  0.399502 -0.629984  0.380458 -0.563719\n",
      "2019-01-04 -1.786003 -0.944398 -0.714544 -0.653221\n",
      "2019-01-05 -0.499158  0.344810  0.282402  0.295264\n",
      "2019-01-06  0.015072  0.189184 -1.581833  1.719717\n",
      "                   a         b         c         d\n",
      "2019-01-06  1.719717 -1.581833  0.189184  0.015072\n",
      "2019-01-05  0.295264  0.282402  0.344810 -0.499158\n",
      "2019-01-04 -0.653221 -0.714544 -0.944398 -1.786003\n",
      "2019-01-03 -0.563719  0.380458 -0.629984  0.399502\n",
      "2019-01-02  1.061195 -1.313432  0.116717 -1.276202\n",
      "2019-01-01 -1.819657  0.256293 -0.876915 -0.773530\n"
     ]
    }
   ],
   "source": [
    "# 按照索引排序\n",
    "datas = pd.date_range('20190101',periods=6)\n",
    "df = pd.DataFrame(np.random.randn(6,4),index=datas,columns=['a','b','c','d'])\n",
    "print(df.sort_index(axis=1,ascending=False))\n",
    "print(df.sort_index(axis=0,ascending=False))"
   ]
  },
  {
   "cell_type": "code",
   "execution_count": 87,
   "metadata": {},
   "outputs": [
    {
     "name": "stdout",
     "output_type": "stream",
     "text": [
      "                   a         b         c         d\n",
      "2019-01-06  0.106123  0.105421 -1.369104  0.698126\n",
      "2019-01-03  0.595433  0.071375 -0.853285  0.411410\n",
      "2019-01-01  1.663066 -0.269592 -0.709695 -0.144335\n",
      "2019-01-02 -1.048830  1.556569 -0.045415  0.430123\n",
      "2019-01-05  0.526896 -1.295929  0.665541 -0.677087\n",
      "2019-01-04  0.275615  0.358481  1.774940  0.997158\n"
     ]
    }
   ],
   "source": [
    "# 按照某属性排序\n",
    "datas = pd.date_range('20190101',periods=6)\n",
    "df = pd.DataFrame(np.random.randn(6,4),index=datas,columns=['a','b','c','d'])\n",
    "print(df.sort_values(by = 'c'))"
   ]
  },
  {
   "cell_type": "markdown",
   "metadata": {},
   "source": [
    "#### 索引/切片/筛选/修改"
   ]
  },
  {
   "cell_type": "code",
   "execution_count": 92,
   "metadata": {},
   "outputs": [
    {
     "name": "stdout",
     "output_type": "stream",
     "text": [
      "2019-01-01   -0.293477\n",
      "2019-01-02   -1.898795\n",
      "2019-01-03    0.446990\n",
      "2019-01-04   -0.087551\n",
      "2019-01-05    0.441745\n",
      "2019-01-06    0.789630\n",
      "Freq: D, Name: a, dtype: float64\n"
     ]
    }
   ],
   "source": [
    "df = pd.DataFrame(np.random.randn(6,4),index=datas,columns=['a','b','c','d'])\n",
    "print(df['a'])"
   ]
  },
  {
   "cell_type": "code",
   "execution_count": 93,
   "metadata": {},
   "outputs": [
    {
     "name": "stdout",
     "output_type": "stream",
     "text": [
      "                   a         b         c         d\n",
      "2019-01-01 -0.293477  0.490974  1.503297  0.941722\n",
      "2019-01-02 -1.898795  1.605605 -1.214222  1.532000\n",
      "2019-01-03  0.446990  0.141292 -0.664344 -0.314519\n"
     ]
    }
   ],
   "source": [
    "# 直接索引\n",
    "print(df[0:3])"
   ]
  },
  {
   "cell_type": "code",
   "execution_count": 97,
   "metadata": {},
   "outputs": [
    {
     "name": "stdout",
     "output_type": "stream",
     "text": [
      "                   a         b         c         d\n",
      "2019-01-01 -0.293477  0.490974  1.503297  0.941722\n",
      "2019-01-02 -1.898795  1.605605 -1.214222  1.532000\n",
      "2019-01-03  0.446990  0.141292 -0.664344 -0.314519\n",
      "                   b\n",
      "2019-01-01  0.490974\n",
      "2019-01-02  1.605605\n",
      "2019-01-03  0.141292\n"
     ]
    }
   ],
   "source": [
    "# 通过下标查找(类似于EXCEL中的行列号)\n",
    "print(df.iloc[0:3])\n",
    "print(df.iloc[0:3,1:2])"
   ]
  },
  {
   "cell_type": "code",
   "execution_count": 98,
   "metadata": {},
   "outputs": [
    {
     "name": "stdout",
     "output_type": "stream",
     "text": [
      "a   -0.293477\n",
      "b    0.490974\n",
      "c    1.503297\n",
      "d    0.941722\n",
      "Name: 2019-01-01 00:00:00, dtype: float64\n"
     ]
    }
   ],
   "source": [
    "# 通过标签查找(类似于EXCEL中的标签行列)\n",
    "print(df.loc['20190101',:])"
   ]
  },
  {
   "cell_type": "code",
   "execution_count": 99,
   "metadata": {},
   "outputs": [
    {
     "data": {
      "text/html": [
       "<div>\n",
       "<style scoped>\n",
       "    .dataframe tbody tr th:only-of-type {\n",
       "        vertical-align: middle;\n",
       "    }\n",
       "\n",
       "    .dataframe tbody tr th {\n",
       "        vertical-align: top;\n",
       "    }\n",
       "\n",
       "    .dataframe thead th {\n",
       "        text-align: right;\n",
       "    }\n",
       "</style>\n",
       "<table border=\"1\" class=\"dataframe\">\n",
       "  <thead>\n",
       "    <tr style=\"text-align: right;\">\n",
       "      <th></th>\n",
       "      <th>a</th>\n",
       "      <th>b</th>\n",
       "      <th>c</th>\n",
       "      <th>d</th>\n",
       "    </tr>\n",
       "  </thead>\n",
       "  <tbody>\n",
       "    <tr>\n",
       "      <td>2019-01-03</td>\n",
       "      <td>0.446990</td>\n",
       "      <td>0.141292</td>\n",
       "      <td>-0.664344</td>\n",
       "      <td>-0.314519</td>\n",
       "    </tr>\n",
       "    <tr>\n",
       "      <td>2019-01-05</td>\n",
       "      <td>0.441745</td>\n",
       "      <td>1.068232</td>\n",
       "      <td>3.798450</td>\n",
       "      <td>-0.956482</td>\n",
       "    </tr>\n",
       "    <tr>\n",
       "      <td>2019-01-06</td>\n",
       "      <td>0.789630</td>\n",
       "      <td>-0.240581</td>\n",
       "      <td>0.966190</td>\n",
       "      <td>-0.403511</td>\n",
       "    </tr>\n",
       "  </tbody>\n",
       "</table>\n",
       "</div>"
      ],
      "text/plain": [
       "                   a         b         c         d\n",
       "2019-01-03  0.446990  0.141292 -0.664344 -0.314519\n",
       "2019-01-05  0.441745  1.068232  3.798450 -0.956482\n",
       "2019-01-06  0.789630 -0.240581  0.966190 -0.403511"
      ]
     },
     "execution_count": 99,
     "metadata": {},
     "output_type": "execute_result"
    }
   ],
   "source": [
    "# 按条件筛选\n",
    "df[df['a']>0.01]"
   ]
  },
  {
   "cell_type": "code",
   "execution_count": 101,
   "metadata": {},
   "outputs": [
    {
     "data": {
      "text/html": [
       "<div>\n",
       "<style scoped>\n",
       "    .dataframe tbody tr th:only-of-type {\n",
       "        vertical-align: middle;\n",
       "    }\n",
       "\n",
       "    .dataframe tbody tr th {\n",
       "        vertical-align: top;\n",
       "    }\n",
       "\n",
       "    .dataframe thead th {\n",
       "        text-align: right;\n",
       "    }\n",
       "</style>\n",
       "<table border=\"1\" class=\"dataframe\">\n",
       "  <thead>\n",
       "    <tr style=\"text-align: right;\">\n",
       "      <th></th>\n",
       "      <th>a</th>\n",
       "      <th>b</th>\n",
       "      <th>c</th>\n",
       "      <th>d</th>\n",
       "    </tr>\n",
       "  </thead>\n",
       "  <tbody>\n",
       "    <tr>\n",
       "      <td>2019-01-01</td>\n",
       "      <td>0.103119</td>\n",
       "      <td>1.728918</td>\n",
       "      <td>-0.077861</td>\n",
       "      <td>-0.619911</td>\n",
       "    </tr>\n",
       "    <tr>\n",
       "      <td>2019-01-02</td>\n",
       "      <td>-0.065425</td>\n",
       "      <td>-1.481924</td>\n",
       "      <td>-0.185367</td>\n",
       "      <td>0.541923</td>\n",
       "    </tr>\n",
       "    <tr>\n",
       "      <td>2019-01-03</td>\n",
       "      <td>1.428972</td>\n",
       "      <td>1.008956</td>\n",
       "      <td>5.555500</td>\n",
       "      <td>-0.059672</td>\n",
       "    </tr>\n",
       "    <tr>\n",
       "      <td>2019-01-04</td>\n",
       "      <td>-1.292028</td>\n",
       "      <td>-0.626442</td>\n",
       "      <td>-0.223000</td>\n",
       "      <td>-0.405490</td>\n",
       "    </tr>\n",
       "    <tr>\n",
       "      <td>2019-01-05</td>\n",
       "      <td>0.660254</td>\n",
       "      <td>0.694858</td>\n",
       "      <td>0.009910</td>\n",
       "      <td>-0.440940</td>\n",
       "    </tr>\n",
       "    <tr>\n",
       "      <td>2019-01-06</td>\n",
       "      <td>0.500597</td>\n",
       "      <td>1.434796</td>\n",
       "      <td>-1.607235</td>\n",
       "      <td>0.660371</td>\n",
       "    </tr>\n",
       "  </tbody>\n",
       "</table>\n",
       "</div>"
      ],
      "text/plain": [
       "                   a         b         c         d\n",
       "2019-01-01  0.103119  1.728918 -0.077861 -0.619911\n",
       "2019-01-02 -0.065425 -1.481924 -0.185367  0.541923\n",
       "2019-01-03  1.428972  1.008956  5.555500 -0.059672\n",
       "2019-01-04 -1.292028 -0.626442 -0.223000 -0.405490\n",
       "2019-01-05  0.660254  0.694858  0.009910 -0.440940\n",
       "2019-01-06  0.500597  1.434796 -1.607235  0.660371"
      ]
     },
     "execution_count": 101,
     "metadata": {},
     "output_type": "execute_result"
    }
   ],
   "source": [
    "# 修改\n",
    "df = pd.DataFrame(np.random.randn(6,4),index=datas,columns=['a','b','c','d'])\n",
    "df.iloc[2,2] = 5.5555\n",
    "df"
   ]
  },
  {
   "cell_type": "code",
   "execution_count": 102,
   "metadata": {},
   "outputs": [
    {
     "data": {
      "text/html": [
       "<div>\n",
       "<style scoped>\n",
       "    .dataframe tbody tr th:only-of-type {\n",
       "        vertical-align: middle;\n",
       "    }\n",
       "\n",
       "    .dataframe tbody tr th {\n",
       "        vertical-align: top;\n",
       "    }\n",
       "\n",
       "    .dataframe thead th {\n",
       "        text-align: right;\n",
       "    }\n",
       "</style>\n",
       "<table border=\"1\" class=\"dataframe\">\n",
       "  <thead>\n",
       "    <tr style=\"text-align: right;\">\n",
       "      <th></th>\n",
       "      <th>a</th>\n",
       "      <th>b</th>\n",
       "      <th>c</th>\n",
       "      <th>d</th>\n",
       "    </tr>\n",
       "  </thead>\n",
       "  <tbody>\n",
       "    <tr>\n",
       "      <td>2019-01-01</td>\n",
       "      <td>0.103119</td>\n",
       "      <td>1.728918</td>\n",
       "      <td>-0.077861</td>\n",
       "      <td>-0.619911</td>\n",
       "    </tr>\n",
       "    <tr>\n",
       "      <td>2019-01-02</td>\n",
       "      <td>1.000000</td>\n",
       "      <td>1.000000</td>\n",
       "      <td>1.000000</td>\n",
       "      <td>1.000000</td>\n",
       "    </tr>\n",
       "    <tr>\n",
       "      <td>2019-01-03</td>\n",
       "      <td>1.428972</td>\n",
       "      <td>1.008956</td>\n",
       "      <td>5.555500</td>\n",
       "      <td>-0.059672</td>\n",
       "    </tr>\n",
       "    <tr>\n",
       "      <td>2019-01-04</td>\n",
       "      <td>1.000000</td>\n",
       "      <td>1.000000</td>\n",
       "      <td>1.000000</td>\n",
       "      <td>1.000000</td>\n",
       "    </tr>\n",
       "    <tr>\n",
       "      <td>2019-01-05</td>\n",
       "      <td>0.660254</td>\n",
       "      <td>0.694858</td>\n",
       "      <td>0.009910</td>\n",
       "      <td>-0.440940</td>\n",
       "    </tr>\n",
       "    <tr>\n",
       "      <td>2019-01-06</td>\n",
       "      <td>0.500597</td>\n",
       "      <td>1.434796</td>\n",
       "      <td>-1.607235</td>\n",
       "      <td>0.660371</td>\n",
       "    </tr>\n",
       "  </tbody>\n",
       "</table>\n",
       "</div>"
      ],
      "text/plain": [
       "                   a         b         c         d\n",
       "2019-01-01  0.103119  1.728918 -0.077861 -0.619911\n",
       "2019-01-02  1.000000  1.000000  1.000000  1.000000\n",
       "2019-01-03  1.428972  1.008956  5.555500 -0.059672\n",
       "2019-01-04  1.000000  1.000000  1.000000  1.000000\n",
       "2019-01-05  0.660254  0.694858  0.009910 -0.440940\n",
       "2019-01-06  0.500597  1.434796 -1.607235  0.660371"
      ]
     },
     "execution_count": 102,
     "metadata": {},
     "output_type": "execute_result"
    }
   ],
   "source": [
    "# 修改\n",
    "df[df['a']<0] = 1\n",
    "df"
   ]
  },
  {
   "cell_type": "markdown",
   "metadata": {},
   "source": [
    "#### 处理丢失的数据"
   ]
  },
  {
   "cell_type": "code",
   "execution_count": 115,
   "metadata": {},
   "outputs": [
    {
     "name": "stdout",
     "output_type": "stream",
     "text": [
      "                   a         b         c         d\n",
      "2019-01-01 -1.073643       NaN -1.058246  1.240005\n",
      "2019-01-02  0.618441 -0.050018       NaN       NaN\n",
      "2019-01-03  0.848731  0.415478  0.824901  0.997715\n",
      "2019-01-04  0.741603  0.146849 -0.559204 -0.438894\n",
      "2019-01-05  0.073006  1.176341 -0.375404 -1.591114\n",
      "2019-01-06 -0.016802 -0.152729 -0.096679  0.738606\n",
      "                a      b      c      d\n",
      "2019-01-01  False   True  False  False\n",
      "2019-01-02  False  False   True   True\n",
      "2019-01-03  False  False  False  False\n",
      "2019-01-04  False  False  False  False\n",
      "2019-01-05  False  False  False  False\n",
      "2019-01-06  False  False  False  False\n"
     ]
    }
   ],
   "source": [
    "# 查找缺失值\n",
    "df = pd.DataFrame(np.random.randn(6,4),index=datas,columns=['a','b','c','d'])\n",
    "df.iloc[0,1] = np.nan\n",
    "df.iloc[1,2] = np.nan\n",
    "df.iloc[1,3] = np.nan\n",
    "print(df)\n",
    "print(df.isnull())"
   ]
  },
  {
   "cell_type": "code",
   "execution_count": 111,
   "metadata": {},
   "outputs": [
    {
     "name": "stdout",
     "output_type": "stream",
     "text": [
      "                   a         b         c         d\n",
      "2019-01-01 -1.530504       NaN -0.488100 -1.279278\n",
      "2019-01-02 -0.343007  1.330938       NaN       NaN\n",
      "2019-01-03 -1.717791 -0.697572 -0.775688  1.085835\n",
      "2019-01-04  0.085303 -0.989818 -1.646650  0.402300\n",
      "2019-01-05 -0.535105 -1.366934 -0.487128  1.894784\n",
      "2019-01-06 -0.745172 -0.269233  1.208997 -0.057050\n",
      "                   a         b         c         d\n",
      "2019-01-03 -1.717791 -0.697572 -0.775688  1.085835\n",
      "2019-01-04  0.085303 -0.989818 -1.646650  0.402300\n",
      "2019-01-05 -0.535105 -1.366934 -0.487128  1.894784\n",
      "2019-01-06 -0.745172 -0.269233  1.208997 -0.057050\n"
     ]
    }
   ],
   "source": [
    "# 删除丢失的数据\n",
    "print(df.dropna(axis=0,how='all')) # all\n",
    "print(df.dropna(axis=0,how='any'))"
   ]
  },
  {
   "cell_type": "code",
   "execution_count": 113,
   "metadata": {},
   "outputs": [
    {
     "name": "stdout",
     "output_type": "stream",
     "text": [
      "                   a         b         c         d\n",
      "2019-01-01 -1.530504       inf -0.488100 -1.279278\n",
      "2019-01-02 -0.343007  1.330938       inf       inf\n",
      "2019-01-03 -1.717791 -0.697572 -0.775688  1.085835\n",
      "2019-01-04  0.085303 -0.989818 -1.646650  0.402300\n",
      "2019-01-05 -0.535105 -1.366934 -0.487128  1.894784\n",
      "2019-01-06 -0.745172 -0.269233  1.208997 -0.057050\n"
     ]
    }
   ],
   "source": [
    "# 将缺失值修改为特定值\n",
    "import numpy as np\n",
    "print(df.fillna(value=np.inf))"
   ]
  },
  {
   "cell_type": "markdown",
   "metadata": {},
   "source": [
    "#### 数据合并"
   ]
  },
  {
   "cell_type": "code",
   "execution_count": 116,
   "metadata": {},
   "outputs": [
    {
     "name": "stdout",
     "output_type": "stream",
     "text": [
      "     a    b    c    d\n",
      "0  0.0  0.0  0.0  0.0\n",
      "1  0.0  0.0  0.0  0.0\n",
      "2  0.0  0.0  0.0  0.0\n",
      "     a    b    c    d\n",
      "0  1.0  1.0  1.0  1.0\n",
      "1  1.0  1.0  1.0  1.0\n",
      "2  1.0  1.0  1.0  1.0\n",
      "     a    b    c    d\n",
      "0  2.0  2.0  2.0  2.0\n",
      "1  2.0  2.0  2.0  2.0\n",
      "2  2.0  2.0  2.0  2.0\n"
     ]
    }
   ],
   "source": [
    "import pandas as pd\n",
    "import numpy as np\n",
    "df0 = pd.DataFrame(np.ones((3,4))*0, columns=['a','b','c','d'])\n",
    "df1 = pd.DataFrame(np.ones((3,4))*1, columns=['a','b','c','d'])\n",
    "df2 = pd.DataFrame(np.ones((3,4))*2, columns=['a','b','c','d'])\n",
    "print(df0)\n",
    "print(df1)\n",
    "print(df2)"
   ]
  },
  {
   "cell_type": "code",
   "execution_count": 117,
   "metadata": {},
   "outputs": [
    {
     "name": "stdout",
     "output_type": "stream",
     "text": [
      "     a    b    c    d\n",
      "0  0.0  0.0  0.0  0.0\n",
      "1  0.0  0.0  0.0  0.0\n",
      "2  0.0  0.0  0.0  0.0\n",
      "0  1.0  1.0  1.0  1.0\n",
      "1  1.0  1.0  1.0  1.0\n",
      "2  1.0  1.0  1.0  1.0\n",
      "0  2.0  2.0  2.0  2.0\n",
      "1  2.0  2.0  2.0  2.0\n",
      "2  2.0  2.0  2.0  2.0\n"
     ]
    }
   ],
   "source": [
    "res = pd.concat([df0,df1,df2], axis=0)\n",
    "print(res)"
   ]
  },
  {
   "cell_type": "code",
   "execution_count": 118,
   "metadata": {},
   "outputs": [
    {
     "name": "stdout",
     "output_type": "stream",
     "text": [
      "     a    b    c    d    a    b    c    d    a    b    c    d\n",
      "0  0.0  0.0  0.0  0.0  1.0  1.0  1.0  1.0  2.0  2.0  2.0  2.0\n",
      "1  0.0  0.0  0.0  0.0  1.0  1.0  1.0  1.0  2.0  2.0  2.0  2.0\n",
      "2  0.0  0.0  0.0  0.0  1.0  1.0  1.0  1.0  2.0  2.0  2.0  2.0\n"
     ]
    }
   ],
   "source": [
    "res = pd.concat([df0,df1,df2], axis=1)\n",
    "print(res)"
   ]
  },
  {
   "cell_type": "code",
   "execution_count": 119,
   "metadata": {},
   "outputs": [
    {
     "name": "stdout",
     "output_type": "stream",
     "text": [
      "     a    b    c    d\n",
      "0  0.0  0.0  0.0  0.0\n",
      "1  0.0  0.0  0.0  0.0\n",
      "2  0.0  0.0  0.0  0.0\n",
      "3  1.0  1.0  1.0  1.0\n",
      "4  1.0  1.0  1.0  1.0\n",
      "5  1.0  1.0  1.0  1.0\n",
      "6  2.0  2.0  2.0  2.0\n",
      "7  2.0  2.0  2.0  2.0\n",
      "8  2.0  2.0  2.0  2.0\n"
     ]
    }
   ],
   "source": [
    "res = pd.concat([df0,df1,df2], axis=0, ignore_index=True)\n",
    "print(res)"
   ]
  },
  {
   "cell_type": "code",
   "execution_count": 120,
   "metadata": {},
   "outputs": [
    {
     "name": "stdout",
     "output_type": "stream",
     "text": [
      "     a    b    c    d\n",
      "1  0.0  0.0  0.0  0.0\n",
      "2  0.0  0.0  0.0  0.0\n",
      "3  0.0  0.0  0.0  0.0\n",
      "     b    c    d    e\n",
      "2  1.0  1.0  1.0  1.0\n",
      "3  1.0  1.0  1.0  1.0\n",
      "4  1.0  1.0  1.0  1.0\n"
     ]
    }
   ],
   "source": [
    "# join,['inner','outer']\n",
    "import pandas as pd\n",
    "import numpy as np\n",
    "df0 = pd.DataFrame(np.ones((3,4))*0, columns=['a','b','c','d'],index=[1,2,3])\n",
    "df1 = pd.DataFrame(np.ones((3,4))*1, columns=['b','c','d','e'],index=[2,3,4])\n",
    "print(df0)\n",
    "print(df1)"
   ]
  },
  {
   "cell_type": "code",
   "execution_count": 121,
   "metadata": {},
   "outputs": [
    {
     "name": "stdout",
     "output_type": "stream",
     "text": [
      "     a    b    c    d    e\n",
      "1  0.0  0.0  0.0  0.0  NaN\n",
      "2  0.0  0.0  0.0  0.0  NaN\n",
      "3  0.0  0.0  0.0  0.0  NaN\n",
      "2  NaN  1.0  1.0  1.0  1.0\n",
      "3  NaN  1.0  1.0  1.0  1.0\n",
      "4  NaN  1.0  1.0  1.0  1.0\n"
     ]
    }
   ],
   "source": [
    "res = pd.concat([df0,df1],join='outer',sort=False)\n",
    "print(res)"
   ]
  },
  {
   "cell_type": "code",
   "execution_count": 122,
   "metadata": {},
   "outputs": [
    {
     "name": "stdout",
     "output_type": "stream",
     "text": [
      "     b    c    d\n",
      "0  0.0  0.0  0.0\n",
      "1  0.0  0.0  0.0\n",
      "2  0.0  0.0  0.0\n",
      "3  1.0  1.0  1.0\n",
      "4  1.0  1.0  1.0\n",
      "5  1.0  1.0  1.0\n"
     ]
    }
   ],
   "source": [
    "res = pd.concat([df0,df1],join='inner',ignore_index=True)\n",
    "print(res)"
   ]
  },
  {
   "cell_type": "markdown",
   "metadata": {},
   "source": [
    "### 绘图"
   ]
  },
  {
   "cell_type": "code",
   "execution_count": 123,
   "metadata": {},
   "outputs": [
    {
     "data": {
      "image/png": "[encoded data removed]",
      "text/plain": [
       "<Figure size 432x288 with 1 Axes>"
      ]
     },
     "metadata": {
      "needs_background": "light"
     },
     "output_type": "display_data"
    }
   ],
   "source": [
    "import pandas as pd\n",
    "import numpy as np\n",
    "import matplotlib.pyplot as plt\n",
    "%matplotlib inline\n",
    "data  = pd.Series(np.random.randn(1000),index=np.arange(1000))\n",
    "data = data.cumsum()\n",
    "data.plot()\n",
    "plt.show()"
   ]
  },
  {
   "cell_type": "code",
   "execution_count": 124,
   "metadata": {},
   "outputs": [
    {
     "name": "stdout",
     "output_type": "stream",
     "text": [
      "          A         B         C         D\n",
      "0  0.765409  2.017663  0.663203 -0.703863\n",
      "1 -0.781893  1.432395 -1.176868 -2.048685\n",
      "2  0.597268  0.413705 -0.606395  0.690893\n",
      "3 -1.848500  0.181674 -0.642415  0.091416\n",
      "4  0.480634  0.349679 -0.999269 -0.360089\n"
     ]
    },
    {
     "data": {
      "image/png": "[encoded data removed]",
      "text/plain": [
       "<Figure size 432x288 with 1 Axes>"
      ]
     },
     "metadata": {
      "needs_background": "light"
     },
     "output_type": "display_data"
    }
   ],
   "source": [
    "data = pd.DataFrame(np.random.randn(1000,4),index=np.arange(1000),columns=list('ABCD'))\n",
    "print(data.head())\n",
    "data = data.cumsum()\n",
    "data.plot()\n",
    "plt.show()"
   ]
  },
  {
   "cell_type": "code",
   "execution_count": null,
   "metadata": {},
   "outputs": [],
   "source": []
  }
 ],
 "metadata": {
  "kernelspec": {
   "display_name": "Python 3",
   "language": "python",
   "name": "python3"
  },
  "language_info": {
   "codemirror_mode": {
    "name": "ipython",
    "version": 3
   },
   "file_extension": ".py",
   "mimetype": "text/x-python",
   "name": "python",
   "nbconvert_exporter": "python",
   "pygments_lexer": "ipython3",
   "version": "3.7.4"
  },
  "toc-autonumbering": true,
  "toc-showcode": false,
  "toc-showmarkdowntxt": false,
  "toc-showtags": false
 },
 "nbformat": 4,
 "nbformat_minor": 4
}
