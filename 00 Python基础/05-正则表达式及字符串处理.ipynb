{
 "cells": [
  {
   "cell_type": "markdown",
   "metadata": {},
   "source": [
    "# 正则表达式\n",
    "&emsp;&emsp;正则表达式是一个特殊的字符序列，能帮助用户检查一个字符串是否与某种模式匹配，从而达成快速检索或替换符合某个模式、规则的文本。例如乐意在文档中使用一个正则表达式表示特定字符，然后将其全部删除或替换成别的字符。  \n",
    "&emsp;&emsp;Python 自1.5版本起增加了re 模块，它提供 Perl 风格的正则表达式模式。re 模块使 Python 语言拥有全部的正则表达式功能。compile 函数根据一个模式字符串和可选的标志参数生成一个正则表达式对象。该对象拥有一系列方法用于正则表达式匹配和替换[。re 模块也提供了与这些方法功能完全一致的函数，这些函数使用一个模式字符串做为它们的第一个参数。](http://www.runoob.com/python/python-reg-expressions.html)  \n",
    "&emsp;&emsp;模式字符串使用特殊的语法来表示一个正则表达式：  \n",
    "- 字母和数字表示他们自身。一个正则表达式模式中的字母和数字匹配同样的字符串。  \n",
    "- 多数字母和数字前加一个反斜杠时会拥有不同的含义。\n",
    "- 标点符号只有被转义时才匹配自身，否则它们表示特殊的含义。  \n",
    "- 反斜杠本身需要使用反斜杠转义。  \n",
    "- 由于正则表达式通常都包含反斜杠，所以你最好使用原始字符串来表示它们。模式元素(如 r'\\t'，等价于 '\\\\t')匹配相应的特殊字符。  \n",
    "- 下表列出了正则表达式模式语法中的特殊元素。如果你使用模式的同时提供了可选的标志修饰符，某些模式元素的含义可能会改变。"
   ]
  },
  {
   "cell_type": "markdown",
   "metadata": {},
   "source": [
    "|模式|描述|\n",
    "|--|--|\n",
    "|^|匹配字符串的开头|\n",
    "|$|匹配字符串的末尾。|\n",
    "|.|匹配任意字符，除了换行符，当re.DOTALL标记被指定时，则可以匹配包括换行符的任意字符。|\n",
    "|[...]|用来表示一组字符,单独列出：[amk] 匹配 'a'，'m'或'k'|\n",
    "|[^...]|不在[]中的字符：[^abc] 匹配除了a,b,c之外的字符。|\n",
    "|re*|匹配0个或多个的表达式。|\n",
    "|re+|匹配1个或多个的表达式。|\n",
    "|re?|匹配0个或1个由前面的正则表达式定义的片段，非贪婪方式|\n",
    "|re{ n}|精确匹配 n 个前面表达式。例如， o{2} 不能匹配 \"Bob\" 中的 \"o\"，但是能匹配 \"food\" 中的两个 o。|\n",
    "|re{ n,}|匹配 n 个前面表达式。例如， o{2,} 不能匹配\"Bob\"中的\"o\"，但能匹配 \"foooood\"中的所有 o。\"o{1,}\" 等价于 \"o+\"。\"o{0,}\" 则等价于 \"o*\"。|\n",
    "|re{ n, m}|匹配 n 到 m 次由前面的正则表达式定义的片段，贪婪方式|\n",
    "|a\\| b|匹配a或b|\n",
    "|(re)|对正则表达式分组并记住匹配的文本|\n",
    "|(?imx)|正则表达式包含三种可选标志：i, m, 或 x 。只影响括号中的区域。|\n",
    "|(?-imx)|正则表达式关闭 i, m, 或 x 可选标志。只影响括号中的区域。|\n",
    "|(?: re)|类似 (...), 但是不表示一个组|\n",
    "|(?imx: re)|在括号中使用i, m, 或 x 可选标志|\n",
    "|(?-imx: re)|在括号中不使用i, m, 或 x 可选标志|\n",
    "|(?#...)|注释.|\n",
    "|(?= re)|前向肯定界定符。如果所含正则表达式，以 ... 表示，在当前位置成功匹配时成功，否则失败。但一旦所含表达式已经尝试，匹配引擎根本没有提高；模式的剩余部分还要尝试界定符的右边。|\n",
    "|(?! re)|前向否定界定符。与肯定界定符相反；当所含表达式不能在字符串当前位置匹配时成功|\n",
    "|(?> re)|匹配的独立模式，省去回溯。|\n",
    "|\\w|匹配字母数字及下划线|\n",
    "|\\W|匹配非字母数字及下划线|\n",
    "|\\s|匹配任意空白字符，等价于 [\\t\\n\\r\\f].|\n",
    "|\\S|匹配任意非空字符|\n",
    "|\\d|匹配任意数字，等价于 [0-9].|\n",
    "|\\D|匹配任意非数字|\n",
    "|\\A|匹配字符串开始|\n",
    "|\\Z|匹配字符串结束，如果是存在换行，只匹配到换行前的结束字符串。|\n",
    "|\\z|匹配字符串结束|\n",
    "|\\G|匹配最后匹配完成的位置。|\n",
    "|\\b|匹配一个单词边界，也就是指单词和空格间的位置。例如， 'er\\b' 可以匹配\"never\" 中的 'er'，但不能匹配 \"verb\" 中的 'er'。|\n",
    "|\\B|匹配非单词边界。'er\\B' 能匹配 \"verb\" 中的 'er'，但不能匹配 \"never\" 中的 'er'。|\n",
    "|\\n, \\t, 等.|匹配一个换行符。匹配一个制表符。等|\n",
    "|\\1...\\9|匹配第n个分组的内容。|\n",
    "|\\10|匹配第n个分组的内容，如果它经匹配。否则指的是八进制字符码的表达式。|"
   ]
  },
  {
   "cell_type": "markdown",
   "metadata": {},
   "source": [
    "- 正则表达式可以包含一些可选标志修饰符来控制匹配的模式。修饰符被指定为一个可选的标志。多个标志可以通过按位 OR(|) 它们来指定。如 re.I | re.M 被设置成 I 和 M 标志："
   ]
  },
  {
   "cell_type": "markdown",
   "metadata": {},
   "source": [
    "|修饰符|描述|\n",
    "|--|--|\n",
    "|re.I  |使匹配对大小写不敏感|\n",
    "|re.L  |做本地化识别（locale-aware）匹配|\n",
    "|re.M  |多行匹配，影响 ^ 和 $|\n",
    "|re.S  |使 . 匹配包括换行在内的所有字符|\n",
    "|re.U  |根据Unicode字符集解析字符。这个标志影响 \\w, \\W, \\b, \\B.|\n",
    "|re.X  |该标志通过给予你更灵活的格式以便你将正则表达式写得更易于理解。|"
   ]
  },
  {
   "cell_type": "markdown",
   "metadata": {},
   "source": [
    "## re.match函数\n",
    "re.match 尝试从字符串的起始位置匹配一个模式，如果不是起始位置匹配成功的话，match()就返回none,语法为：\n",
    "\n",
    "```python\n",
    "re.match(pattern, string, flags=0)\n",
    "```\n",
    "- pattern：匹配的正则表达式\n",
    "- string：要匹配的字符串\n",
    "- flags：标志位，用于控制正则表达式的匹配方式，如：是否区分大小写，多行匹配等等，详见上节。\n",
    "  \n",
    "  举例如下："
   ]
  },
  {
   "cell_type": "code",
   "execution_count": 4,
   "metadata": {},
   "outputs": [
    {
     "name": "stdout",
     "output_type": "stream",
     "text": [
      "<re.Match object; span=(0, 3), match='www'>\n",
      "None\n",
      "<class 'int'>\n"
     ]
    }
   ],
   "source": [
    "import re\n",
    "print(re.match('www', 'www.runoob.com'))  # 在起始位置\n",
    "print(re.match('com', 'www.runoob.com'))         # 不在起始位置\n"
   ]
  },
  {
   "cell_type": "code",
   "execution_count": 3,
   "metadata": {},
   "outputs": [
    {
     "name": "stdout",
     "output_type": "stream",
     "text": [
      "<re.Match object; span=(0, 3), match='www'>\n",
      "(0, 3)\n",
      "None\n"
     ]
    }
   ],
   "source": [
    "import re\n",
    "a=re.match('www', 'www.runoob.com')\n",
    "print(a)\n",
    "print(a.span())  # 在起始位置\n",
    "b=re.match('com', 'www.runoob.com')\n",
    "print(b)         # 不在起始位置"
   ]
  },
  {
   "cell_type": "markdown",
   "metadata": {},
   "source": [
    "## re.search方法\n",
    "&emsp;&emsp;re.search 扫描整个字符串并返回第一个成功的匹配，函数语法如下所示(参数定义与match函数一致，不再赘述)：\n",
    "\n",
    "```python\n",
    "re.search(pattern, string, flags=0)\n",
    "```\n",
    "match和search的区别在于：re.match只匹配字符串的开始，如果字符串开始不符合正则表达式，则匹配失败，函数返回None；而re.search匹配整个字符串，直到找到一个匹配。"
   ]
  },
  {
   "cell_type": "code",
   "execution_count": 4,
   "metadata": {},
   "outputs": [
    {
     "name": "stdout",
     "output_type": "stream",
     "text": [
      "(0, 3)\n",
      "(11, 14)\n"
     ]
    }
   ],
   "source": [
    "import re\n",
    "print(re.search('www', 'www.runoob.com').span())  # 在起始位置匹配\n",
    "print(re.search('com', 'www.runoob.com').span())  # 不在起始位置匹配"
   ]
  },
  {
   "cell_type": "markdown",
   "metadata": {},
   "source": [
    "## re.sub检索和替换\n",
    "&emsp;&emsp;Python 的 re 模块提供了re.sub用于替换字符串中的匹配项，语法如下：\n",
    "\n",
    "```python\n",
    "re.sub(pattern, repl, string, count=0, flags=0)\n",
    "```\n",
    "- pattern : 正则中的模式字符串。\n",
    "- repl : 替换的字符串，也可为一个函数。\n",
    "- string : 要被查找替换的原始字符串。\n",
    "- count : 模式匹配后替换的最大次数，默认 0 表示替换所有的匹配。\n",
    "- flags：标志位，用于控制正则表达式的匹配方式。\n"
   ]
  },
  {
   "cell_type": "code",
   "execution_count": 5,
   "metadata": {},
   "outputs": [
    {
     "name": "stdout",
     "output_type": "stream",
     "text": [
      "电话号码是:  2004-959-559 \n",
      "电话号码是:  2004959559\n"
     ]
    }
   ],
   "source": [
    "import re\n",
    "phone = \"2004-959-559 # 这是一个国外电话号码\"\n",
    "# 删除字符串中的 Python注释\n",
    "num = re.sub(r'#.*$', \"\", phone)\n",
    "print(\"电话号码是: \", num)\n",
    "# 删除非数字(-)的字符串\n",
    "num = re.sub(r'\\D', \"\", phone)\n",
    "print(\"电话号码是: \", num)"
   ]
  },
  {
   "cell_type": "code",
   "execution_count": 6,
   "metadata": {},
   "outputs": [
    {
     "name": "stdout",
     "output_type": "stream",
     "text": [
      "A46G8HFD1134\n"
     ]
    }
   ],
   "source": [
    "import re\n",
    "# 将匹配的数字乘以 2\n",
    "def double(matched):\n",
    "    value = int(matched.group('value'))\n",
    "    return str(value * 2)\n",
    "\n",
    "\n",
    "s = 'A23G4HFD567'\n",
    "print(re.sub('(?P<value>\\d+)', double, s))"
   ]
  },
  {
   "cell_type": "markdown",
   "metadata": {},
   "source": [
    "## re.compile 函数\n",
    "&emsp;&emsp;compile 函数用于编译正则表达式，生成一个正则表达式（ Pattern ）对象，供 match() 和 search() 这两个函数使用,可以提高编译效率，语法格式为：\n",
    "\n",
    "```python\n",
    "re.compile(pattern[, flags])\n",
    "```"
   ]
  },
  {
   "cell_type": "markdown",
   "metadata": {},
   "source": [
    "## findall 函数\n",
    "&emsp;&emsp;在字符串中找到正则表达式所匹配的所有子串，并返回一个列表，如果没有找到匹配的，则返回空列表，语法格式为：\n",
    "\n",
    "```python\n",
    "findall(string[, pos[, endpos]])\n",
    "```\n",
    "- string : 待匹配的字符串。\n",
    "- pos : 可选参数，指定字符串的起始位置，默认为 0。\n",
    "- endpos : 可选参数，指定字符串的结束位置，默认为字符串的长度。"
   ]
  },
  {
   "cell_type": "code",
   "execution_count": 7,
   "metadata": {},
   "outputs": [
    {
     "name": "stdout",
     "output_type": "stream",
     "text": [
      "['123', '456']\n",
      "['88', '12']\n"
     ]
    }
   ],
   "source": [
    "import re\n",
    "pattern = re.compile(r'\\d+')  # 查找数字\n",
    "result1 = pattern.findall('runoob 123 google 456')\n",
    "result2 = pattern.findall('run88oob123google456', 0, 10)\n",
    "\n",
    "print(result1)\n",
    "print(result2)"
   ]
  },
  {
   "cell_type": "markdown",
   "metadata": {},
   "source": [
    "## re.split函数\n",
    "&emsp;&emsp;split 方法按照能够匹配的子串将字符串分割后返回列表，它的使用形式如下：\n",
    "```python\n",
    "re.split(pattern, string[, maxsplit=0, flags=0])\n",
    "```\n",
    "- pattern\t匹配的正则表达式\n",
    "- string\t要匹配的字符串。\n",
    "- maxsplit\t分隔次数，maxsplit=1 分隔一次，默认为 0，不限制次数。\n",
    "- flags\t标志位，用于控制正则表达式的匹配方。"
   ]
  },
  {
   "cell_type": "code",
   "execution_count": 8,
   "metadata": {},
   "outputs": [
    {
     "name": "stdout",
     "output_type": "stream",
     "text": [
      "['runoob', ' runoob', ' runoob', '']\n"
     ]
    }
   ],
   "source": [
    "import re\n",
    "a=re.split('\\.', 'runoob. runoob. runoob.')\n",
    "print(a)"
   ]
  },
  {
   "cell_type": "markdown",
   "metadata": {},
   "source": [
    "## group(num) 、 groups() \n",
    "&emsp;&emsp;我们可以使用group(num) 或 groups() 匹配对象函数来获取匹配表达式。\n"
   ]
  },
  {
   "cell_type": "code",
   "execution_count": 9,
   "metadata": {},
   "outputs": [
    {
     "name": "stdout",
     "output_type": "stream",
     "text": [
      "('010', '12345')\n",
      "010\n",
      "None\n"
     ]
    }
   ],
   "source": [
    "import re\n",
    "re_telephone=re.compile(r'^(\\d{3})-(\\d{3,8}$)')\n",
    "print(re_telephone.match('010-12345').groups())\n",
    "print(re_telephone.match('010-12345').group(1))\n",
    "print(re_telephone.match('01012345'))"
   ]
  },
  {
   "cell_type": "code",
   "execution_count": null,
   "metadata": {},
   "outputs": [],
   "source": []
  }
 ],
 "metadata": {
  "kernelspec": {
   "display_name": "Python 3",
   "language": "python",
   "name": "python3"
  },
  "language_info": {
   "codemirror_mode": {
    "name": "ipython",
    "version": 3
   },
   "file_extension": ".py",
   "mimetype": "text/x-python",
   "name": "python",
   "nbconvert_exporter": "python",
   "pygments_lexer": "ipython3",
   "version": "3.7.4"
  },
  "toc-autonumbering": true
 },
 "nbformat": 4,
 "nbformat_minor": 4
}
