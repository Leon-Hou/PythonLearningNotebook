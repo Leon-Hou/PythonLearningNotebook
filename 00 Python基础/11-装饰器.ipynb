{
 "cells": [
  {
   "cell_type": "markdown",
   "metadata": {},
   "source": [
    "# 装饰器"
   ]
  },
  {
   "cell_type": "markdown",
   "metadata": {},
   "source": [
    "> 装饰器本质上是一个Python函数，它可以让其他函数在不需要做任何代码变动的前提下增加额外功能，装饰器的返回值也是一个函数对象。它经常用于有切面需求的场景，比如：插入日志、性能测试、事务处理、缓存、权限校验等场景。装饰器是解决这类问题的绝佳设计，有了装饰器，我们就可以抽离出大量与函数功能本身无关的雷同代码并继续重用<sup>[Re](https://www.cnblogs.com/cicaday/p/python-decorator.html)</sup>。  \n",
    "概括的讲，装饰器的作用就是为已经存在的函数或对象添加额外的功能。"
   ]
  },
  {
   "cell_type": "markdown",
   "metadata": {},
   "source": [
    "## 简单装饰器"
   ]
  },
  {
   "cell_type": "markdown",
   "metadata": {},
   "source": [
    "一个装饰器的示例如下：  \n",
    "其中： @ 符号就是装饰器的语法糖，它放在函数开始定义的地方，这样就可以省略最后一步再次赋值的操作。"
   ]
  },
  {
   "cell_type": "code",
   "execution_count": 4,
   "metadata": {},
   "outputs": [
    {
     "name": "stdout",
     "output_type": "stream",
     "text": [
      "[DEBUG]: enter say_hello()\n",
      "hello!\n"
     ]
    }
   ],
   "source": [
    "def debug(func):\n",
    "    def wrapper():\n",
    "        print(\"[DEBUG]: enter {}()\".format(func.__name__))\n",
    "        return func()\n",
    "    return wrapper\n",
    "\n",
    "@debug\n",
    "def say_hello():\n",
    "    print( \"hello!\")\n",
    "    \n",
    "say_hello()"
   ]
  },
  {
   "cell_type": "markdown",
   "metadata": {},
   "source": [
    "## 含参装饰器"
   ]
  },
  {
   "cell_type": "markdown",
   "metadata": {},
   "source": [
    "这是最简单的装饰器，但是有一个问题，如果被装饰的函数需要传入参数，那么这个装饰器就坏了。因为返回的函数并不能接受参数，你可以指定装饰器函数wrapper接受和原函数一样的参数，比如："
   ]
  },
  {
   "cell_type": "code",
   "execution_count": 8,
   "metadata": {},
   "outputs": [
    {
     "name": "stdout",
     "output_type": "stream",
     "text": [
      "[DEBUG]: enter say()\n",
      "hello xm!\n"
     ]
    }
   ],
   "source": [
    "def debug(func):\n",
    "    def wrapper(something):  # 指定一毛一样的参数\n",
    "        print(\"[DEBUG]: enter {}()\".format(func.__name__))\n",
    "        return func(something)\n",
    "    return wrapper  # 返回包装过函数\n",
    "\n",
    "@debug\n",
    "def say(something):\n",
    "    print( \"hello {}!\".format(something))\n",
    "    \n",
    "say('xm')"
   ]
  },
  {
   "cell_type": "markdown",
   "metadata": {},
   "source": [
    "这样你就解决了一个问题，但又多了N个问题。因为函数有千千万，你只管你自己的函数，别人的函数参数是什么样子，鬼知道？还好Python提供了可变参数\\*args和关键字参数\\*\\*kwargs，有了这两个参数，装饰器就可以用于任意目标函数了。"
   ]
  },
  {
   "cell_type": "code",
   "execution_count": 12,
   "metadata": {},
   "outputs": [
    {
     "name": "stdout",
     "output_type": "stream",
     "text": [
      "[DEBUG]: enter say()\n",
      "Prepare and say...\n",
      "hello xm!\n"
     ]
    }
   ],
   "source": [
    "def debug(func):\n",
    "    def wrapper(*args, **kwargs):  # 指定宇宙无敌参数\n",
    "        print( \"[DEBUG]: enter {}()\".format(func.__name__))\n",
    "        print( 'Prepare and say...',)\n",
    "        return func(*args, **kwargs)\n",
    "    return wrapper  # 返回\n",
    "\n",
    "@debug\n",
    "def say(something):\n",
    "    print(\"hello {}!\".format(something))\n",
    "    \n",
    "say('xm')"
   ]
  },
  {
   "cell_type": "markdown",
   "metadata": {},
   "source": [
    "例如我们要计算几个函数的运行时间，我们可以这样写："
   ]
  },
  {
   "cell_type": "code",
   "execution_count": 25,
   "metadata": {},
   "outputs": [
    {
     "name": "stdout",
     "output_type": "stream",
     "text": [
      "add运行时间为5.005070924758911\n",
      "3\n",
      "sub运行时间为3.000138998031616\n",
      "-1\n"
     ]
    }
   ],
   "source": [
    "import time\n",
    "\n",
    "# 定义装饰器\n",
    "def time_calc(func):\n",
    "    def wrapper(*args, **kargs):        \n",
    "        start_time = time.time()        \n",
    "        f = func(*args,**kargs)        \n",
    "        exec_time = time.time() - start_time \n",
    "        print('{}运行时间为{}'.format(func.__name__,exec_time))\n",
    "        return f    \n",
    "    return wrapper   \n",
    "    \n",
    "# 使用装饰器\n",
    "@time_calc    \n",
    "def add(a, b):\n",
    "    for i in range (0,5):\n",
    "        time.sleep(1)\n",
    "    return a+b\n",
    "    \n",
    "@time_calc\n",
    "def sub(a, b):    \n",
    "    for i in range (0,3):\n",
    "        time.sleep(1)\n",
    "    return a-b\n",
    "\n",
    "print(add(1,2))\n",
    "print(sub(1,2))"
   ]
  },
  {
   "cell_type": "markdown",
   "metadata": {},
   "source": [
    "带参数的装饰器和类装饰器属于进阶的内容。在理解这些装饰器之前，最好对函数的闭包和装饰器的接口约定有一定了解。([参见Python的闭包](https://www.cnblogs.com/cicaday/p/python-closure.html))  \n",
    "假设我们前文的装饰器需要完成的功能不仅仅是能在进入某个函数后打出log信息，而且还需指定log的级别，那么装饰器就会是这样的。"
   ]
  },
  {
   "cell_type": "code",
   "execution_count": 27,
   "metadata": {},
   "outputs": [
    {
     "name": "stdout",
     "output_type": "stream",
     "text": [
      "[INFO]: enter function say()\n",
      "say hello!\n",
      "[DEBUG]: enter function do()\n",
      "do my work...\n"
     ]
    }
   ],
   "source": [
    "def logging(level):\n",
    "    def wrapper(func):\n",
    "        def inner_wrapper(*args, **kwargs):\n",
    "            print(\"[{level}]: enter function {func}()\".format(\n",
    "                level=level,\n",
    "                func=func.__name__))\n",
    "            return func(*args, **kwargs)\n",
    "        return inner_wrapper\n",
    "    return wrapper\n",
    "\n",
    "@logging(level='INFO')\n",
    "def say(something):\n",
    "    print( \"say {}!\".format(something))\n",
    "\n",
    "# 如果没有使用@语法，等同于\n",
    "# say = logging(level='INFO')(say)\n",
    "\n",
    "@logging(level='DEBUG')\n",
    "def do(something):\n",
    "    print( \"do {}...\".format(something))\n",
    "\n",
    "if __name__ == '__main__':\n",
    "    say('hello')\n",
    "    do(\"my work\")"
   ]
  },
  {
   "cell_type": "markdown",
   "metadata": {},
   "source": [
    "## 基于类实现的装饰器"
   ]
  },
  {
   "cell_type": "markdown",
   "metadata": {},
   "source": [
    "装饰器函数其实是这样一个接口约束，它必须接受一个callable对象作为参数，然后返回一个callable对象。在Python中一般callable对象都是函数，但也有例外。只要某个对象重载了__call__()方法，那么这个对象就是callable的。  \n",
    "回到装饰器上的概念上来，装饰器要求接受一个callable对象，并返回一个callable对象（不太严谨，详见后文）。那么用类来实现也是也可以的。我们可以让类的构造函数__init__()接受一个函数，然后重载__call__()并返回一个函数，也可以达到装饰器函数的效果。"
   ]
  },
  {
   "cell_type": "code",
   "execution_count": 30,
   "metadata": {},
   "outputs": [
    {
     "name": "stdout",
     "output_type": "stream",
     "text": [
      "[DEBUG]: enter function say()\n",
      "say xm!\n"
     ]
    }
   ],
   "source": [
    "class logging(object):\n",
    "    def __init__(self, func):\n",
    "        self.func = func\n",
    "\n",
    "    def __call__(self, *args, **kwargs):\n",
    "        print( \"[DEBUG]: enter function {func}()\".format(\n",
    "            func=self.func.__name__))\n",
    "        return self.func(*args, **kwargs)\n",
    "@logging\n",
    "def say(something):\n",
    "    print( \"say {}!\".format(something))\n",
    "\n",
    "say('xm')"
   ]
  },
  {
   "cell_type": "markdown",
   "metadata": {},
   "source": [
    "如果需要通过类形式实现带参数的装饰器，那么会比前面的例子稍微复杂一点。那么在构造函数里接受的就不是一个函数，而是传入的参数。通过类把这些参数保存起来。然后在重载__call__方法是就需要接受一个函数并返回一个函数。"
   ]
  },
  {
   "cell_type": "code",
   "execution_count": 33,
   "metadata": {},
   "outputs": [
    {
     "name": "stdout",
     "output_type": "stream",
     "text": [
      "[INFO]: enter function say()\n",
      "say xm!\n"
     ]
    }
   ],
   "source": [
    "class logging(object):\n",
    "    def __init__(self, level='INFO'):\n",
    "        self.level = level\n",
    "        \n",
    "    def __call__(self, func): # 接受函数\n",
    "        def wrapper(*args, **kwargs):\n",
    "            print( \"[{level}]: enter function {func}()\".format(\n",
    "                level=self.level,\n",
    "                func=func.__name__))\n",
    "            func(*args, **kwargs)\n",
    "        return wrapper  #返回函数\n",
    "\n",
    "@logging(level='INFO')\n",
    "def say(something):\n",
    "    print( \"say {}!\".format(something))\n",
    "say('xm')"
   ]
  },
  {
   "cell_type": "markdown",
   "metadata": {},
   "source": [
    "# 内置装饰器\n",
    "内置的装饰器和普通的装饰器原理是一样的，只不过返回的不是函数，而是类对象，所以更难理解一些。"
   ]
  },
  {
   "cell_type": "markdown",
   "metadata": {},
   "source": [
    "## @property"
   ]
  },
  {
   "cell_type": "markdown",
   "metadata": {},
   "source": [
    " @property 可以把一个实例方法变成其同名属性，以支持实例访问，它返回的是一个property属性；"
   ]
  },
  {
   "cell_type": "code",
   "execution_count": 41,
   "metadata": {},
   "outputs": [
    {
     "name": "stdout",
     "output_type": "stream",
     "text": [
      "10\n",
      "314.1592653589793\n",
      "62.83185307179586\n"
     ]
    }
   ],
   "source": [
    "import math\n",
    "class Circle:\n",
    "    def __init__(self,radius): #圆的半径radius\n",
    "        self.radius=radius\n",
    "\n",
    "    @property\n",
    "    def area(self):\n",
    "        return math.pi * self.radius**2 #计算面积\n",
    "\n",
    "    @property\n",
    "    def perimeter(self):\n",
    "        return 2*math.pi*self.radius #计算周长\n",
    "\n",
    "# 我们可以通过实例访问到类中属性\n",
    "circle=Circle(10)\n",
    "print(circle.radius)\n",
    "\n",
    "# 通过@property装饰后的方法也可以像访问数据属性一样去访问area,会触发一个函数的执行,动态计算出一个值；\n",
    "print(circle.area) \n",
    "print(circle.perimeter) "
   ]
  },
  {
   "cell_type": "markdown",
   "metadata": {},
   "source": [
    "一个property对象还具有setter、deleter 可用作装饰器；setter是设置属性值。deleter用于删除属性值。而官方文档中给出了getter用于获取属性信息，但是实际使用中可以直接通过property获取属性信息；"
   ]
  },
  {
   "cell_type": "code",
   "execution_count": 45,
   "metadata": {},
   "outputs": [
    {
     "ename": "IndentationError",
     "evalue": "unindent does not match any outer indentation level (<tokenize>, line 5)",
     "output_type": "error",
     "traceback": [
      "\u001b[1;36m  File \u001b[1;32m\"<tokenize>\"\u001b[1;36m, line \u001b[1;32m5\u001b[0m\n\u001b[1;33m    @property\u001b[0m\n\u001b[1;37m    ^\u001b[0m\n\u001b[1;31mIndentationError\u001b[0m\u001b[1;31m:\u001b[0m unindent does not match any outer indentation level\n"
     ]
    }
   ],
   "source": [
    "class C:\n",
    "   def __init__(self):\n",
    "        self._x = None\n",
    "\n",
    "    @property\n",
    "    def x(self):\n",
    "        return self._x\n",
    "\n",
    "    @x.setter\n",
    "    def x(self, value):\n",
    "        self._x = value\n",
    "\n",
    "    @x.deleter\n",
    "    def x(self):\n",
    "        del self._x\n",
    "\n",
    "#实例化类\n",
    "c = C()\n",
    "# 为属性进行赋值\n",
    "c.x=100\n",
    "# 输出属性值\n",
    "print(c.x)\n",
    "# 删除属性\n",
    "del c.x"
   ]
  },
  {
   "cell_type": "markdown",
   "metadata": {},
   "source": [
    "总结：使用property：在设置属性时，可以对值对进检查，设置发生时，可以 修改设置的值，获取属性时，可以动态地计算值。"
   ]
  },
  {
   "cell_type": "markdown",
   "metadata": {},
   "source": [
    "##  @classmethod"
   ]
  },
  {
   "cell_type": "markdown",
   "metadata": {},
   "source": [
    "@classmethod   修饰的方法不需要实例化，不需要 self 参数，但第一个参数需要是表示自身类的 cls 参数，可以来调用类的属性，类的方法，实例化对象等。"
   ]
  },
  {
   "cell_type": "code",
   "execution_count": 46,
   "metadata": {},
   "outputs": [
    {
     "name": "stdout",
     "output_type": "stream",
     "text": [
      "这是类本身： <class '__main__.A'>\n",
      "这是类属性: 10\n",
      "这是类本身： <class '__main__.B'>\n",
      "这是类属性: 20\n"
     ]
    }
   ],
   "source": [
    "class A():\n",
    "    number = 10\n",
    "\n",
    "    @classmethod\n",
    "    def get_a(cls):     #cls 接收的是当前类，类在使用时会将自身传入到类方法的第一个参数\n",
    "        print('这是类本身：',cls)# 如果子类调用，则传入的是子类\n",
    "        print('这是类属性:',cls.number)\n",
    "\n",
    "class B(A):\n",
    "    number = 20\n",
    "    pass\n",
    "\n",
    "# 调用类方法 不需要实例化可以执行调用类方法\n",
    "A.get_a()\n",
    "B.get_a()"
   ]
  },
  {
   "cell_type": "markdown",
   "metadata": {},
   "source": [
    "## @staticmethod\n",
    "改变一个方法为静态方法，静态方法不需要传递隐性的第一参数，静态方法的本质类型就是一个函数 一个静态方法可以直接通过类进行调用，也可以通过实例进行调用；"
   ]
  },
  {
   "cell_type": "code",
   "execution_count": 48,
   "metadata": {},
   "outputs": [
    {
     "name": "stdout",
     "output_type": "stream",
     "text": [
      "1987 11 27\n",
      "2020 7 9\n",
      "2020 7 10\n"
     ]
    }
   ],
   "source": [
    "import time\n",
    "class Date:\n",
    "    def __init__(self,year,month,day):\n",
    "        self.year=year\n",
    "        self.month=month\n",
    "        self.day=day\n",
    "\n",
    "    @staticmethod\n",
    "    def now(): #用Date.now()的形式去产生实例,该实例用的是当前时间\n",
    "        t=time.localtime() #获取结构化的时间格式\n",
    "        return Date(t.tm_year,t.tm_mon,t.tm_mday) #新建实例并且返回\n",
    "\n",
    "\n",
    "    @staticmethod\n",
    "    def tomorrow():#用Date.tomorrow()的形式去产生实例,该实例用的是明天的时间\n",
    "        t=time.localtime(time.time()+86400)\n",
    "        return Date(t.tm_year,t.tm_mon,t.tm_mday)\n",
    "\n",
    "a=Date('1987',11,27) #自己定义时间\n",
    "print(a.year,a.month,a.day)\n",
    "b=Date.now() #采用当前时间\n",
    "print(b.year,b.month,b.day)\n",
    "c=Date.tomorrow() #采用明天的时间\n",
    "print(c.year,c.month,c.day)"
   ]
  },
  {
   "cell_type": "markdown",
   "metadata": {},
   "source": [
    "# functools.wraps(func)的使用"
   ]
  },
  {
   "cell_type": "markdown",
   "metadata": {},
   "source": [
    "当我们使用装饰器时，我们会发现以下问题："
   ]
  },
  {
   "cell_type": "code",
   "execution_count": 56,
   "metadata": {},
   "outputs": [],
   "source": [
    "def debug(func):\n",
    "    def wrapper():\n",
    "        print(\"[DEBUG]: enter {}()\".format(func.__name__))\n",
    "        return func()\n",
    "    return wrapper\n",
    "\n",
    "@debug\n",
    "def say_hello():\n",
    "    print( \"hello!\")\n",
    "\n",
    "def say_hello1():\n",
    "    print( \"hello!\")\n",
    "wrapper\n",
    "print(say_hello().__name__)  # 输出 wrapper\n",
    "print(say_hello1().__name__) # 输出 say_hello"
   ]
  },
  {
   "cell_type": "markdown",
   "metadata": {},
   "source": [
    "装饰器改变了原函数的名称，是我们丢失了函数原来的信息，那该怎么办呢，只需要在第一级中加入functools.wraps即可，如下所示："
   ]
  },
  {
   "cell_type": "code",
   "execution_count": 58,
   "metadata": {},
   "outputs": [],
   "source": [
    "def debug(func):\n",
    "    @functools.wraps(func)\n",
    "    def wrapper():\n",
    "        print(\"[DEBUG]: enter {}()\".format(func.__name__))\n",
    "        return func()\n",
    "    return wrapper\n",
    "\n",
    "@debug\n",
    "def say_hello():\n",
    "    print( \"hello!\")\n",
    "\n",
    "def say_hello1():\n",
    "    print( \"hello!\")\n",
    "wrapper\n",
    "print(say_hello().__name__)  # 输出 wrapper\n",
    "print(say_hello1().__name__) # 输出 say_hello"
   ]
  },
  {
   "cell_type": "markdown",
   "metadata": {},
   "source": [
    "# 多个装饰器运行顺序\n",
    "一个函数还可以同时定义多个装饰器，它的执行顺序是从里到外，最先调用最里层的装饰器，最后调用最外层的装饰器。\n",
    "```python\n",
    "@a\n",
    "@b\n",
    "@c\n",
    "def f ():\n",
    "    pass\n",
    "```"
   ]
  }
 ],
 "metadata": {
  "kernelspec": {
   "display_name": "Python 3",
   "language": "python",
   "name": "python3"
  },
  "language_info": {
   "codemirror_mode": {
    "name": "ipython",
    "version": 3
   },
   "file_extension": ".py",
   "mimetype": "text/x-python",
   "name": "python",
   "nbconvert_exporter": "python",
   "pygments_lexer": "ipython3",
   "version": "3.7.4"
  }
 },
 "nbformat": 4,
 "nbformat_minor": 4
}
