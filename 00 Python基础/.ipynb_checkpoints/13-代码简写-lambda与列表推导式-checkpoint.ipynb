{
 "cells": [
  {
   "cell_type": "markdown",
   "metadata": {},
   "source": [
    "# 匿名函数lambda\n",
    "在Python中有两种函数，一种是def定义的函数，另一种是lambda函数，也就是大家常说的匿名函数。  \n",
    "\n",
    "lambda语句块是函数的一种实现方式，称为匿名函数。在撸代码的时候，常常会想写一个函数，但是这个函数只会被调用一次，独立编写的这个函数就会十分污染环境了。lambda这个时候就发挥了作用，能够使代码更加简洁，某种程度上，一句话或者一行就实现的功能，可读性更高。"
   ]
  },
  {
   "cell_type": "markdown",
   "metadata": {},
   "source": [
    "lambda函数的特性如下：\n",
    "\n",
    "- 1.lambda函数是匿名的：所谓匿名函数，通俗地说就是没有名字的函数。lambda函数没有名字。\n",
    "\n",
    "- 2.lambda函数有输入和输出：输入是传入到参数列表argument_list的值，输出是根据表达式expression计算得到的值。\n",
    "\n",
    "- 3.lambda函数一般功能简单：单行expression决定了lambda函数不可能完成复杂的逻辑，只能完成非常简单的功能。由于其实现的功能一目了然，甚至不需要专门的名字来说明。"
   ]
  },
  {
   "cell_type": "markdown",
   "metadata": {},
   "source": [
    "## 语句构成\n",
    "`lambda argument_list:expersion`  \n",
    "- argument_list是参数列表，它的结构与Python中函数(function)的参数列表是一样的\n",
    "- expression是一个关于参数的表达式，表达式中出现的参数需要在argument_list中有定义，并且表达式只能是单行的。"
   ]
  },
  {
   "cell_type": "code",
   "execution_count": 6,
   "metadata": {},
   "outputs": [
    {
     "name": "stdout",
     "output_type": "stream",
     "text": [
      "3\n"
     ]
    },
    {
     "data": {
      "text/plain": [
       "3"
      ]
     },
     "execution_count": 6,
     "metadata": {},
     "output_type": "execute_result"
    }
   ],
   "source": [
    "# 两行写法\n",
    "sum2 = lambda a,b:a+b\n",
    "print(sum2(1,2))\n",
    "# 一行写法\n",
    "(lambda a,b:a+b)(1,2)"
   ]
  },
  {
   "cell_type": "code",
   "execution_count": 7,
   "metadata": {},
   "outputs": [
    {
     "name": "stdout",
     "output_type": "stream",
     "text": [
      "3\n",
      "-1\n"
     ]
    }
   ],
   "source": [
    "# 复杂例子\n",
    "f1 = lambda a,b,c : a+b if c>0 else a-b\n",
    "print(f1(1,2,1))\n",
    "print(f1(1,2,-1))"
   ]
  },
  {
   "cell_type": "markdown",
   "metadata": {},
   "source": [
    "## 常用场景\n",
    "lambda经常配合内置函数map、filter和reduce出现，使用列表推广常常可以替代这些功能，且可读性更高，一般不要使用内置函数。<sup>[Re-Blog](https://blog.csdn.net/gadwgdsk/article/details/79367232)</sup>"
   ]
  },
  {
   "cell_type": "markdown",
   "metadata": {},
   "source": [
    "- 1.map\n",
    "    - map是对列表进行映射，列表的元素个数不会发生改变，也可以使用列表推导来替代\n",
    "    - map的定义为：map(func, *iterables)，第一个参数为映射规则（表达式或函数），第二个参数是需要迭代运算的元组（列表，输入函数后不可变，因此使用元组）"
   ]
  },
  {
   "cell_type": "code",
   "execution_count": 9,
   "metadata": {},
   "outputs": [
    {
     "data": {
      "text/plain": [
       "[2, 3, 4]"
      ]
     },
     "execution_count": 9,
     "metadata": {},
     "output_type": "execute_result"
    }
   ],
   "source": [
    "l1 = [1,2,3]\n",
    "list(map(lambda x:x+1,l1))"
   ]
  },
  {
   "cell_type": "markdown",
   "metadata": {},
   "source": [
    "- 2.filter\n",
    "    - 顾名思义有，filter就是按照某种规则，筛选数据\n",
    "    - 该内置函数的定义为：filter(function or None, iterable)，与map的使用基本一样."
   ]
  },
  {
   "cell_type": "code",
   "execution_count": 11,
   "metadata": {},
   "outputs": [
    {
     "data": {
      "text/plain": [
       "[3, 4, 5, 6]"
      ]
     },
     "execution_count": 11,
     "metadata": {},
     "output_type": "execute_result"
    }
   ],
   "source": [
    "a = [1,2,3,4,5,6]\n",
    "list(filter(lambda x:x>2, a))"
   ]
  },
  {
   "cell_type": "markdown",
   "metadata": {},
   "source": [
    "- reduce\n",
    "    - reduce是对输入列表的所有数据按照给定表达式进行迭代运算\n",
    "    - reduce(function, sequence[, initial]) -> value"
   ]
  },
  {
   "cell_type": "code",
   "execution_count": 12,
   "metadata": {},
   "outputs": [
    {
     "data": {
      "text/plain": [
       "24"
      ]
     },
     "execution_count": 12,
     "metadata": {},
     "output_type": "execute_result"
    }
   ],
   "source": [
    "from functools import reduce\n",
    "b = [1,2,3,4]\n",
    "reduce(lambda x1,x2:x1*x2, b)"
   ]
  },
  {
   "cell_type": "markdown",
   "metadata": {},
   "source": [
    "## 其他"
   ]
  },
  {
   "cell_type": "markdown",
   "metadata": {},
   "source": [
    "An argumentless \"lambda\" keyword can be omitted in the following cases:<sup>[Re-PEP](https://www.python.org/dev/peps/pep-0312/)</sup>\n",
    "\n",
    "immediately after \"=\" in named parameter assignment or default value assignment;   \n",
    "\n",
    "immediately after \"(\" in any expression;\n",
    "\n",
    "\n",
    "immediately after a \",\" in a function argument list;\n",
    "\n",
    "\n",
    "immediately after a \":\" in a dictionary literal; (not implemented)\n",
    "\n",
    "\n",
    "in an assignment statement; (not implemented)"
   ]
  },
  {
   "cell_type": "markdown",
   "metadata": {},
   "source": [
    "# 序列推导式\n",
    "序列推导式是Python构建序列的一种快捷方式,可以使用简洁的代码就创建出一个列表。Python2.7之后，多种序列均已支持通过推导式来创建。"
   ]
  },
  {
   "cell_type": "markdown",
   "metadata": {},
   "source": [
    "## 列表推导式\n",
    "语法形式为：  \n",
    "`[expression for expr1 in sequence1 if condition1 ... for exprN in sequenceN if conditionN]`"
   ]
  },
  {
   "cell_type": "code",
   "execution_count": 24,
   "metadata": {},
   "outputs": [
    {
     "name": "stdout",
     "output_type": "stream",
     "text": [
      "[4, 5, 6, 7, 8, 9]\n",
      "[4, 5, 6, 7, 8, 9]\n"
     ]
    }
   ],
   "source": [
    "# 传统方式\n",
    "list_a = list()\n",
    "for a in range(10):\n",
    "    if a > 3:\n",
    "        list_a.append(a)\n",
    "print(list_a)\n",
    "\n",
    "# 列表推导式\n",
    "list_b = [b for b in range(10) if b>3]\n",
    "print(list_b)"
   ]
  },
  {
   "cell_type": "code",
   "execution_count": 15,
   "metadata": {},
   "outputs": [
    {
     "name": "stdout",
     "output_type": "stream",
     "text": [
      "['ppppppp', 'yyyyyyy', 'ttttttt', 'hhhhhhh', 'ooooooo', 'nnnnnnn']\n",
      "[1, 3, 5]\n",
      "[(0, 25), (0, 100), (1, 25), (1, 100), (2, 25), (2, 100)]\n",
      "[[0, 1, 2], [3, 4, 5], [6, 7, 8], [9, 10, 11], [12, 13, 14], [15, 16, 17], [18, 19, 20]]\n"
     ]
    }
   ],
   "source": [
    "# 复杂一点\n",
    "\n",
    "# in后面跟其他可迭代对象,如字符串\n",
    "list_c = [7 * c for c in \"python\"]\n",
    "print(list_c)\n",
    " \n",
    "# 带if条件语句的列表推导式\n",
    "list_d = [d for d in range(6) if d % 2 != 0]\n",
    "print(list_d)\n",
    " \n",
    "# 多个for循环\n",
    "list_e = [(e, f * f) for e in range(3) for f in range(5, 15, 5)]\n",
    "print(list_e)\n",
    " \n",
    "# 嵌套列表推导式,多个并列条件\n",
    "list_g = [[x for x in range(g - 3, g)] for g in range(22) if g % 3 == 0 and g != 0]\n",
    "print(list_g)"
   ]
  },
  {
   "cell_type": "markdown",
   "metadata": {},
   "source": [
    "代码解释<sup>[Re-Blog](https://blog.csdn.net/weixin_43790276/article/details/90247423)</sup>:\n",
    "- 1.列表推导式会遍历后面的可迭代对象,然后按照for前的表达式进行运算,生成最终的列表.\n",
    "- 2.如果有if条件语句,for遍历后紧跟着进行条件判断.\n",
    "- 3.如果有多个for循环,则最终的数据数量为多个for循环的笛卡尔积.\n",
    "- 4.可以进行嵌套的列表推导,与嵌套for循环的原理相同."
   ]
  },
  {
   "cell_type": "markdown",
   "metadata": {},
   "source": [
    "## 字典推导式"
   ]
  },
  {
   "cell_type": "code",
   "execution_count": 17,
   "metadata": {},
   "outputs": [
    {
     "name": "stdout",
     "output_type": "stream",
     "text": [
      "{'p': 4, 'y': 4, 't': 4, 'h': 4, 'o': 4, 'n': 4}\n",
      "{0: 0, 1: 1, 2: 4, 3: 9, 4: 16, 5: 25}\n",
      "{'HUAWEI': '华为', 'MI': '小米', 'OPPO': 'OPPO', 'VIVO': 'VIVO'}\n"
     ]
    }
   ],
   "source": [
    "# 因为key是唯一的,所以最后value都是1\n",
    "dict_a = {key: value for key in 'python' for value in range(5)}\n",
    "print(dict_a)\n",
    " \n",
    "# 可以根据键来构造值\n",
    "dict_b = {key: key * key for key in range(6)}\n",
    "print(dict_b)\n",
    " \n",
    "# 遍历一个有键值关系的可迭代对象\n",
    "list_phone = [('HUAWEI', '华为'), ('MI', '小米'), ('OPPO', 'OPPO'), ('VIVO', 'VIVO')]\n",
    "dict_c = {key: value for key, value in list_phone}\n",
    "print(dict_c)\n"
   ]
  },
  {
   "cell_type": "markdown",
   "metadata": {},
   "source": [
    "## 集合推导式"
   ]
  },
  {
   "cell_type": "code",
   "execution_count": 20,
   "metadata": {},
   "outputs": [
    {
     "name": "stdout",
     "output_type": "stream",
     "text": [
      "{'风', '云', '淡', ',', '负', '轻', '重', '前', '行', '有', '人'}\n",
      "{'风', '云', '淡', ',', '负', '轻', '重', '前', '行', '有', '人'}\n"
     ]
    }
   ],
   "source": [
    "# 遍历一个可迭代对象生成集合\n",
    "set_a = {value for value in '有人云淡风轻,有人负重前行'}\n",
    "print(set_a)\n",
    "# 用set()更简洁\n",
    "print(set('有人云淡风轻,有人负重前行'))"
   ]
  },
  {
   "cell_type": "code",
   "execution_count": null,
   "metadata": {},
   "outputs": [],
   "source": []
  }
 ],
 "metadata": {
  "kernelspec": {
   "display_name": "Python 3",
   "language": "python",
   "name": "python3"
  },
  "language_info": {
   "codemirror_mode": {
    "name": "ipython",
    "version": 3
   },
   "file_extension": ".py",
   "mimetype": "text/x-python",
   "name": "python",
   "nbconvert_exporter": "python",
   "pygments_lexer": "ipython3",
   "version": "3.7.4"
  }
 },
 "nbformat": 4,
 "nbformat_minor": 4
}
