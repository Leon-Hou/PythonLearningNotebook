{
 "cells": [
  {
   "cell_type": "markdown",
   "metadata": {},
   "source": [
    "https://martin-thoma.com/configuration-files-in-python/"
   ]
  },
  {
   "cell_type": "markdown",
   "metadata": {},
   "source": [
    "# 配置文件\n",
    "> 如果我们的程序没有任何配置文件时，这样的程序对外是全封闭的，一旦程序需要修改一些参数必须要修改程序代码本身并重新编译，这样很不好，所以要用配置文件，让程序出厂后还能根据需要进行必要的配置。"
   ]
  },
  {
   "cell_type": "markdown",
   "metadata": {},
   "source": [
    "## 配置文件简介"
   ]
  },
  {
   "cell_type": "markdown",
   "metadata": {},
   "source": [
    "在计算机科学领域，配置文件（英语：configuration file，台湾作设定档）是一种计算机文件，可以为一些计算机程序配置参数和初始设置。配置文件本质上是包含成功操作程序所需信息的文件，这些信息以特定方式构成。它们不是在程序中进行硬编码，而是用户可配置的，通常存储在纯文本文件中。 \n",
    "\n",
    "配置文件通常应用在以下场景中<sup>[Re-Web](https://martin-thoma.com/configuration-files-in-python/)</sup>：\n",
    "- 像博客、WIKI等内容提供者需要将数据库服务器信息(主句名称)和登录信息(用户名和密码)存储起来；\n",
    "- 一些软件需要存储注册信息、序列号等；\n",
    "- 科学软件需要存储数据库地址信息；"
   ]
  },
  {
   "cell_type": "markdown",
   "metadata": {},
   "source": [
    "在一些简单的项目中，你可能想将这些配置信息直接写入源码中，但这是非常不明智的，第一：这回增加后期维护的难度；第二：当你将代码上传至GitHub等网站时，这些敏感信息也被一并上传了。因此，最保险的做法是将这些信息单独存储起来，当我们将代码上传至GitHub时，可以通过编辑`.gitignore`避免这些信息被上传。  "
   ]
  },
  {
   "cell_type": "markdown",
   "metadata": {},
   "source": [
    "# 配置文件有哪些？"
   ]
  },
  {
   "cell_type": "markdown",
   "metadata": {},
   "source": [
    "## .py文件\n",
    "最简单的方式就是将配置信息写入某个.py文件中，你可以叫他databaseconfig.py，例如如下格式："
   ]
  },
  {
   "cell_type": "code",
   "execution_count": 5,
   "metadata": {},
   "outputs": [],
   "source": [
    "#!/usr/bin/env python\n",
    "import preprocessing\n",
    "\n",
    "mysql = {\n",
    "    \"host\": \"localhost\",\n",
    "    \"user\": \"root\",\n",
    "    \"passwd\": \"my secret password\",\n",
    "    \"db\": \"write-math\",\n",
    "}\n",
    "# preprocessing_queue = [\n",
    "#     preprocessing.scale_and_center,\n",
    "#     preprocessing.dot_reduction,\n",
    "#     preprocessing.connect_lines,\n",
    "# ]\n",
    "use_anonymous = True"
   ]
  },
  {
   "cell_type": "markdown",
   "metadata": {},
   "source": [
    "当需要调用相关配置时，你应该这样做："
   ]
  },
  {
   "cell_type": "code",
   "execution_count": 7,
   "metadata": {},
   "outputs": [],
   "source": [
    "#!/usr/bin/env python\n",
    "import databaseconfig as cfg\n",
    "connect(cfg.mysql[\"host\"], cfg.mysql[\"user\"], cfg.mysql[\"password\"])"
   ]
  },
  {
   "cell_type": "markdown",
   "metadata": {},
   "source": [
    "这种方式可以让你很方便的去定义配置信息，但当配置信息较多时并不太适用，且由于是.py的文件，不可避免地你会将部分源码写在文件内。"
   ]
  },
  {
   "cell_type": "markdown",
   "metadata": {},
   "source": [
    "## .JSON文件\n",
    "JSON(JavaScript Object Notation, JS 对象简谱) 是一种轻量级的数据交换格式。它基于 ECMAScript (欧洲计算机协会制定的js规范)的一个子集，采用完全独立于编程语言的文本格式(UTF-8)来存储和表示数据。简洁和清晰的层次结构使得 JSON 成为理想的数据交换语言。 易于人阅读和编写，同时也易于机器解析和生成，并有效地提升网络传输效率。  \n",
    "\n",
    "JSON格式的配置文件通常是如下形式的, 为了统一解析，JSON的字符串规定必须用双引号`\"\"`，Object的键也必须用双引号`\"\"`：  \n",
    "\n",
    "config.json：\n",
    "```json\n",
    "{\n",
    "    \"mysql\":{\n",
    "        \"host\":\"localhost\",\n",
    "        \"user\":\"root\",\n",
    "        \"passwd\":\"my secret password\",\n",
    "        \"db\":\"write-math\"\n",
    "    },\n",
    "    \"other\":{\n",
    "        \"preprocessing_queue\":[\n",
    "            \"preprocessing.scale_and_center\",\n",
    "            \"preprocessing.dot_reduction\",\n",
    "            \"preprocessing.connect_lines\"\n",
    "            ],\n",
    "        \"use_anonymous\":true\n",
    "    }\n",
    "}\n",
    "```"
   ]
  },
  {
   "cell_type": "markdown",
   "metadata": {},
   "source": [
    "### 读取\n",
    "通过`.load`可以将JSON格式数据转换为Python数据:"
   ]
  },
  {
   "cell_type": "code",
   "execution_count": 32,
   "metadata": {},
   "outputs": [
    {
     "name": "stdout",
     "output_type": "stream",
     "text": [
      "{'mysql': {'host': 'localhost', 'user': 'root', 'passwd': 'my secret password', 'db': 'write-math'}, 'other': {'preprocessing_queue': ['preprocessing.scale_and_center', 'preprocessing.dot_reduction', 'preprocessing.connect_lines'], 'use_anonymous': True}}\n"
     ]
    }
   ],
   "source": [
    "import json\n",
    "import os\n",
    "#用os模块来获取当前路径\n",
    "curpath=os.getcwd()\n",
    "confpath=curpath + r'\\99 cache\\42-test.json'\n",
    "with open(confpath) as json_data_file:\n",
    "    data = json.load(json_data_file)\n",
    "print(data)"
   ]
  },
  {
   "cell_type": "markdown",
   "metadata": {},
   "source": [
    "json中的数据类型转化为python格式转换对照如下：\n",
    "\n",
    "|json | python|\n",
    "|--|--|\n",
    "|object | dict|\n",
    "|array | list|\n",
    "|str | unicode|\n",
    "|number(int,real) | number(int/long,float)|\n",
    "|true,false | True,False|\n",
    "|null | None|\n",
    "------------------------------  \n",
    "Tips：元组(1,2,3)转化为json格式再转回来后会变为列表[1,2,3];"
   ]
  },
  {
   "cell_type": "markdown",
   "metadata": {},
   "source": [
    "### 写入\n",
    "而且JSON文件非常方便写入,可以使用`.dump`将python数据转换为JSON数据:"
   ]
  },
  {
   "cell_type": "code",
   "execution_count": 28,
   "metadata": {},
   "outputs": [
    {
     "name": "stdout",
     "output_type": "stream",
     "text": [
      "[\n",
      "    {\n",
      "        \"a\": 1,\n",
      "        \"b\": 2,\n",
      "        \"c\": 3,\n",
      "        \"d\": 4,\n",
      "        \"e\": 5\n",
      "    }\n",
      "]\n"
     ]
    }
   ],
   "source": [
    "#!/usr/bin/python\n",
    "import json\n",
    "# 转换\n",
    "data = [ { 'a' : 1, 'b' : 2, 'c' : 3, 'd' : 4, 'e' : 5 } ]\n",
    "json_data = json.dumps(data, indent=4)\n",
    "print(json_data)\n",
    "# 写入\n",
    "with open('config.json', 'w') as fp:\n",
    "        fp.write(json_data)"
   ]
  },
  {
   "cell_type": "markdown",
   "metadata": {},
   "source": [
    "python中的数据类型转化为json格式转换对照如下：\n",
    "\n",
    "python | json\n",
    "---|---\n",
    "dict | object\n",
    "list, tuple | array\n",
    "str,unicode | string\n",
    "number(int/long,float) | number(int,real)\n",
    "True,False | true,false\n",
    "None | null"
   ]
  },
  {
   "cell_type": "markdown",
   "metadata": {},
   "source": [
    "## .ini文件\n",
    "`*.ini`文件是Initialization file的缩写，即为初始化文件，是Windows系统配置文件所采用的存储格式，统管Windows的各项配置.在windows系统中，`*.ini`开始时使用于WIN3X下面，WIN95用注册表代替。"
   ]
  },
  {
   "cell_type": "markdown",
   "metadata": {},
   "source": [
    "ini配置文件由节(section)、键(key)、值(value)组成, 节通过`[]`包裹，注释使用分号表示（;），在分号后面的文字，直到该行结尾都全部为注释。  \n",
    "一般格式为：\n",
    "```ini\n",
    "[Section1 Name]\n",
    "KeyName1=value1\n",
    "KeyName2=value2\n",
    ";Section1 finish\n",
    "...\n",
    "[Sectionx Name]\n",
    "KeyName1=value1\n",
    "KeyName2=value2\n",
    ";Sectionx finish\n",
    "```\n",
    "`[Section Name]`用来表示一个段落，因为INI文件可能是项目中共用的，所以使用Section Name段名来区分不同用途的参数区,Keyname1=value1用来表示一个参数名和值。\n",
    "段名不可重复, 段内的参数对是有序的，可重复的。\n",
    "\n",
    "示例如下:\n",
    "```ini\n",
    "[mysql]\n",
    "host=localhost\n",
    "user=root\n",
    "passwd=my secret password\n",
    "db=write-math\n",
    "\n",
    "[other]\n",
    "preprocessing_queue=[\"preprocessing.scale_and_center\", \"preprocessing.dot_reduction\", \"preprocessing.connect_lines\"]\n",
    "use_anonymous=yes\n",
    "```"
   ]
  },
  {
   "cell_type": "markdown",
   "metadata": {},
   "source": [
    "### 读取\n",
    "在python中，我们可以通过configparser包来处理.ini格式文件，在99 cache文件夹创建一个42-test.ini文件:\n",
    "\n",
    "<img src=\"data:image/PNG;base64,iVBORw0KGgoAAAANSUhEUgAAAqcAAADlCAYAAABu6l5KAAAAAXNSR0IArs4c6QAAAARnQU1BAACxjwv8YQUAAAAJcEhZcwAAEnQAABJ0Ad5mH3gAADJwSURBVHhe7Z3vjx3Xed/5Z/hV0wXypkBeJG+IBGgFvxGCxs6bJQQ0BIxikRZgQiQCnBiEIYMO1GWdKIQTsLThBZ3AYHdpMG68pAIVCyObDaBoFVS8dOCuQhsM1zLplgiVSKVVVfQP+fQ8Z+bce+a5z9yZe+/M5bm7n4/wBe/MmZk7dzRz5rPnzI8TDgAAIGN2d3cJIccoyCkAAGSNdfIihBzdIKcAAJA11smLEHJ0g5wCAEDWWCevNH/1V3/l/uZv/oYQssSR4zge08gpAABkTSqidfk3//X/EkIyzb+++l5j5Dh+5513QpBTAADIGi2iVh784ENCyBJHjmPkFAAAlgItolYAYLmR4xg5BQCApUCLqBUAWG7kOEZOAQBgKdAiagUAlhs5jpFTgB743ve+F+46BFgG/vqv/7r8lDdaRK0AwHIjx/FSy6kIgATa8/bbb7tPfepTbm1trZKzZ8+yLTtCtqNsT9muCOp8yPb77Gc/O9xP5XO6Tb/85S+Xn2AekFMAyAU5jpdaTn//938/BNpz48aN4YleR4RKyq0gWe1IxTSGbTc977///lBKz58/HyRU9kP5LOOkTMbJZ2jHw4cPg4TKvxEZ1skZLaJWAGC5keMYOT1myAk+StO0QbImY4kp2242REJ/8zd/0w0Gg3LMCBmXblto5sc//rF79dVXhwKaCqqQu5RGtIhamYZ0P2qK1J25sf/iCXfixLrbL4cns+/WT/jpX2w3NcDTQo5j5PSY0UZOf/d3fzdsVz0+x8o5FyaJaQyC2g7ZTrK9LDEVYotpDExGRPTOnTvuvffec6+//ropqMdVTmW7tI1cEtUOkcBVt/WgHJyH19fdiee2XPVPCYCnS+zZmnROkzKZRqadFjmOkdNjRhs5jRJaNx7G+cY3vhG2jxYnSeySlsxyoB43pNVUYmFtX6gnduVLHjwobElEyxLUZUCLqJVpkG3x7W9/28zs1+Ajp3D0iXWxJaixgUGmmQU5jpdGTqWi+IM/+INKpKVKosfPXqkcfUSQ0hO7lSihdeOhHjnZ6e0m46A9ss2uXbtWDsGspGIquXXrVujelxbUSV38OaNF1Mo06GM1zUwNHyKT0nU+TNLlrsrWXy/Hex5eW03KCrEtuuyTGN3xYb6hvBbd9uuvP3Rbz43mG31PMX71GqoL3WAJ6rxiKshxvFRyGltKY+SaNIkej5zWM0lO6yRKtqmUI6fNIKfzI9sMOZ0PLaYx7777btgfRVDl3zh+WQRVi6iVp4/RchrENBHVB1tuNU6jy17fGs3b0HJqyWmUW6GQ3rhs5BS6JxXULsRUkON4aeTUIsootGeSnMoOJeVRpuSzJD56CjltBjmdH+nSl2uVmojXRsM46bWlaURO47/pdPLvMqBF1Mo0yP6je97qkrYOTUbLaSGFaUupIC2jQRQnCegMclqVz3RdkFPohyioknnFVJDjGDk9ZkyS05gooXXjoR7kdH7iX991N0QJcZr2wnC8mNRyKv9KF//du3eH449ry6nUaW3T/jjWchpbNI2ErvpRuRbYWeS0uox0HHIK/RDr467qZDmOkdNjhlSycSeqi/zlIzcE6PEyL8AikNZTuZ687lFSUlZ30xQUaEGV1lG55lS3qi6LmApaRK1MgwinvhEqprsboixpNAhd/SKp6jpV5BQyJoqpeENsQZ1XUOU4Rk6PGW3ktC7IqY08Yka2TZu0fxzN8UaeaiDyKftdfOC+XIcqn2WclPHkg2ZSQY0tf8vYYhrRImplGtL6TWf2c4uW0+mkcNjdLyCnkDGpmEa6EFQ5jpdaTuUvW25+mg6RI7lWL62E20TmQaxsrK78utDFPx1SwUVJlcjnef8qP26kgvp3f/d3SyumghZRK08fQxJFMivCKmK5HobjvwVKIMN8SUuqWjZyCk8LS0wj8wqqHMdLLacAANBMKqjLKqaCFlEr02D1btRlmj8sgzR6KUzFcjSuTHw0VBDQ0fiqPBZCOZoeOYWnj/RayZOSLDGNSJlMcywfwg8AAO2IgrqsYipoEbUyDfHSsDahxR5gRJue1Fl7W+U4Rk4BAGAp0CJqBQCWGzmOkVMAAFgKtIhaAYDlRo5j5BQAAJYCLaJWAGC5keMYOQUAgKVAi6gVAFhu5DhGTgEAYCnQImoFAJYbOY6RUwAAWAq0iFoBgOVGjmPkFAAAlgItolYAYLmR4xg5BQCApUCLqBUAWG7S4xk5BQCArElPWlZ4UD7A8vPBBx+UnxxyCgAAeWMJqQ4AHB2QUwAAyBpLRnUA4OiAnAIAQNZYMqoDAEcH5BQAALLGklEdADg6IKcAAJA1lozqAMDRATkFAICssWRUBwCODsgpAABkjSWjOgBwdEBOAQAgaywZJYQc3SCnAACQNdbJS+d73/ueu3fvnrt79262efvtt93t27fDv4SQ+iCn0D0Pb7ozK5fdoBys8sjdPLviLt8uB9ty+7JbOXvTzw0Axw1LRnXkhPaP//iPWeeHP/xhkFT5lxBSnyWS0xmlpkuaBEnKV1bKnHE3H5bjI03lCYNLcbpR5vntj14+07vcWevcGL9Od2TdjPEDGX+pVNzKth+4y7Xyq5Fp67d12C7D7x1fZlN5vxT7/JmX+/q/lsExBdACS0Z13nnnHffP//zPWeenP/2p++53vxv+JYTUpxM5ff/9991nP/tZt7a2VsnZs2dDV0snPPWWs4YTeWgtTCQoiGgiM03lChG9ipSE+duKxLiQLUJOh8zYchrWMcqopzI8o5zqZVZQ/w8KEU2W21TeOz3LaWWbAuSLJaM6Iqe5R3jrrbfCvwBQTydyeufOnTExjRFBvXHjhpnBoP1pfkzWFs1E4bLWryoWTeUa6/dOFK0KOchpbG20My6n49Ja+b0zyWm9CNtl6bim8kVQfF/dPjIvT/2YAmiJJaM6lgzmFgE5BWimdzltSruW1clds4tgshja0jKap6l8nFo5FUFTLXoF5Xd8VcpSESymq85blo3Jqmzn8XkLRqIk6xanMeVmlpZToxWvsn1mkdOJ62HvU6Pt3lRuE9Y52YbD35lud5+xZWihT/abxm2ult1Onp/+MQXQFktGdSwZzC0CcgrQzFOXU5m3iUkStxiaTuR2+Wi9m8rHsSQoCMpweUpCKiI2/n1DaRp+X7GM4XeUcpQus5gnLrMQpYr8BCkytosWLSNVgRotOy0frrOZZjmdLJK2JI+2cVP5ONXt5fHb4WY5/+BSdXzlEo+xbe+/++XROsjvHZbpbR6GJyy7hkn7HkBuWDKqY8lgbhGQU4BmlkBObUnQPHnyxP3FX/yFu3XrVjmmIFZcKTKNTCvztEIEYKyVMWWCfIb5msrHGRMrJSVakqqyUSenVaFLv9+WrnTbl6JUmabm/00QpDp5NOYJv80vO6xLzTIb/x9o7G2eMrZN4nqUv7GpvErz942o/sax/9dD6rd5Mb29reqXF6nZxgCZkkpoXSwZzC0CcgrQTP5yOlF0RnzpS18aLvPBgwdhnFRYcZx8FqQsjpN52tB8sp8gn0EsmsrHCbIoIjSM2gZBlOI4vfzx70tFNDIalwpPldFvt6ZJx8l36nVuk3/vXljz6/pylM8oTkqgKnKqyixaymxlO/vp5QkB6W9sKh9S+f9hUazzcFk+xfoX283+Len2jaTjJmzzmv0q0PKYAsiFVELrYslgbhGQU4BmspdTEShTBhT9yakIQNOJ3JalkXw2lY/TLMSyzFJAx0RsNjm1BKm9nKYU4/X3Dcdbv3n4G+K6xH91uaDKDGS9J5XX0TRfbfkkGS677UfbKV3/8f9XI4rp6rf5JLGtp+0xBZALqYTWxZLB3CI0yenDa/7E7M/MMeuvlwWZsP9idf22itMtQKf4XWt++pPTSSfuKn11608SyJRxmawKVFO5Znz6caJkjE87rZwW3zf+O9N1bBKlgrBM1XKnt2H4Li1VXcrprC2DTfNNKg9l9r6qf391/ce34QirLB03ad462h9TALmQSmhdLBnsK4e7m25jY8Nt7h6a5XUR5pJT/zktO+FFcdEgp7AI/K41P73J6aTWqIWQSkQDsq7pSV+ve1O5oo2cBiE66wV1TDbGW9Sa5LSQq0nzNIhSOX/xG4vxlW7mNLLMyvR+UWH7jKaZR07HZbANxTar3+ZN5cX/s8o29r8x3BAVfttIasP6hd9YjtD7hvy+5Iao2m0ujM0ry7+s9oeEynYEWA4sGdWxZLD7HLrdTZHSXbfds5ya0peBnEYmrifAnPhda376klM52dcJyEII8jfFiTyIQhQso4WtqTyhlZyWomKJWBSg+D1V0SwYGzcUxjKV6VuIUg2tZHEoTcUyo5yOttd47H1D5tOyXkPl/4exvKZyg9gqXGS0Hun4M148i99YlAXUdxXbtN02H/2/LjNhWz/1YwpgBiwZ1bFksOtIi+n2Lfk8eDpyGvFlq8gpHGHyldMgSpMFrm/aCeLTJIpcOfi0UYLVJrOt+4TfPZRcGCODYwpgFiwZ1bFksL/kK6fvvurcr/9isYwTP+vc2T/148oy4e+/7tzpnxuV//pLo/LYZf/nfhlxmn/1H/0875UTJCCn0Cd+15ofeX3p+fPnTfmcFJlH5rVo1drWK/lfm1e0mCEbKfn/QfH0ePrHFMBsWDKqY8lgf8lTTj94w7lfkvEqv+IFVTj0/37EKP+lzxfl+nrSmFW/ThrkFPrE71qwdAxbKBFTADj6WDKqY8lgf8lTTl/5jWLey/+zHPHdcrrn/HL94PpH/GefrbtFsZSfLsdJR1SU05U1L7I/9iNeLWVWfY+AnEKf+F0LAAAgXywZ1bFksL/kKadbXkJl3rGInMZ5SlGNxHn2/ecop8PvrvkeATmFPvG7FgAAQL5YMqpjyWB/yVNO//wTxbyXv1mOUOiW0w/8v6Hl9OerLafIKTxt/K4FAACQL5aM6lgy2F+ejpzGsrGUraHvvmxfUxqvGb39n8fLJKf/rChHTiEX/K4FAACQL5aM6lgy2HlubYeH74/lxsCeXkXoU06Fw/+e3K1fJr2haf8l537pZ4vxH/k559a/7twHsQw5hUzwuxYAAEC+WDKqY8lgbhE66dbPAOQU+gQ5BQCArLFkVMeSwdwitJXTGN6tD8cRv2sBAADkiyWjOpYM5hYBOQVo5oQcKIQQQkiusWRUx5LB3CLI7wGAyfi/ewAAZoMTLSwCS0Z1LBnMLQLHDEAzyCkAzAwnWlgElozqWDKYWwSOGYBmkFMAmBlOtLAILBnVsWQwtwgcMwDNIKcAMDOcaGERWDKqY8lgbhE4ZgCaQU4BYGY40cIisGRUx5LB3CJwzAA0g5wCwMxwooVFYMmojiWDfWRwI3071LYbGNPURVjqY+bRllvdOOFOlFm/U44H6BjkFABmBjmFRWDJqI4lg51HXl+avKo0iOrmrjtMp5kQ4WgcM/tuHTmFHkFOAWBmkFNYBJaM6lgy2Hvu7brNjU23e88oMyIgpwDNIKcAMDPIKSwCS0Z1LBnsPR3LaXg71IvqLVF+uMLrSZkqX/fDW3He57xCxs/pMtT8s72BaoKc3lkfdvubXf+q/MQr+2WBR8qubbmH6TQyXBbD8cHvmrPyyN08u+JWVk665195VI4bMbgkZWfcTfYqgCPLkZLT25d9nbXiLt8uhxdGrEt91q67++XYCu/suHNS3sH6FXXzZTeQgScH7srpZ9zpjQP3JJR63hm4K7/9rDsp3/fJHff9b11xpz962l351nCK6Zlz21oyqmPJYN/pult/KKVRJh84t6oEcj0VTVUucipS+rAcH5ZTymhQwPLz8JWjav5i3zByKewtCTVyGqRy1W1FJSivUR1Op8u9dm5dSwQ1SulQSIvvWX0NkThu+N1yVpIK9eR5t1ccd0OQU4CjD3LaxH2397lz7tSnbvoas46kLl057a4bm/TRy2d8PXsyCGOncvp4z1346Io79cUop4/d3mekTl9zl3f23d5fHrh7exfcMyun3GXktBq5/nRjw23fMspqIjTKqchlOSxs+eFVP76OtFzkNIhmKZ1BQsvPon/yXny9rPCu/FR4W2HL6f4r4yIp46J8pp+HBCFdL+Q5/VxizgNHnvnl9GOn3KmTK+7k5/ZHf3l7kFOAfHj0qF6N5gE5bWLgLot0nm0hp2fOuDO+Lv34xkE5PnLfXV9bcac/fc6d7lpOxyjXZeL6zsBRk9NSTDd3D+3ymgjzymmQSX/mTtNWTmVZet6QUk7nazktW0Gl5VMnyGVRPtYK+khaV8vWVOQUSvxuOSujSmzwdf9X/crH3cU3RnpaldMn7v5fXnbnTpddRSefdc9vDPzf6CWx4tq7625+bs3/lb7inlm74Pb8QfXkzavu+V8+6ctPumc/fd3dfb+cR3i0P+p++ugpdy5dJgAEvvCFL7gXXnjBvf322+WY7jg2cvrkvtu75OUw1EX+j/Ffft5deWNU2zz+1nV3/j8kddHX7/tz8U13RoaTnHnZUr5RXXrzkl/+x664ip6+ecV9fGXNXf/a+Po9/s5NdyF+r69X1z5z3R1UKsH7bv/S8+5ZL72h3v3Kgf8dsi5RTkt5FvmoW19ruzTUvfdfvTyqt3/7qjvYO0JyGq4znV5MJcI8chq7/VNVS8tnaTmdjfYtpym0nEJbOpHTR+Vf9iuro0q1KqeP3M5/Oueu7hy4+4/vu8FXng+V2rmdsjorK7+THz1TdCV97bw7JZXe6ml3+vR5d31v3+18cS3Ms/a18oqshzvueV/hnvq9627w4JG76yu/NRn+E93qAHB8uXTpkltbWwvpQ1CPjZz6+ubCp6+6nTfvu8cPBu7qJ0W8zrkd8Y23rrs1P9+pl266g1AXXXFnvKy5J4/cwf7V4lrRT1x0O/v77uCh1TU+qkvvBxE96S7uj6Y72Ph4Uc+q9Xvyrcuhnnzm7JWw7P2dog4c1cNP3ODzft6VZ/z67Lj9/T13/fdOu5MyjSWnYX133MVPqPXV26Wh7n3yxkX/G0brJfX56ZOF1C+/nA7ctjzfNHmc1DQR5pHT0GqalEdZbSunY9eczkzLa041Y+XqmlLkFEr8bjorqvvHV6pSUa59tZDHyd36A3cxVohCWfkNxdNXqvufk/k/7q68WY6K83xyJ3xfqLBVC8Pg875ctzoAHEM+/PBD90d/9EdDMe1LUI+NnGq8gA2nLec7v2eJ5xTd+skf+idfKi+TerLvLnrxC3/IV9bvsdv51Hh99+TVC+GP+Auv+rnLltDqZQJ33VWRT0tOA6peF9R2mVz3lvOr8rubpyvLmBZLRnUsGew61QfwJ2kpq8I8ciqEm55ivKymraGNciqUgpomzNOCh6+tenn0sqhSaS0NglktTyVWL2N8XuQU/H5Z/jsDuhJ74g6+eMpXQF5I/cGg5fTxW/6v9s+fd2c+cdqd+qiU+Sg5TSuuYv4LbtSAkH5f+VmWMZa6a6kAjgc/+tGP3MWLF91v/dZvmelSUI+PnD529/euu4ufOeNOf+JUuPRoOO2TA3d5VYalC/uyu3k71dBp5dS5+19b88sqWmVFNof1YGX9tFSWlEKadsdffKMsKynq1lnltKnuLZf3ebVeE7dtM5aM6lgymFuEI3XMAPREh3LqeX/gLn7M/9X/yR13M5XTslVVuoH2bt91jx7vmS2nacVVrUCF9PvKz2euu7uPH7vHlVitFwDQB8dFTg/+RP7wPuXOf23PDf7hkXu8l7ScCj957A52rrhzp4vrLEePZppeTuNjo87t3A2to8NW1Mr6tZdT/XtCK+e8clpb99asV9rSPAOWjOpYMphbBOQUoJlu5dRTdCuddGtr0o1TyOnBn8h1T0kXf3xm38xyKuXJNV8A8FQ4HnJ64K74P7rTuu7xzrmaaZ+4vd9L664Z5NQ9Lh7nJJdipJc2WZJoduufLK5Zfet6uLv/9ObdojBQ/paZ5bSp7r3vrodrVq+6yrfKpQDJMqbFklEdSwZzi4CcAjTTuZwWFWtx8XsU0vCMPl9hPv+VfTe4veeufuqZcF3UPHIaW2NPnr7gru8duIM3993ey5fd5Z36UwAAdMtRlNNzm/tuX24wKnPw8PtF3XPyeXd1f+AGe1fduY8mN/jclhugdtzBg8fu/ps33UXp4h/Wi2W9JfPu7bm9b1n103hd+mT/YlFHpvKp6sknfti6IerkJ296RRTK5ZYtvvv7O+7K2Wfrb4gKGPW6rp8b6t6ivi97yvx67Wyccc8emRui5ouAnAI004Ocesq7OUetpfIg6uIRUfIIlqtv7lUrxFnk1FN5fMvKM+7U2Qtu5y269QEWxVGUU53QRf5gz11Ye8YPG49GeuumO7cqZX5643FOo8fhPePO/eVYbemx6lIvjb4OPV3eYBow6snHb1x158N6+fnlkU6X9tz9n5SFwuMDd7V85FPx+KuDUljnkFPP5Lr3sTv4SvL4qo2BOwiPG0ROBeQUoJk55BQAjjucaGERWDKqY8lgbhE4ZgCaQU4BYGY40cIisGRUx5LB3CJwzAA0g5wCwMxwooVFYMmojiWDuUXgmAFoBjkFgJnhRAuLwJJRHUsGc4vAMQPQDHIKADPDiRYWgSWjOpYMdp7yvfqjt0Ntut17xnQ1EZbhmIlvcbLekz/2lije3gQ9gJwCwMwgp7AILBnVsWSw7xzubrqNzV13aJRZEfI+Zh66rWsipVvVd96XBDG9tpW8XlW9Gx+gI5BTAJgZ5BQWgSWjOpYM9p5b225jY9sNrDIjQs7HjMhn8R58WzrH33MfZRY5hW45YR3khBBCyDLFksG+M7ix4TZuDMwyK0KjnL7uT8wnkrxYji95eE2Vlxkqo5p/3Q9PT02L6KMtt5p05Rdd/Ouj7wboiBM/8/n/7X7mD++7f/HSW4QQQkhWkfOTJaM6lgz2ktBaWl5zOkWXvkRoktP1VEYfOLeaCmYpnlt+fDqsxXRYruYvXm5jZPgShsik7vqitTRcb1rp4gfojhMrl991//K/vEMIIYRkGUtGdSwZ7D1BVNvfFCVM262/9ZwXzGvF59BqqlpS1xMZ3fdlcdqIjNPzNFMnp8X4ouU0Suqq27JefAYwBydWvvgDRwghhOQaS0Z1LBnsP4dud3PDbe4eGmXjEZrkNMikF840Q+FULaOxiz+2nIrIpvMNU8rpvC2n4ZrTSmtpKajcsQ8d4+X0PX/wE0IIIXnGklEdSwb7TyGn27essvEIk+RUy6aQtpy6Uk7TDLvwPVbL6WxYcmqL6PhNUgDzg5wSQgjJOpaM6lgy2HfCo6Q6vFs/tJp6GY1KGGU1CmejfOprTmfGbjkduwGqvEHKvjYVYHaQU0IIIVnHklEdSwa7TiGj8QH8Pd0QlbSKSnd8RUjLG5yG5WUqd+Qbraut79i/s17c6KSTtIyGltKkDDGFPuhUTn/txv9z/64mH/uz9815CCGEkEmxZFTHksHcIkx7Q1RKpYu/xLoUAGDZ6UxO//6fPiwXWc/X7vzInJcQQgipiyWjOpYM5hZhHjmVVlUtp/pSAICjQGdyKnz/Bz91f/zGD8fy377941AuIKiEEEKmiSWjOpYM5hZhHjk1u/URUziCdCqnf/u/fmKWSXe/IKIq5CyoF77/U7+GP3X7r9nlOtfflV/0obtulBFClilP3P4TOZ5LnvzEXTCnmz7T1iukGktGdSwZzC3CXHIKcExYqJzK59iKOq2ghsr93S6ktjgB3b1jlRFCjmeKeuHx958YZTnmeNVjlozqWDKYWwTkFKCZhcupZBZBRU4JIX2lu/plUUFOdSwZzC0CcgrQzELl1MKaXkcq4ZRh68ZrP3GPy3FCtdXjR+5uOT4gJx41vdnNdkdu7Ird9KPWlKL7viD9nnBS67D7jxCy6MhxPk2Xe6wXfpTUTeX8of4oSeuFKeuVMF7J8lCgJ9Vj09aJw7I0xfqN0JctVcvjdqiKsvquOS99smRUx5LB3CIgpwDNLEROJSKoaWLrqTWtlbGWjVAJpyeUojIsKshR5V+U+WFfgQ4/j1WkSYyTiDCcPpSPvhc5JWTZI3WHP+YrYjdJVmO9MJpmKJnDuqCoj4Z10JT1ykQ5DcNGPTZznajil3O3VpTLdU/WLazX8HuK+WU7putWTDO7oFoyqmPJYG4RkFOAZhYmpzrx5iirzIqWU6kwq60C6TRGxT3MpDIf6ySSfK+eP3wnckrI8iZKaW1Lp05RB1TqnzExVHXWlPXKLHI6e53YEFn3uG3M7dK87nN9v48lozqWDOYWATkFaGZJ5bSo6EzKSjRMnwyPltVQSRonkWqFXx0Xvgc5JWR5Y4ilfexPKAvLqEpbpc6asl6ZXk6LYZPGOtFIWN+EdBkT61TrtxWx5LltLBnVsWSwz8S3RW3uHprlVoTc5FSendr6DVJPneK1qryd6uiz1HLapqILlbxnNK2u1FWQU0KOVwyxlNTLlFEvZCKn9vpWM14nWuXJb5F1T+VUrVd1XfR6jVK/PZtjyaiOJYO95d6u29zYdJubyOnT4aHbuoacHmWWult/vJKsSeXEUV95hiCnhByzWHXCpHrCqBc6llNLAqt13vj6zV4nppHrVFUrciKn1d8Rk17bWrcek7ZncywZ1bFksK8MbhRSGv+1prEiIKddgJwedZZLTlMJDJWrqux8xVkM+8oyrRwbTgyVZc9yEkFOCVnqhOM4ka7Jx7VRL3Qsp8X0iSSGYY+S0/F1mKVOTKOXW4jnaFsUw+n3Bhn1DL/XWI9560lLRnUsGewlt7bdxsa2G/jPfchpfFe+zvDd+V4k0/GpWIZ5X1TL8MMV1PySipxOWH58Q5Wsi0htnKbde/0LoVx/bcuthm75dbd/Z73oor+2NXrL1aNYXiYtGzJBTtX8COxy0qmcPvjBh+6P/8cPW+XNt4vK1lqWnbKS9FQr8IRh5VdUsCNUJTycr6j8KxVnpdJuPonMW+kSQvJIOJaHWOIWUyeG1XnmklOfKH0Bv5zK8iSqHquOK2lbJ6Yp5bLATyfLrNRxo7pYuHunWHZFiivL8MxZR1oyqmPJYPc5dLubG277VjHcuZyWYrjlJTAd1mI6LC9lMQrkUEqjkKrysfk9lZbThuWnr0+N48K7/cvvG1xacSsrRi4NfGkhlEFK/X/h2lERzyCTq27rkSzBT/NKKqPFdOOCWSOnpZiu3ymHa+eH3OlMTv/+n1Sl2AKZx1oWIYSQZYnIqr6hrNtYMqpjyWDXCTdBbe66w3K4azmNLZ8pIo9RFkUEV/00KakchvnVu/a3/HCcx5o/ldOm5Y/Jqsf6TptUKAtpLCRSPkc5HWf/FS+xr+i2WVtOH762OjZtGGe2vkLOdCanhBBCjl9CC2/PvUeWjOpYMthtBm57Y9Pt3huN67vlNLaERt0S0ZThsbSU0/RzJJXTpuVHOU1bXlPatJw2yWmQSV9WSUs5DSKr55Ugp0sHckoIIaRlql36gfRSg55iyaiOJYOdJlxrulGTqrTWRWgjp2lSEbRaNlPmldOm5TfJ6WRayGm4BrXaijpvyyksJ8gpIYSQrGPJqI4lg32n65bTRjlULauaJjnV5SKmsrxhN33D8vuW06LVVK5JLYk3TLWU0/FrTmFZQU4JIYRkHUtGdSwZ7Dudd+uX8hdbTWPSazxdKZBWeZOcCjKczifDbZffe8tpOU3aHb+ftoZGWdVJ5bUU1LR8TGIhe5BTQgghWceSUR1LBnOLMElOtUgKQTi9ENJZDccJ5JQQQkjWsWRUx5LB3CJMklPpZtdyGu6W99JK2x8cJ/yhAAAAkC+WjOpYMphbhKm79RFTOIYgpwAAkDWWjOpYMphbhIlyCgAB5BQAALLGklEdSwZzi4CcAjSDnAIAQNZYMqpjyWBuEZBTgGaQUwAAyBpLRnUsGcwtAnIK0AxyCgAAWWPJqI4lg7lFQE4BmkFOAQAgaywZ1bFkMLcIyClAM8gpAABkjSWjOpYMdp57u25z7L36225gTWtEQE4BmkFOAQAgaywZ1bFksPMEOW0vozoCcgrQDHIKAABZY8mojiWDnQc5BVgIyCkAAGSNJaM6lgx2HuQUYCEgpwAAkDWWjOpYMth5jGtOt28Z09VEQE4BmkFOAQAgaywZ1bFksPfc2p5KUAXkFKAZ5BQAALLGklEdSwb7z6Hb3dxwm7uHRtl4BOQUoBnkFAAAssaSUR1LBvvPwG1vIKcAXYOcAgBA1lgyqmPJYN8Z3OA5pwB9gJwCAEDWWDKqY8lg5ymvMR3mxsCeriYCcgrQDHIKAABZY8mojiWDuUVATgGaQU4BACBrLBnVsWQwtwjIKUAzyCkAAGSNJaM6lgzmFgE5BWgGOQUAgKyxZFTHksHcIiCnAM0gpwAAkDWWjOpYMphbBOQUoBnkFAAAssaSUR1LBnOLgJwCNIOcAgBA1lgyqmPJYG4RkFOAZpBTAADIGktGdSwZzC0CcgrQDHIKAABZY8mojiWDuUVoktOH1/yJ2Z+ZY9ZfLwsyYf/F6vptPSgLADrE71oAAAD5YsmojiWDvaXypqhNt3vPmMaI0Jmc3nVu9WedW1nz85SjGvHLSpd9wovmtCCnsAj8rgUAAJAvlozqWDLYR6Z9n34aoa2cNkrfU5LTSOv1BJgBv2sBAADkiyWjOpYMdp57u25zRjGVCJ3J6Tz4Za8ip5AxyCkAAGSNJaM6lgx2ncPdTbdxY2CWtYkwj5zGskqe8+PL8tjlPpy3TkKt8d907hf8uF94qRwu2f10scwv3y1HlCCn0Cd+1wIAAMgXS0Z1LBnsOtKlv7k7cLub8XpTnylkVchWTj1f/rd+3Ef8csph94FzL/jhj/yGc++WoyLIKfSJ37UAAADyxZJRHUsGu05xvWl6A9TAbXtB3dw9rExXF6HLbv11EcwO5fTdrxfzx5uw4vDFbxbDKcgp9InftQAAAPLFklEdSwa7TtFyWhXR0NW/uesOk3F1ERYqp9+dTk6HLaWfDh+LllSfw6K0AnIKfeJ3LQAAgHyxZFTHksGuY11zOs11qMIi5HT9DT/wrpfLTxTDreXUc/slP94L6u43nfsVP83vfKMsUCCn0Cd+1wIAAMgXS0Z1LBnsPOFu/fFu/e1byTQTIvQpp4d/Wsw7llJC47LHkixDHlElUvoRL6gnft7Lajlag5xCn/hdCwAAIF8sGdWxZLCXVB7A315MJUKfcurec+7yr3mxFLn8OecuvurcCzLNNHLq+fO1Yvyqn74O5BT6xO9aAAAA+WLJqI4lg7lFmEdOX7nk3O23y4F3nTtriOXc+IW98It+uT/v3L5ceFoDcgp9gpwCAEDWWDKqY8lgbhHaymlM+vrSLS+iaZlkUuvmVKi3R519uRyviNe1xiCn0Ad+1wIAAMgXS0Z1LBnMLcI8cvrBHed+R+6g9+Ol2/53/LQTGjeno5TTsNyvl+MMkFNYBH7XAgAAyBdLRnUsGcwtQpOcAgByCgAAmWPJqI4lg7lFQE4BmkFOAQAgaywZ1bFkMLcIyClAM8gpAABkjSWjOpYM5hYBOQVoBjkFAICssWRUx5LB3CIgpwDNIKcAAJA1lozqWDKYWwTkFKAZ5BQAALLGklEdSwa7zaHb3Ry9GaqSDt+tvzQ82nKrGyfc6mvTvAJg3637eU6UmW5eOE4gpwAAkDWWjOpYMth/CmHd3D00ysYjHG85jTx0W9eQU6gHOQUAgKyxZFTHksHeE96zv+0GVpkRgW59ATmFySCnAACQNZaM6lgy2G/Kbv6WXfoSYZKchrdDvajeEuWHK6jXjKbl6354K877nHP78XO6DDV/+gaqJh6+tjrskre65kP5ta3kXf91EmqNL8adeGW/HC65s+6/Z92psXDE8bsmAABAvlgyqmPJYK+5t+s2Nzbd7j2jrCZCo5ymMvnAuVUlkOupaKpykVOR0ofl+LCcUkaD3JWfh68cVfMPLq24lRUjlwbFBBXGBXM+OfWMiWjd/HDU8bslAABAvlgyqmPJYJ8Z3Jiu1VQiNMqpyGU5LGz54VU/vo60XOQ0iGYpnUFCy88ifPJefL2s8K78VHhb04OcljdMrd8pBx/Jda2rbutROQzHBuQUAACyxpJRHUsGe8sMraYSYV45DTLpz9xp2sqpLEvPG1LK6VNvOfWEZZRd++lnOF743RIAACBfLBnVsWSwr4RW081dd2iUTYowj5zGbv9U1+ZtOZ2dfuS0aC2Vrn2ZhlbT4wpyCgAAWWPJqI4lg/1k4LY3Ntz2LatscoR55DS0miblUVbbyunYNadzYQimumZ0/5W655lOkFOPzLfqxZRW0+OL300BAADyxZJRHUsG+8israYSYd5u/XDTU4yX1bQ1tFFOhVJQ04R5psYSzGJceid/EM04TZDXUfkw5h36ybWncOzwuyUAAEC+WDKqY8lgbhEmyelyMbn1cy54fNSxBzkFAICssWRUx5LB3CIss5zuv5ZcTxoEso9rQtUd+3AsQU4BACBrLBnVsWQwtwhL3XL6qHhladEd37GYJsvupTUWlgrkFAAAssaSUR1LBnOLcHS69QH6AzkFAICssWRUx5LB3CIgpwDNIKcAAJA1lozqWDKYWwTkFKAZ5BQAALLGklEdSwZzi4CcAjSDnAIAQNZYMqpjyWBuEZBTgGaQUwAAyBpLRnUsGcwtAnIK0AxyCgAAWWPJqI4lg33kcHfTbWxsjHJjYE5nRchdTuMrR4sYD8JXb3nieaTQB8gpAABkjSWjOpYMdp0gppVXlxbv2d/cPaxMVxchazkV8UxeJRpE9Vry4P3wLNLk+aa9PYgfjjvIKQAAZI0lozqWDHad8F79SkvpodvdPEJyqlEyGmS18h788l36+t34AHOCnAIAQNZYMqpjyWDnubfrNpOu/KKLf9sN9HQ1ERrl9HV/YvZn5mFeLMeXPLymyssM9VDNv+6HZ6Yip8ZrRWMXf9q6CtABftcFAADIF0tGdSwZ7CdFa2m43rTSxd8coUlO11MZfeDcaiqYpXhu+fHpsBbTYbmaf3Bpxa2sGLk0KCZQVLv1RU5VK6qUBUE1rk0FmAO/2wIAAOSLJaM6lgx2n+Ia06LlNErqptu9Z007HmHabv2t57xgXis+h1ZT1ZK6nsjovi+L00ZknJ6nFWWr6KilNMpp0YI6fP+9TEfLKXQMcgoAAFljyaiOJYNdJ1xzWmktLQW15R37QpOcBpn0Z+Y0Q+FULaOxiz+2WorIpvMNU8pp65bTUkyHAhoopFTfAPXwtVXkFDrH77YAAAD5YsmojiWD3cYW0fGbpOojTJJTLZtC2nKqryeVDLvwPVbL6dSE60y1mBaM3xBVjLOmBZgHv2sDAADkiyWjOpYMdp2xG6DKG6S6uls/tJp6GY2qF2U1CmejfOprTqembB2tu/ted/WH4WpLKkAXIKcAAJA1lozqWDLYR0JLqVx3WqatmEqExhui/Fl52DLqZbQipOUNTsPyMpU78o3W1bZ37IeW0dB1r5LKaimoRRBT6Ae/2wIAAOSLJaM6lgzmFmHaG6JSKl38JdalAADLDnIKAABZY8mojiWDuUWYR06lVVXLqb4UAOAogJwCAEDWWDKqY8lgbhHmkVOzWx8xhSMIcgoAAFljyaiOJYO5RZhLTgGOCcgpAABkjSWjOpYM5hYBOQVoBjkFAICssWRUx5LB3CIcVzm9c/B/lj6wOJBTAADIGktGdSwZzC0Ccrq8gcWBnAIAQNZYMqpjyWBuEZDT5Q0sDuQUAACyxpJRHUsGc4uAnC5vYHEgpwAAkDWWjOpYMthHileYxjdEbbrde/Z0VoTc5FSendr2DVLzoEXv1Zd/NXnT1K+6P/zbank/+YZ7fvidJ9yzL3/HmKY+sDiQUwAAyBpLRnUsGew6Y+/Wv7VdHW6IgJz67H5mgUJq5TvuD7+CnOYMcgoAAFljyaiOJYPd5tDtbup36Vvj6iMgp2Wr6VeuuFeTcYsNcpo7yCkAAGSNJaM6lgx2m0JEt29Vxw9ubLiNG4PKuLoITXIa35WvM3x3vhfJdHwqlmHeF9Uy/HAFNb+kIqcTlh/fUCXrIlIbp2nzXv9U8ibK6d9ecc+aXe+FUD7/ciz/jPtqaIH1n9Nlqfnt75kgp7Xfj5wuEr9bAQAA5IslozqWDHadIKKbu+4wjru36zbl2tOu5LQUwy0vgemwFtNheSmLUSCHUhqFVJWPze+ptJw2LD99fWocF97tX37f4NKKW1kxcmng5a4QwqE0prn+jYoYPr8bZbG4RrQQxDi/l9J47aiIZ5gnXiLgp7meymg6fxxXTmfJ6cTvR04Xid/FAAAA8sWSUR1LBrtP0Xo6vCHKi+puhy2nseUzReQxyqKI4KqfJiWVwzC/etf+lh+O81jzp3LatPwxWfVY32mRSmBdy2kYH0U1HRemTYWykMZCIuVz/fWrX72eyO8wtpxO/n7kdJEgpwAAkDWWjOpYMth/Or7mVLVcxpbQ2HIqoinDY2kpp+nnSCqnTcuPcpq2vKZMbjm1hS8dH0RSWkR1ppDTsGw9f0s5nfz9yOki8bsZAABAvlgyqmPJYO8J3frtHycltJHTNKkIWi2bKfPKadPym+R0EqkE1smp1XI5Sgs5NZ4CMG/LaRpYHH43AwAAyBdLRnUsGew15fWmbVtNJcIkOW2UQ9WyqmmSU10uYirLG3bTNyy/bzkdv+YzTbOcFq2mck1qOU+8YaqlnE7+fuR0kfjdDAAAIF8sGdWxZLDzhOeaxmtOp3sAv0SY2HJayl9sNY1Jr/G0WldjeZOcCjKczifDbZffu5xKSkFMu9ULiWzRclpOM5zXf8dX09bQKKs6qbzWfj9yukj8bgYAAJAvlozqWDKYW4RJcqpFUgjC6c/UbR7XlDND+VviwOJATgEAIGssGdWxZDC3CJPkVLrZtZyGu+VVa+gyYsnesgUWB3IKAABZY8mojiWDuUWYulv/CIipYMnesgUWB3IKAABZY8mojiWDuUWYKKdHGEv2li2wOJBTAADIGktGdSwZzC0Ccrq8gcWBnAIAQNZYMqpjyWBuEY6rnAJMA3IKAABZY8mojiWDuUVATgGaQU4BACBrLBnVsWQwtwjIKUAzyCkAAGSNJaM6lgzmFgE5BWgGOQUAgKyxZFTHksHcIiCnAM0gpwAAkDWWjOpYMphbBOQUoBnkFAAAssaSUR1LBnOLgJwCNIOcAgBA1lgyqmPJYG4RkFOAZpBTAADIGktGdSwZzC0CcgrQDHIKAABZY8mojiWDuUVATgGaQU4BACBrLBnVsWQwtwjIKUATzv1/T3vCk8WqqGcAAAAASUVORK5CYII=\" height=\"200\" width=\"500\"/>"
   ]
  },
  {
   "cell_type": "markdown",
   "metadata": {},
   "source": [
    "在python中，我们可以通过configparser包来处理.ini格式文件，部分获取方法如下：  \n",
    "\n",
    "- read()：读取配置文件\n",
    "- sections()：读取配置文件中所有的section（可以理解为组名：group1，group2……）\n",
    "- options(section)：读取该section下所有的option（可以理解成读取该组下的所有key）\n",
    "- items(section)：读取该section下的所有值，并以键值对形式输出（例如：（‘name’：‘name1’））\n",
    "- get(section, option)：读取指定section下面的option的值（可以理解成，读取具体某个group下面指定key的值）"
   ]
  },
  {
   "cell_type": "code",
   "execution_count": 47,
   "metadata": {},
   "outputs": [
    {
     "name": "stdout",
     "output_type": "stream",
     "text": [
      "所有的段落包括： ['leon', 'july']\n",
      "所有的key包括： ['name', 'age', 'gender']\n",
      "读取一到的的所有数据： [('name', 'leon'), ('age', '18'), ('gender', 'male')]\n",
      "第一种方法读取到的值： 18\n",
      "第二种方法读取到的值： 18\n"
     ]
    }
   ],
   "source": [
    "import configparser\n",
    "import os\n",
    "#用os模块来获取当前路径\n",
    "curpath=os.getcwd()\n",
    "confpath=curpath + r'\\99 cache\\42-test.ini'\n",
    "# 类实例化与文本读取\n",
    "config=configparser.ConfigParser()\n",
    "config.read(confpath)\n",
    "\n",
    "# 获取所有section，返回一个列表----------------------.sections()\n",
    "sections = config.sections()\n",
    "print('所有的段落包括：',sections)\n",
    "# 获取某个section的所有key，返回一个列表-------------.options('section')\n",
    "options = config.options('leon')\n",
    "print('所有的key包括：',options)\n",
    "# 读取一个section中的所有数据，返回一个列表----------.items('section')\n",
    "value = config.items('leon')\n",
    "print('读取一到的的所有数据：',value)\n",
    "\n",
    "### 读取某个配置信息具体值\n",
    "# 方法一---------------------------------------------object[section][key]\n",
    "value = config['leon']['age']\n",
    "print('第一种方法读取到的值：',value)\n",
    "\n",
    "# 方法二 ---------------------------------------------get('section','key')\n",
    "value = config.get('leon','age')\n",
    "print('第二种方法读取到的值：',value)"
   ]
  },
  {
   "cell_type": "markdown",
   "metadata": {},
   "source": [
    "通过上述方式，我们发现读取到的数据全部是str类型。如果我们想要得到指定数据类型的数据可以使用`getint()`、`getfloat()`、`getboolean()`方法："
   ]
  },
  {
   "cell_type": "code",
   "execution_count": 48,
   "metadata": {},
   "outputs": [
    {
     "name": "stdout",
     "output_type": "stream",
     "text": [
      "指定数据类型： 18\n",
      "读取到的值的数据类型： <class 'int'>\n"
     ]
    }
   ],
   "source": [
    "value = config.getint('leon','age')\n",
    "print('指定数据类型：',value)\n",
    "print('读取到的值的数据类型：',type(value))"
   ]
  },
  {
   "cell_type": "markdown",
   "metadata": {},
   "source": [
    "### 写入"
   ]
  },
  {
   "cell_type": "markdown",
   "metadata": {},
   "source": [
    "Section和key、value需要分别写入，方法如下：\n",
    "- add_section(section)：添加一个section，参数为section的名称\n",
    "- set(section, option, value)：在section下面添加一条数据（key=value），需要调用write()将内容写入文件"
   ]
  },
  {
   "cell_type": "code",
   "execution_count": 49,
   "metadata": {},
   "outputs": [],
   "source": [
    "# 将数据写入到ini文件中\n",
    "config.add_section('login') # 首先添加一个新的section\n",
    "config.set('login','username','admin')  # 写入数据\n",
    "config.set('login','password','123456') # 写入数据\n",
    "config.write(open(confpath,'w'))            #保存数据"
   ]
  },
  {
   "cell_type": "markdown",
   "metadata": {},
   "source": [
    "写入后：\n",
    "\n",
    "<img src=\"data:image/PNG;base64,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\" height=\"200\" width='500'/>"
   ]
  },
  {
   "cell_type": "markdown",
   "metadata": {},
   "source": [
    "## .XML文件\n",
    "XML 指可扩展标记语言（eXtensible Markup Language）， 被设计用来传输和存储数据，被广泛用来存储一些简单数据或者用来对异型数据做数据交换。其设计宗旨是用来传输数据而不是显示数据（HTML语言一般被用来显示数据），是类似HTML的可扩展标记语言。  \n",
    "XML文件格式类似于以下形式：\n",
    "```xml\n",
    "<config>\n",
    "    <!--注释内容,此处可以添加注释 -->\n",
    "    <mysql>\n",
    "        <host>localhost</host>\n",
    "        <user>root</user>\n",
    "        <passwd>my secret password</passwd>\n",
    "        <db>write-math</db>\n",
    "    </mysql>\n",
    "    <other>\n",
    "        <preprocessing_queue>\n",
    "            <li>preprocessing.scale_and_center</li>\n",
    "            <li>preprocessing.dot_reduction</li>\n",
    "            <li>preprocessing.connect_lines</li>\n",
    "        </preprocessing_queue>\n",
    "        <use_anonymous value=\"true\" />\n",
    "    </other>\n",
    "</config>\n",
    "```\n",
    "\n",
    "书写规范如下<sup>[Re: XML的书写规范与解析](https://www.cnblogs.com/wang-meng/p/5374498.html)</sup>：  \n",
    "- xml必须有根元素(只有一个)\n",
    "- xml标签必须有关闭标签\n",
    "- xml标签对大小写敏感\n",
    "- xml的属性值须加引号\n",
    "- 特殊字符必须转义\n",
    "- xml中的标签名不能有空格\n",
    "- 空格/回车/制表符在xml中都是文本节点\n",
    "- xml必须正确地嵌套\n",
    "- 注释格式: \\<!--注释内容-->"
   ]
  },
  {
   "cell_type": "markdown",
   "metadata": {},
   "source": [
    "### 读取\n",
    "在python中，主要有三种方法读写xml：基于DOM，基于ELementTree，基于SAX，详细使用方法可参考[Python中XML的读写总结](https://blog.csdn.net/hu694028833/article/details/81089959)，此处只基于ELementTree进行说明。  \n",
    "- 读取文档：tree = ET.parse('default.xml') \n",
    "- 获得根节点：root = tree.getroot() \n",
    "- 获得所有子节点：list(root) \n",
    "- 查找子节点，注意这里不会递归查找所有子节点：root.findall('Name') \n",
    "- 查找子节点，递归查找所有子节点：root.iter('Name') \n",
    "- 查看节点名称：root.tag"
   ]
  },
  {
   "cell_type": "code",
   "execution_count": 12,
   "metadata": {},
   "outputs": [
    {
     "name": "stdout",
     "output_type": "stream",
     "text": [
      "<xml.etree.ElementTree.ElementTree object at 0x0000022276B016C8>\n",
      "mysql\n",
      "other\n"
     ]
    }
   ],
   "source": [
    "# -*- coding:utf-8 -*-\n",
    "\n",
    "import xml.etree.ElementTree as ET\n",
    "import os\n",
    "#用os模块来获取当前路径\n",
    "curpath=os.getcwd()\n",
    "confpath=curpath + r'\\99 cache\\42-test.xml'\n",
    "\n",
    "tree = ET.parse(confpath)\n",
    "print(tree)\n",
    "root = tree.getroot()\n",
    "for node in list(root):\n",
    "    print(node.tag)"
   ]
  },
  {
   "cell_type": "markdown",
   "metadata": {},
   "source": [
    "### 写入  \n",
    "- 创建节点：root = ET.Element('Root') \n",
    "- 创建文档：tree = ET.ElementTree(root) \n",
    "- 设置文本值：element.text = 'default' \n",
    "- 设置属性：element.set('age', str(i)) \n",
    "- 添加节点：root.append(element) \n",
    "- 写入文档：tree.write('default.xml', encoding='utf-8', xml_declaration=True)\n",
    "\n",
    "但这样写入会有个问题，写入的XML会在同一行，缺少换行符，Etree本身并没有提供换行的选项，翻看了国外大神的回答，对root处理以后，再次写入将有换行符。"
   ]
  },
  {
   "cell_type": "code",
   "execution_count": 13,
   "metadata": {},
   "outputs": [],
   "source": [
    "import xml.etree.ElementTree as ET\n",
    "# 增加换行符\n",
    "def __indent(elem, level=0):\n",
    "    i = \"\\n\" + level*\"\\t\"\n",
    "    if len(elem):\n",
    "        if not elem.text or not elem.text.strip():\n",
    "            elem.text = i + \"\\t\"\n",
    "        if not elem.tail or not elem.tail.strip():\n",
    "            elem.tail = i\n",
    "        for elem in elem:\n",
    "            __indent(elem, level+1)\n",
    "        if not elem.tail or not elem.tail.strip():\n",
    "            elem.tail = i\n",
    "    else:\n",
    "        if level and (not elem.tail or not elem.tail.strip()):\n",
    "            elem.tail = i\n",
    "\n",
    "root = ET.Element('Root')       # 创建节点\n",
    "tree = ET.ElementTree(root)     # 创建文档\n",
    "\n",
    "for i in range(5):\n",
    "    element = ET.Element('Name')\n",
    "    element.set('age', str(i))\n",
    "    element.text = 'default'\n",
    "    root.append(element)\n",
    "\n",
    "__indent(root)          # 增加换行符\n",
    "tree.write(curpath + r'\\99 cache\\42-default.xml', encoding='utf-8', xml_declaration=True)"
   ]
  },
  {
   "cell_type": "markdown",
   "metadata": {},
   "source": [
    "输出文件结果如下：\n",
    "```xml\n",
    "<?xml version='1.0' encoding='utf-8'?>\n",
    "<Root>\n",
    "\t<Name age=\"0\">default</Name>\n",
    "\t<Name age=\"1\">default</Name>\n",
    "\t<Name age=\"2\">default</Name>\n",
    "\t<Name age=\"3\">default</Name>\n",
    "\t<Name age=\"4\">default</Name>\n",
    "</Root>\n",
    "```"
   ]
  },
  {
   "cell_type": "markdown",
   "metadata": {},
   "source": [
    "## YAML\n",
    "YAML（/ˈjæməl/）是一个可读性高，用来表达数据序列化的格式。YAML参考了其他多种语言，包括：C语言、Python、Perl，并从XML、电子邮件的数据格式（RFC 2822）中获得灵感。YAML是\"YAML Ain't a Markup Language\"（YAML不是一种标记语言）的缩写，强调这种语言以数据做为中心，而不是以标记语言为重点。  \n",
    "YAML的语法和其他高级语言类似，并且可以简单表达清单、散列表，标量等数据形态。它使用空白符号缩进和大量依赖外观的特色，特别适合用来表达或编辑数据结构、各种配置文件、倾印调试内容、文件大纲（例如：许多电子邮件标题格式和YAML非常接近）。尽管它比较适合用来表达层次结构式（hierarchical model）的数据结构，不过也有精致的语法可以表示关系性（relational model）的数据。  \n",
    "\n",
    "基本语法如下：\n",
    "- 大小写敏感\n",
    "- 使用缩进表示层级关系\n",
    "- 缩进的空格数目不固定，只需要相同层级的元素左侧对齐；\n",
    "- 缩进不允许使用tab，只允许空格\n",
    "- '#'表示注释\n",
    "- 文件中的字符串不需要使用引号标注，但若字符串包含有特殊字符则需用引号标注；\n",
    "- 个yaml文件里存在多个文件，用---表示，只能一起读取，不能分开读取\n",
    "\n",
    "YAML支持的数据结构主要有3种：<sup>[Re: python—Yaml](https://www.jianshu.com/p/3d078059021d)</sup>  \n",
    "- 对象：键值对的集合，又称为映射（mapping）/ 哈希（hashes） / 字典（dictionary），\n",
    "- 数组：一组按次序排列的值，又称为序列（sequence） / 列表（list）\n",
    "- 纯量（scalars）：单个的、不可再分的值\n",
    "\n",
    "示例如下：\n",
    "```YAML\n",
    "mysql:\n",
    "    host: localhost # 对象\n",
    "    user: root\n",
    "    passwd: my secret password\n",
    "    db: write-math\n",
    "other:\n",
    "    preprocessing_queue: # 数组, 一组连词线开头的行，构成一个数组，下一层再缩进一个空格\n",
    "        - preprocessing.scale_and_center\n",
    "         - preprocessing.scale_and_center.t1\n",
    "          - preprocessing.scale_and_center.t11\n",
    "        - preprocessing.dot_reduction\n",
    "        - preprocessing.connect_lines\n",
    "    use_anonymous: yes\n",
    "```"
   ]
  },
  {
   "cell_type": "markdown",
   "metadata": {},
   "source": [
    "### 读取\n",
    "再python中，通过pyyaml库(pip install pyyaml)可以实现YAML格式数据的读取。"
   ]
  },
  {
   "cell_type": "code",
   "execution_count": 15,
   "metadata": {},
   "outputs": [
    {
     "name": "stdout",
     "output_type": "stream",
     "text": [
      "mysql\n",
      "other\n",
      "{'host': 'localhost', 'user': 'root', 'passwd': 'my secret password', 'db': 'write-math'}\n",
      "{'preprocessing_queue': ['preprocessing.scale_and_center', 'preprocessing.dot_reduction', 'preprocessing.connect_lines'], 'use_anonymous': True}\n"
     ]
    },
    {
     "name": "stderr",
     "output_type": "stream",
     "text": [
      "C:\\Users\\Leon\\Anaconda3\\lib\\site-packages\\ipykernel_launcher.py:7: YAMLLoadWarning: calling yaml.load() without Loader=... is deprecated, as the default Loader is unsafe. Please read https://msg.pyyaml.org/load for full details.\n",
      "  import sys\n"
     ]
    }
   ],
   "source": [
    "import yaml\n",
    "import os\n",
    "#用os模块来获取当前路径\n",
    "curpath=os.getcwd()\n",
    "confpath=curpath + r'\\99 cache\\42-test.yaml'\n",
    "with open(confpath, \"r\") as ymlfile:\n",
    "    cfg = yaml.load(ymlfile)\n",
    "\n",
    "for section in cfg:\n",
    "    print(section)\n",
    "print(cfg[\"mysql\"])\n",
    "print(cfg[\"other\"])"
   ]
  },
  {
   "cell_type": "markdown",
   "metadata": {},
   "source": [
    "### 写入"
   ]
  },
  {
   "cell_type": "code",
   "execution_count": 21,
   "metadata": {},
   "outputs": [],
   "source": [
    "import yaml\n",
    "import os\n",
    "\n",
    "def yaml_doc(yampath):\n",
    "      data={'school':'erxiao',\n",
    "            'studens':['lili','jj']}\n",
    "      file=open(yampath,'w',encoding='utf-8')\n",
    "      yaml.dump(data,file)\n",
    "      file.close()\n",
    "\n",
    "confpath=curpath + r'\\99 cache\\42-default.yaml'\n",
    "yaml_doc(confpath)\n"
   ]
  },
  {
   "cell_type": "markdown",
   "metadata": {},
   "source": [
    "输出结果：\n",
    "```yaml\n",
    "school: erxiao\n",
    "studens:\n",
    "- lili\n",
    "- jj\n",
    "\n",
    "```"
   ]
  },
  {
   "cell_type": "markdown",
   "metadata": {},
   "source": [
    "# 文件格式\n",
    "File Endings give the user and the system an indicator about the content of a file. Reasonable file endings for configuration files are<sup>[Re](https://martin-thoma.com/configuration-files-in-python/)</sup>：\n",
    "- *config.py for Python files\n",
    "- *.yaml or *.yml if the configuration is done in YAML format\n",
    "- *.json for configuration files written in JSON format\n",
    "- *.cfg or *.conf to indicate that it is a configuration file\n",
    "- *.ini for \"initialization\" are quite widespread (see Wiki)\n",
    "- ~/.[my_app_name]rc is a VERY common naming scheme for configuration files on Linux systems. RC is a reference to an old computer system and means \"run common\".\n",
    "\n",
    "\n",
    "That said, I think I prefer *.conf. I think it is a choice that users understand.\n",
    "\n",
    "But you might also consider that *.ini might get opened by standard in a text editor. For the other options, users might get asked which program they want to use."
   ]
  },
  {
   "cell_type": "markdown",
   "metadata": {},
   "source": [
    "# 对比 "
   ]
  },
  {
   "cell_type": "markdown",
   "metadata": {},
   "source": [
    "- 适合人类编写：ini > toml > yaml > json > xml > plist\n",
    "- 可以存储的数据复杂度：xml > yaml > toml ~ json ~ plist > ini"
   ]
  },
  {
   "cell_type": "markdown",
   "metadata": {},
   "source": [
    "通过以上对比，总结后续项目中进行如下组合：\n",
    "- 对于程序初始化使用，修改不频繁，且允许用户手动修改的，使用.ini格式;\n",
    "- 对于在代码运行过程中会频繁变更的数据，或结构较为复杂的数据，使用.json格式；\n",
    "- 对于需要多语言联合的项目，使用.yaml格式；\n",
    "- 对于与网页等有关的项目，传递数据使用.xml;\n"
   ]
  }
 ],
 "metadata": {
  "kernelspec": {
   "display_name": "Python 3",
   "language": "python",
   "name": "python3"
  },
  "language_info": {
   "codemirror_mode": {
    "name": "ipython",
    "version": 3
   },
   "file_extension": ".py",
   "mimetype": "text/x-python",
   "name": "python",
   "nbconvert_exporter": "python",
   "pygments_lexer": "ipython3",
   "version": "3.7.4"
  },
  "toc-autonumbering": true
 },
 "nbformat": 4,
 "nbformat_minor": 4
}
