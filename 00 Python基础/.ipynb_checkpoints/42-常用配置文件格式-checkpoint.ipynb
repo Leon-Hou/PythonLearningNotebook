{
 "cells": [
  {
   "cell_type": "markdown",
   "metadata": {},
   "source": [
    "https://martin-thoma.com/configuration-files-in-python/"
   ]
  },
  {
   "cell_type": "markdown",
   "metadata": {},
   "source": [
    "# 配置文件"
   ]
  },
  {
   "cell_type": "markdown",
   "metadata": {},
   "source": [
    "## 配置文件简介"
   ]
  },
  {
   "cell_type": "markdown",
   "metadata": {},
   "source": [
    "在计算机科学领域，配置文件（英语：configuration file，台湾作设定档）是一种计算机文件，可以为一些计算机程序配置参数和初始设置。配置文件本质上是包含成功操作程序所需信息的文件，这些信息以特定方式构成。它们不是在程序中进行硬编码，而是用户可配置的，通常存储在纯文本文件中。 \n",
    "\n",
    "配置文件通常应用在以下场景中<sup>[Re-Web](https://martin-thoma.com/configuration-files-in-python/)</sup>：\n",
    "- 像博客、WIKI等内容提供者需要将数据库服务器信息(主句名称)和登录信息(用户名和密码)存储起来；\n",
    "- 一些软件需要存储注册信息、序列号等；\n",
    "- 科学软件需要存储数据库地址信息；"
   ]
  },
  {
   "cell_type": "markdown",
   "metadata": {},
   "source": [
    "在一些简单的项目中，你可能想将这些配置信息直接写入源码中，但这是非常不明智的，第一：这回增加后期维护的难度；第二：当你将代码上传至GitHub等网站时，这些敏感信息也被一并上传了。因此，最保险的做法是将这些信息单独存储起来，当我们将代码上传至GitHub时，可以通过编辑`.gitignore`避免这些信息被上传。"
   ]
  },
  {
   "cell_type": "markdown",
   "metadata": {},
   "source": [
    "## 配置文件有哪些？"
   ]
  },
  {
   "cell_type": "markdown",
   "metadata": {},
   "source": [
    "### .py文件\n",
    "最简单的方式就是将配置信息写入某个.py文件中，你可以叫他databaseconfig.py，例如如下格式："
   ]
  },
  {
   "cell_type": "code",
   "execution_count": 5,
   "metadata": {},
   "outputs": [],
   "source": [
    "#!/usr/bin/env python\n",
    "import preprocessing\n",
    "\n",
    "mysql = {\n",
    "    \"host\": \"localhost\",\n",
    "    \"user\": \"root\",\n",
    "    \"passwd\": \"my secret password\",\n",
    "    \"db\": \"write-math\",\n",
    "}\n",
    "# preprocessing_queue = [\n",
    "#     preprocessing.scale_and_center,\n",
    "#     preprocessing.dot_reduction,\n",
    "#     preprocessing.connect_lines,\n",
    "# ]\n",
    "use_anonymous = True"
   ]
  },
  {
   "cell_type": "markdown",
   "metadata": {},
   "source": [
    "当需要调用相关配置时，你应该这样做："
   ]
  },
  {
   "cell_type": "code",
   "execution_count": 7,
   "metadata": {},
   "outputs": [],
   "source": [
    "#!/usr/bin/env python\n",
    "import databaseconfig as cfg\n",
    "connect(cfg.mysql[\"host\"], cfg.mysql[\"user\"], cfg.mysql[\"password\"])"
   ]
  },
  {
   "cell_type": "markdown",
   "metadata": {},
   "source": [
    "这种方式可以让你很方便的去定义配置信息，但当配置信息较多时并不太适用，且由于是.py的文件，不可避免地你会将部分源码写在文件内。"
   ]
  },
  {
   "cell_type": "markdown",
   "metadata": {},
   "source": [
    "### JSON文件\n",
    "JSON(JavaScript Object Notation, JS 对象简谱) 是一种轻量级的数据交换格式。它基于 ECMAScript (欧洲计算机协会制定的js规范)的一个子集，采用完全独立于编程语言的文本格式(UTF-8)来存储和表示数据。简洁和清晰的层次结构使得 JSON 成为理想的数据交换语言。 易于人阅读和编写，同时也易于机器解析和生成，并有效地提升网络传输效率。  \n",
    "\n",
    "JSON格式的配置文件通常是如下形式的, 为了统一解析，JSON的字符串规定必须用双引号`\"\"`，Object的键也必须用双引号`\"\"`：  \n",
    "\n",
    "config.json：\n",
    "```json\n",
    "{\n",
    "    \"mysql\":{\n",
    "        \"host\":\"localhost\",\n",
    "        \"user\":\"root\",\n",
    "        \"passwd\":\"my secret password\",\n",
    "        \"db\":\"write-math\"\n",
    "    },\n",
    "    \"other\":{\n",
    "        \"preprocessing_queue\":[\n",
    "            \"preprocessing.scale_and_center\",\n",
    "            \"preprocessing.dot_reduction\",\n",
    "            \"preprocessing.connect_lines\"\n",
    "            ],\n",
    "        \"use_anonymous\":true\n",
    "    }\n",
    "}\n",
    "```"
   ]
  },
  {
   "cell_type": "markdown",
   "metadata": {},
   "source": [
    "通过`.load`可以将JSON格式数据转换为Python数据:"
   ]
  },
  {
   "cell_type": "code",
   "execution_count": 21,
   "metadata": {},
   "outputs": [
    {
     "name": "stdout",
     "output_type": "stream",
     "text": [
      "{'mysql': {'host': 'localhost', 'user': 'root', 'passwd': 'my secret password', 'db': 'write-math'}, 'other': {'preprocessing_queue': ['preprocessing.scale_and_center', 'preprocessing.dot_reduction', 'preprocessing.connect_lines'], 'use_anonymous': True}}\n"
     ]
    }
   ],
   "source": [
    "import json\n",
    "\n",
    "with open(\"config.json\") as json_data_file:\n",
    "    data = json.load(json_data_file)\n",
    "print(data)"
   ]
  },
  {
   "cell_type": "markdown",
   "metadata": {},
   "source": [
    "json中的数据类型转化为python格式转换对照如下：\n",
    "\n",
    "|json | python|\n",
    "|--|--|\n",
    "|object | dict|\n",
    "|array | list|\n",
    "|str | unicode|\n",
    "|number(int,real) | number(int/long,float)|\n",
    "|true,false | True,False|\n",
    "|null | None|\n",
    "------------------------------  \n",
    "Tips：元组(1,2,3)转化为json格式再转回来后会变为列表[1,2,3];"
   ]
  },
  {
   "cell_type": "markdown",
   "metadata": {},
   "source": [
    "而且JSON文件非常方便写入,可以使用`.dump`将python数据转换为JSON数据:"
   ]
  },
  {
   "cell_type": "code",
   "execution_count": 28,
   "metadata": {},
   "outputs": [
    {
     "name": "stdout",
     "output_type": "stream",
     "text": [
      "[\n",
      "    {\n",
      "        \"a\": 1,\n",
      "        \"b\": 2,\n",
      "        \"c\": 3,\n",
      "        \"d\": 4,\n",
      "        \"e\": 5\n",
      "    }\n",
      "]\n"
     ]
    }
   ],
   "source": [
    "#!/usr/bin/python\n",
    "import json\n",
    "# 转换\n",
    "data = [ { 'a' : 1, 'b' : 2, 'c' : 3, 'd' : 4, 'e' : 5 } ]\n",
    "json_data = json.dumps(data, indent=4)\n",
    "print(json_data)\n",
    "# 写入\n",
    "with open('config.json', 'w') as fp:\n",
    "        fp.write(json_data)"
   ]
  },
  {
   "cell_type": "markdown",
   "metadata": {},
   "source": [
    "python中的数据类型转化为json格式转换对照如下：\n",
    "\n",
    "python | json\n",
    "---|---\n",
    "dict | object\n",
    "list, tuple | array\n",
    "str,unicode | string\n",
    "number(int/long,float) | number(int,real)\n",
    "True,False | true,false\n",
    "None | null"
   ]
  },
  {
   "cell_type": "markdown",
   "metadata": {},
   "source": [
    "### .ini"
   ]
  },
  {
   "cell_type": "code",
   "execution_count": null,
   "metadata": {},
   "outputs": [],
   "source": []
  }
 ],
 "metadata": {
  "kernelspec": {
   "display_name": "Python 3",
   "language": "python",
   "name": "python3"
  },
  "language_info": {
   "codemirror_mode": {
    "name": "ipython",
    "version": 3
   },
   "file_extension": ".py",
   "mimetype": "text/x-python",
   "name": "python",
   "nbconvert_exporter": "python",
   "pygments_lexer": "ipython3",
   "version": "3.7.4"
  },
  "toc-autonumbering": true
 },
 "nbformat": 4,
 "nbformat_minor": 4
}
