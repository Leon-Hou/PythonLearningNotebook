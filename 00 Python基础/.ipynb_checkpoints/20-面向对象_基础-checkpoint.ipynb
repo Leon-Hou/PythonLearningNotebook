{
 "cells": [
  {
   "cell_type": "markdown",
   "metadata": {},
   "source": [
    "# 面向对象"
   ]
  },
  {
   "cell_type": "markdown",
   "metadata": {},
   "source": [
    "## 类的定义和使用"
   ]
  },
  {
   "cell_type": "markdown",
   "metadata": {},
   "source": [
    "### Python中的类\n",
    "&emsp;&emsp;Python中的类定义与其他语言类似，类定义的语法格式如下：\n",
    "\n",
    "```python\n",
    "class CLassName(object):\n",
    "    <statement - 1 >\n",
    "    .\n",
    "    .\n",
    "    .\n",
    "    < statement - n >\n",
    "```\n",
    "- object表示该类是哪个类继承下来的，没有就是object类；\n",
    "- 类中叫方法，不是类的叫函数；\n",
    "- 在类中定义方法时，第一个参数必须是self，其他与函数没有任何区别。"
   ]
  },
  {
   "cell_type": "markdown",
   "metadata": {},
   "source": [
    "### 类的构造方法\n",
    "&emsp;&emsp;Python中的类的构造方法如下，可以不定义，默认使用无参构造方法：\n",
    "\n",
    "```python\n",
    "class DefaultInit(object):\n",
    "    def __init__(self):\n",
    "        print('我是__init__方法')\n",
    "\n",
    "```\n",
    "&emsp;&emsp;类的构造方法第一个参数为self，可以带参数，也可以不带参数"
   ]
  },
  {
   "cell_type": "markdown",
   "metadata": {},
   "source": [
    "### 类的访问权限\n",
    "&emsp;&emsp;在Python内部有属性和方法，外部代码可以直接调用，如果不想让外部方法调用内部属性或方法，可以在属性或方法前面加两个下划线。在Python中，实例的变量名如果以`__`开头，就会变成私有变量(priva),只有内部可以访问。\n",
    "比如`__init__`构造方法定义式使用了双下划线`__`，在Python中，下划线有特殊的意义，不同下划线区别如下：  \n",
    "\n",
    "|模式|举例|含义|\n",
    "|--|--|--|\n",
    "|单前导下划线|\\_var|命名约定，仅供内部使用，通常不会由Python解释器强制执行(通配符导入除外)，只作为对程序员的提示；|\n",
    "|单末尾下划线|var_|按约定使用以避免与Python关键字的命名冲突|\n",
    "|双前导下划线|\\_\\_var|当在类上下文使用时，出发“名称修饰，由Python解释器强制执行”|\n",
    "|双前导和双末尾下划线|\\_\\_var\\_\\_|表示Python定义的特殊方法，避免在自己的属性中使用这种命名方案|\n",
    "|单下划线|\\_|有时用作临时或无意义的变量名称，也可表示Python REPL\\*中最近一个表达式的结果|\n",
    "|Tips|-|1.<font size=0.5>REPL：当我们 win+R 进入 dos 环境后，输入python 光标会进入等待输入状态，即光标不停闪动，且前方出现 >>> 。这种过程就是 REPL。</font>|\n",
    "\n",
    "&emsp;&emsp;如果想在外部访问内部变量，可以增加get_attrs方法:\n",
    "\n",
    "```python\n",
    "def get_score(self):\n",
    "    return self._score\n",
    "```\n",
    "&emsp;&emsp;如果想在外部修改内部变量，可以增加set_attrs方法:\n",
    "\n",
    "```python\n",
    "#可以在方法中增加限制来确保修改数据不会出错\n",
    "def set_score(self,score):\n",
    "    XXXX\n",
    "    self._score=score\n",
    "```"
   ]
  },
  {
   "cell_type": "markdown",
   "metadata": {},
   "source": [
    "## 继承"
   ]
  },
  {
   "cell_type": "markdown",
   "metadata": {},
   "source": [
    "### 单继承\n",
    "Python使用继承时，将`class ClassName(object)`中的`object`修改为需要继承的父类名。\n",
    "- 在继承时，父类的私有方法不会被继承，例如父类的构造方法 (`__init__`)不会被调用，需要在子类的构造方法中专门调用；\n",
    "- 在调用父类的方法时需要加上父类的类型前缀，并带上self参数；\n",
    "- 在Python中，首先查找对应类型的方法，如果在子类中找不到对应的方法，才到父类中逐个查找。"
   ]
  },
  {
   "cell_type": "code",
   "execution_count": 1,
   "metadata": {},
   "outputs": [
    {
     "name": "stdout",
     "output_type": "stream",
     "text": [
      "动物会跑🐯\n",
      "动物会跑🐯\n",
      "动物会跑🐯\n"
     ]
    }
   ],
   "source": [
    "class Animal(object):\n",
    "    def run(self):\n",
    "        print('动物会跑🐯')\n",
    "class Dog(Animal):\n",
    "    pass\n",
    "class Cat(Animal):\n",
    "    pass\n",
    "\n",
    "a=Animal()\n",
    "d=Dog()\n",
    "c=Cat()\n",
    "\n",
    "a.run()\n",
    "d.run()\n",
    "c.run()"
   ]
  },
  {
   "cell_type": "markdown",
   "metadata": {},
   "source": [
    "### 多重继承\n",
    "&emsp;&emsp;在Python中，一个子类可以继承多个父类，称为多重继承：  \n",
    "`class ClassName(Base1,Base2,Base3...)`\n",
    "- 在使用多重继承时，需要注意圆括号中父类的顺序，若父类中有相同的方法名，在子类未指定时，Python会从左向右搜索，在父类中查找。"
   ]
  },
  {
   "cell_type": "markdown",
   "metadata": {},
   "source": [
    "## 多态\n",
    "&emsp;&emsp;当子类不满足与父类方法时，可重写父类方法，如下例所示，子类的run()方法会覆盖父类run()方法，在代码中总是调用子类的run()方法，称之为多态。"
   ]
  },
  {
   "cell_type": "code",
   "execution_count": 2,
   "metadata": {},
   "outputs": [
    {
     "name": "stdout",
     "output_type": "stream",
     "text": [
      "动物会跑🐯\n",
      "狗会跑🐶\n",
      "猫会跑🐱\n"
     ]
    }
   ],
   "source": [
    "class Animal(object):\n",
    "    def run(self):\n",
    "        print('动物会跑🐯')\n",
    "class Dog(Animal):\n",
    "    def run(self):\n",
    "        print('狗会跑🐶')\n",
    "class Cat(Animal):\n",
    "    def run(self):\n",
    "        print('猫会跑🐱')\n",
    "\n",
    "a=Animal()\n",
    "d=Dog()\n",
    "c=Cat()\n",
    "\n",
    "a.run()\n",
    "d.run()\n",
    "c.run()\n"
   ]
  },
  {
   "cell_type": "code",
   "execution_count": 3,
   "metadata": {},
   "outputs": [
    {
     "name": "stdout",
     "output_type": "stream",
     "text": [
      "动物会跑🐯\n",
      "动物会跑🐯\n",
      "狗会跑🐶\n",
      "狗会跑🐶\n",
      "猫会跑🐱\n",
      "猫会跑🐱\n"
     ]
    }
   ],
   "source": [
    "class Animal(object):\n",
    "    def run(self):\n",
    "        print('动物会跑🐯')\n",
    "\n",
    "class Dog(Animal):\n",
    "    def run(self):\n",
    "        print('狗会跑🐶')\n",
    "class Cat(Animal):\n",
    "    def run(self):\n",
    "        print('猫会跑🐱')\n",
    "\n",
    "def run_two_times(animals):\n",
    "    animals.run()\n",
    "    animals.run()\n",
    "a=Animal()\n",
    "d=Dog()\n",
    "c=Cat()\n",
    "\n",
    "run_two_times(a)\n",
    "run_two_times(d)\n",
    "run_two_times(c)"
   ]
  },
  {
   "cell_type": "markdown",
   "metadata": {},
   "source": [
    "## 获取对象信息\n",
    "&emsp;&emsp;有时我们需要了解我们所使用的方法类型或者特点时，可以使用以下方法："
   ]
  },
  {
   "cell_type": "markdown",
   "metadata": {},
   "source": [
    "### type()函数\n",
    "&emsp;&emsp;我们在基本数据类型章节中曾使用type()去判断数据类型，如果一个变量指向函数或者类时，用type()函数会返回对应的Class类型：  "
   ]
  },
  {
   "cell_type": "code",
   "execution_count": 1,
   "metadata": {},
   "outputs": [
    {
     "name": "stdout",
     "output_type": "stream",
     "text": [
      "<class '__main__.Animal'>\n",
      "<class '__main__.Dog'>\n",
      "<class '__main__.Cat'>\n"
     ]
    }
   ],
   "source": [
    "class Animal(object):\n",
    "    def run(self):\n",
    "        print('动物会跑🐯')\n",
    "\n",
    "class Dog(Animal):\n",
    "    def run(self):\n",
    "        print('狗会跑🐶')\n",
    "class Cat(Animal):\n",
    "    def run(self):\n",
    "        print('猫会跑🐱')\n",
    "#变量指向类对象\n",
    "a=Animal()\n",
    "d=Dog()\n",
    "c=Cat()\n",
    "print(type(a))\n",
    "print(type(d))\n",
    "print(type(c))"
   ]
  },
  {
   "cell_type": "code",
   "execution_count": 2,
   "metadata": {},
   "outputs": [
    {
     "name": "stdout",
     "output_type": "stream",
     "text": [
      "<class 'builtin_function_or_method'>\n"
     ]
    }
   ],
   "source": [
    "#变量指向函数\n",
    "print(type(abs))"
   ]
  },
  {
   "cell_type": "markdown",
   "metadata": {},
   "source": [
    "### isinstance()函数\n",
    "&emsp;&emsp;使用isinstance()函数可以判断class的继承关系:"
   ]
  },
  {
   "cell_type": "code",
   "execution_count": 3,
   "metadata": {},
   "outputs": [
    {
     "name": "stdout",
     "output_type": "stream",
     "text": [
      "True\n",
      "True\n"
     ]
    }
   ],
   "source": [
    "class Animal(object):\n",
    "    def run(self):\n",
    "        print('动物会跑🐯')\n",
    "\n",
    "class Dog(Animal):\n",
    "    def run(self):\n",
    "        print('狗会跑🐶')\n",
    "\n",
    "a=Animal()\n",
    "d=Dog()\n",
    "\n",
    "print(isinstance(d,Dog))\n",
    "print(isinstance(d,Animal))"
   ]
  },
  {
   "cell_type": "markdown",
   "metadata": {},
   "source": [
    "### dir()方法\n",
    "&emsp;&emsp;如果想要获得一个对象的所有属性和方法，就可以使用dir()函数，dir()函数返回一个字符串的list。例如，获得一个str对象的所有属性和方法的方式如下："
   ]
  },
  {
   "cell_type": "code",
   "execution_count": 4,
   "metadata": {},
   "outputs": [
    {
     "name": "stdout",
     "output_type": "stream",
     "text": [
      "['__add__', '__class__', '__contains__', '__delattr__', '__dir__', '__doc__', '__eq__', '__format__', '__ge__', '__getattribute__', '__getitem__', '__getnewargs__', '__gt__', '__hash__', '__init__', '__init_subclass__', '__iter__', '__le__', '__len__', '__lt__', '__mod__', '__mul__', '__ne__', '__new__', '__reduce__', '__reduce_ex__', '__repr__', '__rmod__', '__rmul__', '__setattr__', '__sizeof__', '__str__', '__subclasshook__', 'capitalize', 'casefold', 'center', 'count', 'encode', 'endswith', 'expandtabs', 'find', 'format', 'format_map', 'index', 'isalnum', 'isalpha', 'isascii', 'isdecimal', 'isdigit', 'isidentifier', 'islower', 'isnumeric', 'isprintable', 'isspace', 'istitle', 'isupper', 'join', 'ljust', 'lower', 'lstrip', 'maketrans', 'partition', 'replace', 'rfind', 'rindex', 'rjust', 'rpartition', 'rsplit', 'rstrip', 'split', 'splitlines', 'startswith', 'strip', 'swapcase', 'title', 'translate', 'upper', 'zfill']\n"
     ]
    }
   ],
   "source": [
    "print(dir('a'))"
   ]
  },
  {
   "cell_type": "markdown",
   "metadata": {},
   "source": [
    "获得Animal对象的属性和方法如下："
   ]
  },
  {
   "cell_type": "code",
   "execution_count": 5,
   "metadata": {},
   "outputs": [
    {
     "name": "stdout",
     "output_type": "stream",
     "text": [
      "['__class__', '__delattr__', '__dict__', '__dir__', '__doc__', '__eq__', '__format__', '__ge__', '__getattribute__', '__gt__', '__hash__', '__init__', '__init_subclass__', '__le__', '__lt__', '__module__', '__ne__', '__new__', '__reduce__', '__reduce_ex__', '__repr__', '__setattr__', '__sizeof__', '__str__', '__subclasshook__', '__weakref__', 'run']\n"
     ]
    }
   ],
   "source": [
    "class Animal(object):\n",
    "    def run(self):\n",
    "        print('动物会跑🐯')\n",
    "\n",
    "a=Animal()\n",
    "print(dir(a))"
   ]
  },
  {
   "cell_type": "markdown",
   "metadata": {},
   "source": [
    "## 类的专有方法\n",
    "&emsp;&emsp;Python中定义了一些专有方法，看到形如`__xxx__`的变量或函数名时需要注意，这是在Python中有特殊用途的，例如前面接触到的`__init__`，除此之外，Python中还有许多其他用途的函数，下面介绍几个比较常用的函数。"
   ]
  },
  {
   "cell_type": "markdown",
   "metadata": {},
   "source": [
    "### `__str__()`、`__repr__()`\n",
    "&emsp;&emsp;用于定义类的返回格式，类似于JAVA的toString方法，不同点在于`__str__()`返回用户看到的字符串，、`__repr__()`返回程序开发者看到的字符串，通常，两个函数的代码是一样的，可以写成："
   ]
  },
  {
   "cell_type": "code",
   "execution_count": 6,
   "metadata": {},
   "outputs": [
    {
     "name": "stdout",
     "output_type": "stream",
     "text": [
      "骆驼🐫会跑\n"
     ]
    }
   ],
   "source": [
    "name=''\n",
    "class Animal(object):\n",
    "    def __init__(self,name):\n",
    "        self.name=name\n",
    "    def run(self):\n",
    "        print('动物会跑🐯')\n",
    "    def __str__(self):\n",
    "        return '%s会跑'%self.name\n",
    "    __repr__=__str__#在交互模式下会调用repr\n",
    "\n",
    "print(Animal('骆驼🐫'))"
   ]
  },
  {
   "cell_type": "markdown",
   "metadata": {},
   "source": [
    "### `__iter__()`\n",
    "&emsp;&emsp;如果想将一个类用于for...in循环，类似list和tuple一样，就必须实现一个`__iter__()`方法。该方法返回一个迭代对象，Python的for循环会不断的调用该迭代对象的`__next__()`方法，获得循环的下一个值，直到遇到StopIteration错误时退出循环。"
   ]
  },
  {
   "cell_type": "code",
   "execution_count": 7,
   "metadata": {},
   "outputs": [
    {
     "name": "stdout",
     "output_type": "stream",
     "text": [
      "1\n",
      "1\n",
      "2\n",
      "3\n",
      "5\n",
      "8\n",
      "13\n",
      "21\n",
      "34\n",
      "55\n",
      "89\n",
      "144\n",
      "233\n",
      "377\n",
      "610\n",
      "987\n",
      "1597\n",
      "2584\n",
      "4181\n",
      "6765\n",
      "10946\n",
      "17711\n",
      "28657\n",
      "46368\n",
      "75025\n"
     ]
    }
   ],
   "source": [
    "class Fib(object):\n",
    "    def __init__(self):\n",
    "        self.a,self.b=0,1\n",
    "    def __iter__(self):\n",
    "        return self\n",
    "    def __next__(self):\n",
    "        self.a,self.b=self.b,self.a+self.b\n",
    "        if self.a>100000:\n",
    "            raise StopIteration()\n",
    "        return self.a\n",
    "\n",
    "for i in Fib():\n",
    "    print(i)"
   ]
  },
  {
   "cell_type": "markdown",
   "metadata": {},
   "source": [
    "### `__getitem__()`\n",
    "&emsp;&emsp;上节例子中虽然能实现for循环，和list有点像，但不能将其作为list使用，无法进行索引等操作。要像list一样按照下标取出元素，需要`__getitem__()`方法，例如："
   ]
  },
  {
   "cell_type": "code",
   "execution_count": 8,
   "metadata": {},
   "outputs": [
    {
     "name": "stdout",
     "output_type": "stream",
     "text": [
      "3\n"
     ]
    }
   ],
   "source": [
    "class Fib(object):\n",
    "    def __getitem__(self, item):\n",
    "        a,b=1,1\n",
    "        for x in range(item):\n",
    "            a,b=b,a+b\n",
    "        return a\n",
    "fib=Fib()\n",
    "print(fib[3])"
   ]
  },
  {
   "cell_type": "markdown",
   "metadata": {},
   "source": [
    "### `__getattr__()`\n",
    "&emsp;&emsp;正常情况下，调用类的方法或属性时，如果类的方法或属性不存在就会报错，，为了避免这种错误，Python提供了一个`__getattr__()`方法，动态返回一个属性："
   ]
  },
  {
   "cell_type": "code",
   "execution_count": 12,
   "metadata": {},
   "outputs": [
    {
     "name": "stdout",
     "output_type": "stream",
     "text": [
      "学生姓名是小智\n",
      "None\n",
      "你查找的属性不存在\n"
     ]
    }
   ],
   "source": [
    "class Student(object):\n",
    "    def __init__(self,name):\n",
    "        self.__name=name\n",
    "    def __str__(self):\n",
    "        return '学生姓名是%s'%self.__name\n",
    "    def __getattr__(self, item):\n",
    "        if item!='__name':\n",
    "            return '你查找的属性不存在'\n",
    "\n",
    "a=Student('小智')\n",
    "print(a)\n",
    "print(a.__name)#私有属性，返回None\n",
    "print(a.score)"
   ]
  },
  {
   "cell_type": "markdown",
   "metadata": {},
   "source": [
    "### `__call__()`\n",
    "&emsp;&emsp;一个对象可以有自己的属性和方法，除了调用方法外，还可以调用对象本身，只需要定义一个`__call__()`方法。"
   ]
  },
  {
   "cell_type": "code",
   "execution_count": 13,
   "metadata": {},
   "outputs": [
    {
     "name": "stdout",
     "output_type": "stream",
     "text": [
      "<__main__.Student object at 0x0000027186491508>\n",
      "学生姓名是小智，分数是100\n"
     ]
    }
   ],
   "source": [
    "class Student(object):\n",
    "    def __init__(self,name):\n",
    "        self.__name=name\n",
    "    def __call__(self, *args, **kwargs):\n",
    "        return '学生姓名是%s，分数是%d'%(self.__name,args[0])\n",
    "a=Student('小智')\n",
    "print(a)\n",
    "print(a(100))"
   ]
  },
  {
   "cell_type": "code",
   "execution_count": null,
   "metadata": {},
   "outputs": [],
   "source": []
  }
 ],
 "metadata": {
  "kernelspec": {
   "display_name": "Python 3",
   "language": "python",
   "name": "python3"
  },
  "language_info": {
   "codemirror_mode": {
    "name": "ipython",
    "version": 3
   },
   "file_extension": ".py",
   "mimetype": "text/x-python",
   "name": "python",
   "nbconvert_exporter": "python",
   "pygments_lexer": "ipython3",
   "version": "3.7.4"
  },
  "toc-autonumbering": true
 },
 "nbformat": 4,
 "nbformat_minor": 4
}
