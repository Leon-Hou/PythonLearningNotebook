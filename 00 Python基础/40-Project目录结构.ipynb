{
 "cells": [
  {
   "cell_type": "markdown",
   "metadata": {},
   "source": [
    "# Python目录结构"
   ]
  },
  {
   "cell_type": "markdown",
   "metadata": {},
   "source": [
    "- 对于Web项目，我们通常采用Flask或Django等框架，会有一套适合这种项目的工程目录。\n",
    "- 对于爬虫项目，通常有Scrapy等开源框架，也会提供一套适合这种项目的工程目录。\n",
    "- 对于通用的一些Python项目，Python并没有官方或标准的目录架构设计方案，通过查阅相关文章，使用较多的为以下结构：  \n",
    "\n",
    "            Project/\n",
    "                |-- bin/\n",
    "                |    |-- a/\n",
    "                |    |-- b/\n",
    "                |\n",
    "                |-- corecode/\n",
    "                |    |-- m1/\n",
    "                |    |    |-- init.py\n",
    "                |    |    |-- xxx.py\n",
    "                |    |-- m2/\n",
    "                |    |    |-- init.py\n",
    "                |    |    |-- xxx.py\n",
    "                |    |\n",
    "                |    |-- tests/\n",
    "                |    |    |-- init.py\n",
    "                |    |    |-- test_main.py\n",
    "                |    |\n",
    "                |    |-- init.py\n",
    "                |    |-- main.py\n",
    "                | \n",
    "                |-- docs/\n",
    "                |    |-- conf.py\n",
    "                |    |-- abc.ini\n",
    "                |\n",
    "                |-- extras/\n",
    "                |    |-- C\n",
    "                |    |-- x.JAVA\n",
    "                |\n",
    "                |-- log/\n",
    "                |    |-- xxx.log\n",
    "                |\n",
    "                |-- resource/\n",
    "                |    |-- icon/\n",
    "                |    |-- xxx\n",
    "                |\n",
    "                |-- .gitignore\n",
    "                |-- CHANGELOG\n",
    "                |-- LICENSE.txt\n",
    "                |-- README\n",
    "                |-- requirements.txt\n"
   ]
  },
  {
   "cell_type": "markdown",
   "metadata": {},
   "source": [
    "- bin/: 存放项目的一些可执行文件/脚本文件，当然你可以起名script/之类的也行。\n",
    "- corecode/: 存放项目的所有源代码。\n",
    "    - (1) 源代码中的所有模块、包都应该放在此目录。不要置于顶层目录。\n",
    "    - (2) 其子目录tests/存放单元测试代码； \n",
    "    - (3) 程序的入口最好命名为main.py。\n",
    "- docs/：文档类文件，例如参考文档、[项目配置文件](https://martin-thoma.com/configuration-files-in-python/)等；\n",
    "- extras/：外部代码，例如C/C++、JAVA等；\n",
    "- log/：存放运行log；\n",
    "- resource/：存放代码执行的资源，例如界面图标、数据集等；\n",
    "- .gitignore：Git项目文件，这个文件的作用就是告诉Git哪些文件不需要添加到版本管理中。\n",
    "- CHANGELOG：更新日志文件，若使用git等版本控制软件，可自动生成，前提是使用[规范的书写方式](https://www.jianshu.com/p/1b56cd033eea)；\n",
    "- LICENSE：开源协议，常见开源许可协议可点击-[这里](https://www.jianshu.com/p/a57c13631d5e)-查看；\n",
    "- README： 说明文档，一般包括使用的环境，安装的方法，软件的基本原理、测试数据及常见问题等\n",
    "- requirements.txt：存放软件依赖的外部Python包列表：\n",
    "    - 生成：在项目根目录下运行 `pip freeze > requirements.txt`\n",
    "    - 安装：`pip install -r requirements.txt`"
   ]
  },
  {
   "cell_type": "code",
   "execution_count": null,
   "metadata": {},
   "outputs": [],
   "source": []
  }
 ],
 "metadata": {
  "kernelspec": {
   "display_name": "Python 3",
   "language": "python",
   "name": "python3"
  },
  "language_info": {
   "codemirror_mode": {
    "name": "ipython",
    "version": 3
   },
   "file_extension": ".py",
   "mimetype": "text/x-python",
   "name": "python",
   "nbconvert_exporter": "python",
   "pygments_lexer": "ipython3",
   "version": "3.7.4"
  }
 },
 "nbformat": 4,
 "nbformat_minor": 4
}
