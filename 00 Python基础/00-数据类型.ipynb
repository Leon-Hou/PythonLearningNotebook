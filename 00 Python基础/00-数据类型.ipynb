{
 "cells": [
  {
   "cell_type": "markdown",
   "metadata": {},
   "source": [
    "# Python中的数据类型"
   ]
  },
  {
   "cell_type": "markdown",
   "metadata": {},
   "source": [
    "\n",
    "> Python3中有6种标准的数据类型：[Number](http://www.runoob.com/python3/python3-number.html)（数字）、[String](http://www.runoob.com/python3/python3-string.html)（字符串）、[List](http://www.runoob.com/python/python-lists.html)（列表）、[Tuple](http://www.runoob.com/python3/python3-tuple.html)（元组）、Dictionary（字典）  、Sets（集合）\n",
    "> - 不可变数据（3 个）：Number（数字）、String（字符串）、Tuple（元组）； (重新赋值ID会变) \n",
    "> - 可变数据（3 个）：List（列表）、Dictionary（字典）、Set（集合）。\n",
    "> \n",
    "\n",
    "---\n",
    "**目录：**\n",
    "[TOC]\n"
   ]
  },
  {
   "cell_type": "markdown",
   "metadata": {},
   "source": [
    "## Number（数字）\n",
    "&emsp;&emsp;Python支持四种不同的数字类型：整型（int）、浮点型（float）、布尔型（bool）、复数（complex）,使用Type()可以查看数据类型。"
   ]
  },
  {
   "cell_type": "code",
   "execution_count": 4,
   "metadata": {},
   "outputs": [
    {
     "name": "stdout",
     "output_type": "stream",
     "text": [
      "<class 'int'> <class 'float'> <class 'bool'> <class 'complex'>\n"
     ]
    }
   ],
   "source": [
    "a, b, c, d = 20, 5.5, True, 4+3j\n",
    "print(type(a), type(b), type(c), type(d))"
   ]
  },
  {
   "cell_type": "markdown",
   "metadata": {},
   "source": [
    "### int\n",
    "&emsp;&emsp;int通常被称为是整型或整数，是正或负整数，不带小数点。**Python3中对于所有类型的整数，只有一种类型“int”, 且是没有限制大小的**<sup>[Re](https://blog.csdn.net/dggwtsab530713/article/details/101911650)</sup>,可以当作 Python2 的 Long 类型使用。Python的整数类型与其它语言表示的整数类型不太相同，其它语言整型的取值范围与机器位数有关，例如，在32位机器上，整型的取值范围约是-2<sup>31</sup>到2<sup>31</sup>，在64位的机器上整型的取值范围约是-2<sup>63</sup>到2<sup>63</sup>。而**Python的整型能表示的数值仅与机器支持的内存大小有关**，也就是说Pyhton可以表示很大的数，可以超过机器位数所能表示的数值范围。  "
   ]
  },
  {
   "cell_type": "code",
   "execution_count": 24,
   "metadata": {},
   "outputs": [
    {
     "name": "stdout",
     "output_type": "stream",
     "text": [
      "9223372036854775807 1.7976931348623157e+308\n",
      "9223372036854775808\n",
      "10000000000000000000000000000000000000000001\n"
     ]
    }
   ],
   "source": [
    "# 获取最大整型数值\n",
    "import sys\n",
    "im=sys.maxsize #获取整数的最大值,64位电脑为(2^64)/2\n",
    "fm=sys.float_info.max# 浮点数的最大值\n",
    "print(im,fm)\n",
    "print(2**64//2)\n",
    "print(10000000000000000000000000000000000000000001)"
   ]
  },
  {
   "cell_type": "markdown",
   "metadata": {},
   "source": [
    "- 需要注意的是，整数的除法（/）计算结果是浮点数，即使两个整数正好相除，结果也是浮点数，若只想取整数部分，需要使用地板除`//`，余数使用取余`%`。"
   ]
  },
  {
   "cell_type": "code",
   "execution_count": 25,
   "metadata": {},
   "outputs": [
    {
     "name": "stdout",
     "output_type": "stream",
     "text": [
      "5.0\n",
      "5\n",
      "0\n"
     ]
    }
   ],
   "source": [
    "a=15\n",
    "b=3\n",
    "print(a/b)  #除\n",
    "print(a//b) #地板除\n",
    "print(a%b)  #取余"
   ]
  },
  {
   "cell_type": "markdown",
   "metadata": {},
   "source": [
    "- 我们也可以使用十六进制和八进制来代表整数："
   ]
  },
  {
   "cell_type": "code",
   "execution_count": 3,
   "metadata": {},
   "outputs": [
    {
     "name": "stdout",
     "output_type": "stream",
     "text": [
      "15\n",
      "15\n"
     ]
    }
   ],
   "source": [
    "a1=0x0F\n",
    "a2=0o17\n",
    "print(a1)\n",
    "print(a2)"
   ]
  },
  {
   "cell_type": "markdown",
   "metadata": {},
   "source": [
    "- int整数可以在不同进制间进制转换\n",
    "    - hex(x)     # 10进制转16进制\n",
    "    - oct(x)      # 10进制转8进制\n",
    "    - bin(x)      # 10进制转2进制"
   ]
  },
  {
   "cell_type": "code",
   "execution_count": 39,
   "metadata": {},
   "outputs": [
    {
     "name": "stdout",
     "output_type": "stream",
     "text": [
      "0x8\n",
      "0o10\n",
      "0b1000\n"
     ]
    }
   ],
   "source": [
    "x1 =8\n",
    "print(hex(x1))\n",
    "print(oct(x1))\n",
    "print(bin(x1))"
   ]
  },
  {
   "cell_type": "markdown",
   "metadata": {},
   "source": [
    "- 按位运算：python中的按位运算是将数字转换为二进制后进行计算的;<sup>[Re](https://www.cnblogs.com/shanger/p/12925370.html)"
   ]
  },
  {
   "cell_type": "code",
   "execution_count": 25,
   "metadata": {},
   "outputs": [
    {
     "name": "stdout",
     "output_type": "stream",
     "text": [
      "--------------------\n",
      "2 & 3 = 2\n",
      "0b10 & 0b11 = 0b10\n",
      "--------------------\n",
      "2 | 3 = 3\n",
      "0b10 | 0b11 = 0b11\n",
      "--------------------\n",
      "2 ^ 3 = 1\n",
      "0b10 ^ 0b11 = 0b1\n",
      "--------------------\n",
      "~2= -3\n",
      "~ 0b10 = 0b1\n",
      "--------------------\n"
     ]
    }
   ],
   "source": [
    "print('-'*20)\n",
    "# 按位与\n",
    "print('2 & 3 =',2&3)\n",
    "print(bin(2),'&',bin(3),'=',bin(2&3))\n",
    "print('-'*20)\n",
    "# 按位或\n",
    "print('2 | 3 =',2|3)\n",
    "print(bin(2),'|',bin(3),'=',bin(2|3))\n",
    "print('-'*20)\n",
    "# 按位异或 当两个值对应的二进位相异时，结果为1\n",
    "print('2 ^ 3 =',2^3)\n",
    "print(bin(2),'^',bin(3),'=',bin(2^3))\n",
    "print('-'*20)\n",
    "# 按位取反 （注：因为有一个符号二进制数的补码形式，所以~x 类似于 -x-1）\n",
    "print('~2=',~2)\n",
    "print('~',bin(2),'=',bin(2^3))\n",
    "print('-'*20)"
   ]
  },
  {
   "cell_type": "markdown",
   "metadata": {},
   "source": [
    "### float\n",
    "浮点数是用机器上浮点数的本机双精度(64 bit)表示的，其数值范围为1.7e<sup>-308</sup>～1.7e<sup>+308</sup>，和C语言里面的double类型相同，Python不支持32bit的单精度浮点数。如果程序需要精确控制区间和数字精度，可以考虑使用numpy扩展库(在Turbo C中单精度型占4个字节（32位）内存空间，其数值范围为3.4E-38～3.4E+38，只能提供七位有效数字)<sup>[Re](https://www.cnblogs.com/ShaYeBlog/p/7646649.html)。 "
   ]
  },
  {
   "cell_type": "code",
   "execution_count": 27,
   "metadata": {},
   "outputs": [
    {
     "data": {
      "text/plain": [
       "sys.float_info(max=1.7976931348623157e+308, max_exp=1024, max_10_exp=308, min=2.2250738585072014e-308, min_exp=-1021, min_10_exp=-307, dig=15, mant_dig=53, epsilon=2.220446049250313e-16, radix=2, rounds=1)"
      ]
     },
     "execution_count": 27,
     "metadata": {},
     "output_type": "execute_result"
    }
   ],
   "source": [
    "import sys\n",
    "sys.float_info"
   ]
  },
  {
   "cell_type": "markdown",
   "metadata": {},
   "source": [
    "- 整数和浮点数在计算机内部存储方式不同，**整数运算永远都是精确的，而浮点数运算存在四舍五入的误差**，例如"
   ]
  },
  {
   "cell_type": "code",
   "execution_count": 6,
   "metadata": {},
   "outputs": [
    {
     "name": "stdout",
     "output_type": "stream",
     "text": [
      "336.59999999999997\n"
     ]
    }
   ],
   "source": [
    "a=3.3\n",
    "b=102\n",
    "print(a*b)"
   ]
  },
  {
   "cell_type": "markdown",
   "metadata": {},
   "source": [
    "- 两个浮点型地板除（//）和取余（%）的结果为浮点型："
   ]
  },
  {
   "cell_type": "code",
   "execution_count": 1,
   "metadata": {},
   "outputs": [
    {
     "name": "stdout",
     "output_type": "stream",
     "text": [
      "16.0\n",
      "4.0\n"
     ]
    }
   ],
   "source": [
    "print(100.0 // 6.0)\n",
    "print(100.0 % 6.0)"
   ]
  },
  {
   "cell_type": "markdown",
   "metadata": {},
   "source": [
    "- 精度控制<sup>[Re](https://www.runoob.com/w3cnote/python-round-func-note.html)\n",
    "    - round()函数，但round()函数并不是精确的四舍五入，在.5处理时，取偶数一侧，除非对精确度没什么要求，否则尽量避开用round()函数。\n",
    "    - 使用math模块中的一些函数，比如math.ceiling（天花板除法）。\n",
    "    - python自带整除，python2中是/，3中是//，还有div函数。\n",
    "    - 字符串格式化可以做截断使用，例如 \"%.2f\" % value（保留两位小数并变成字符串……如果还想用浮点数请披上float()的外衣）。\n",
    "    - 对浮点数精度要求如果很高的话，请用decimal模块<sup>[Re](https://www.cnblogs.com/xueweihan/p/5207959.html)。"
   ]
  },
  {
   "cell_type": "code",
   "execution_count": 32,
   "metadata": {},
   "outputs": [
    {
     "data": {
      "text/plain": [
       "Decimal('50.57')"
      ]
     },
     "execution_count": 32,
     "metadata": {},
     "output_type": "execute_result"
    }
   ],
   "source": [
    "from decimal import *\n",
    "Decimal('50.5655').quantize(Decimal('0.00'))# 结果四舍五入保留了两位小数"
   ]
  },
  {
   "cell_type": "markdown",
   "metadata": {},
   "source": [
    "### bool\n",
    "- 布尔类型是表示逻辑状态的类型，用 True 和 False 来表示真假。  \n",
    "> 所有的数据类型都自带布尔值，总结一下，[布尔值为false的情况如下](https://www.yuanrenxue.com/python/python-boolean.html)：\n",
    "> - None, False\n",
    "> - 数值中的0, 0.0, 0j(虚数), Decimal(0), Fraction(0, 1)\n",
    "> - 空字符串('')、空元组(())、空列表([])\n",
    "> - 空字典({})、空集合(set())\n",
    "> - 对象默认为True，除非它有bool()方法且返回False或len()方法且返回0.\n"
   ]
  },
  {
   "cell_type": "markdown",
   "metadata": {},
   "source": [
    "- bool 是 int 的子类，任何非 0 数字都为 True"
   ]
  },
  {
   "cell_type": "code",
   "execution_count": 6,
   "metadata": {},
   "outputs": [
    {
     "name": "stdout",
     "output_type": "stream",
     "text": [
      "True\n",
      "True\n"
     ]
    }
   ],
   "source": [
    "print(issubclass(bool, int))\n",
    "print(bool('34')) #bool()将给定参数转换为布尔类型"
   ]
  },
  {
   "cell_type": "markdown",
   "metadata": {},
   "source": [
    "-  在Python中，布尔类型还可以与其他数据类型做逻辑运算，Python的逻辑运算包括and、or、not  <sup>[Re](https://baijiahao.baidu.com/s?id=1645995216613969947&wfr=spider&for=pc)"
   ]
  },
  {
   "cell_type": "code",
   "execution_count": 17,
   "metadata": {},
   "outputs": [
    {
     "name": "stdout",
     "output_type": "stream",
     "text": [
      "777\n",
      "()\n",
      "--------------------\n",
      "True\n",
      "666\n",
      "--------------------\n",
      "False\n",
      "True\n",
      "--------------------\n",
      "666\n",
      "False\n",
      "666\n"
     ]
    }
   ],
   "source": [
    "# and，所有的条件都是True,结果才是True；只要有一个是False,结果就是False所对应元素\n",
    "a = True\n",
    "print(a and '666' and 777) \n",
    "print(() and '666' and 777) \n",
    "print('-'*20)\n",
    "# or,所有的条件只要有一个是True,结果就是True；所有的条件都是False结果才是False\n",
    "print(a or '666' or 777) \n",
    "print(() or '666' or 777) \n",
    "print('-'*20)\n",
    "# not,运算符取反，原来是True,not之后就是False;原来是False,not之后就是True\n",
    "print(not 777)\n",
    "print(not ())\n",
    "print('-'*20)\n",
    "# 在不加括号时候, and优先级大于or\n",
    "print(666 or (777 and False))\n",
    "print((666 or 777) and False)\n",
    "print(666 or 777 and False) # 不加括号结果与第一种情况一致，证明and优先级高于or"
   ]
  },
  {
   "cell_type": "markdown",
   "metadata": {},
   "source": [
    "### complex\n",
    "- 复数是由一个实数和一个虚数组合构成，表示为：x+yj,复数可以用使用函数 complex(real, imag) 或者是带有后缀j的浮点数来指定:"
   ]
  },
  {
   "cell_type": "code",
   "execution_count": 24,
   "metadata": {},
   "outputs": [
    {
     "name": "stdout",
     "output_type": "stream",
     "text": [
      "(1.4+6.3j) <class 'complex'>\n",
      "(1.4+6.3j) <class 'complex'>\n"
     ]
    }
   ],
   "source": [
    "aa = 1.4 + 6.3J\n",
    "print(aa,type(aa))\n",
    "cc = complex(1.4, 6.3)\n",
    "print(cc,type(cc))"
   ]
  },
  {
   "cell_type": "markdown",
   "metadata": {},
   "source": [
    "- 一个复数是一对有序浮点数 (x, y)，其中 x 是实数部分，y 是虚数部分: "
   ]
  },
  {
   "cell_type": "code",
   "execution_count": 21,
   "metadata": {},
   "outputs": [
    {
     "name": "stdout",
     "output_type": "stream",
     "text": [
      "(1+6j)\n",
      "1.0\n",
      "6.0\n",
      "(1-6j)\n"
     ]
    }
   ],
   "source": [
    "aa=1+6J\n",
    "print(aa)\n",
    "print(aa.real)\n",
    "print(aa.imag)\n",
    "print(aa.conjugate()) #共轭复数"
   ]
  },
  {
   "cell_type": "markdown",
   "metadata": {},
   "source": [
    "- 虚数不能单独存在，它们总是和一个值为 0.0 的实数部分一起构成一个复数:"
   ]
  },
  {
   "cell_type": "code",
   "execution_count": 12,
   "metadata": {},
   "outputs": [
    {
     "name": "stdout",
     "output_type": "stream",
     "text": [
      "6j\n",
      "0.0\n",
      "6.0\n"
     ]
    }
   ],
   "source": [
    "bb=6J\n",
    "print(bb)\n",
    "print(bb.real)\n",
    "print(bb.imag)"
   ]
  },
  {
   "cell_type": "markdown",
   "metadata": {},
   "source": [
    "- 更多的关于复数的数学运算详见：https://www.cnblogs.com/crawer-1/p/8242017.html"
   ]
  },
  {
   "cell_type": "markdown",
   "metadata": {},
   "source": [
    "## 序列(列表、元组、字符串)\n",
    "\n",
    "> [序列](http://www.cnblogs.com/diaosir/p/6575891.html)是Python中最基本的[数据结构](http://www.runoob.com/python3/python3-data-structure.html)(数据元素的集合)，Python有6中内建序列：**列表、元组、字符串、Unicode字符串、buffer对象和xrange对象**，其中前三种使用较多，本章进行重点讨论。"
   ]
  },
  {
   "cell_type": "markdown",
   "metadata": {},
   "source": [
    "### 通用序列操作\n",
    "> Python中所有序列都可以进行一些特定操作，包括**索引、分片、序列相加、乘法、成员资格、长度、最大值和最小值**。"
   ]
  },
  {
   "cell_type": "markdown",
   "metadata": {},
   "source": [
    "\n",
    "### 索引\n",
    "- 序列中的元素都是有序的，拥有自己编号(从0开始),我们可以通过索引(在[ ]中输入编号)得到序列中对应的元素:"
   ]
  },
  {
   "cell_type": "code",
   "execution_count": 25,
   "metadata": {},
   "outputs": [
    {
     "name": "stdout",
     "output_type": "stream",
     "text": [
      "1\n",
      "2\n",
      "3\n"
     ]
    }
   ],
   "source": [
    "a=[1,2,3,4,5]\n",
    "b=(1,2,3,4,5)\n",
    "c='12345'\n",
    "print(a[0])\n",
    "print(b[1])\n",
    "print(c[2])"
   ]
  },
  {
   "cell_type": "markdown",
   "metadata": {},
   "source": [
    "- 索引也可以为负值,负数索引表示从右往左开始计数，最后一个元素索引为-1，倒数第二为-2，以此类推："
   ]
  },
  {
   "cell_type": "code",
   "execution_count": 26,
   "metadata": {},
   "outputs": [
    {
     "name": "stdout",
     "output_type": "stream",
     "text": [
      "5\n",
      "4\n",
      "3\n"
     ]
    }
   ],
   "source": [
    "#-0=0都指向第一个元素，所以倒数第一个为-1\n",
    "a=[1,2,3,4,5]\n",
    "b=(1,2,3,4,5)\n",
    "c=\"12345\"\n",
    "print(a[-1])\n",
    "print(b[-2])\n",
    "print(c[-3])"
   ]
  },
  {
   "cell_type": "markdown",
   "metadata": {},
   "source": [
    "### 切片\n",
    "使用索引可以获取单个元素，使用分片可以获取序列中指定范围内的元素。  \n",
    "- 分片操作需要提供两个索引作为边界，切片操作符为[start:end]或[start:end:step]，**起始索引包含在分片内，终止索引不包含在分片内，类似于[start, end)**。\n",
    "> start: 起始索引，从0开始索引，-1表示末尾索引  \n",
    "> end：终止索引  \n",
    "> step: 步长，步长为正时，从左向右取值。步长为负时，反向取值  "
   ]
  },
  {
   "cell_type": "code",
   "execution_count": 28,
   "metadata": {},
   "outputs": [
    {
     "name": "stdout",
     "output_type": "stream",
     "text": [
      "[1, 2, 3]\n",
      "[4]\n",
      "[3, 4]\n",
      "[4, 5]\n",
      "[4, 5]\n",
      "[1, 3]\n",
      "[4, 3, 2]\n",
      "[4, 3, 2, 1]\n"
     ]
    }
   ],
   "source": [
    "#正序取值是start<end\n",
    "a=[1,2,3,4,5]\n",
    "print(a[0:3]) #输出0～2位元素\n",
    "print(a[3:-1]) #输出3～-2位元素\n",
    "print(a[-3:-1]) #输出-3～-2位元素\n",
    "print(a[3:]) #输出3～-1位元素，此种方法可输出最后一个元素\n",
    "print(a[3:len(a)])#此种方法也可输出最后一个元素，常用于变量之中\n",
    "print(a[0:3:2]) #每2个元素(间隔1个)取一次值\n",
    "# 倒序取值是start>end\n",
    "print(a[3:0:-1]) #Step为负，倒序取值\n",
    "print(a[3::-1]) #Step为负，此种方法可以输出第一个元素"
   ]
  },
  {
   "cell_type": "markdown",
   "metadata": {},
   "source": [
    "### 加法`+`\n",
    "- 序列可以执行加法`+`运算，但序列的加法运算与传统加法不同，更多像是追加拼接，对序列进行加法运算，将返回一个新的对象。"
   ]
  },
  {
   "cell_type": "code",
   "execution_count": 29,
   "metadata": {},
   "outputs": [
    {
     "name": "stdout",
     "output_type": "stream",
     "text": [
      "[1, 2, 3]\n",
      "[4, 5, 6]\n",
      "[1, 2, 3, 4, 5, 6]\n"
     ]
    }
   ],
   "source": [
    "#列表加法（元组、字符串与此类似）\n",
    "a=[1,2,3]\n",
    "b=[4,5,6]\n",
    "c=a+b\n",
    "print(a)\n",
    "print(b)\n",
    "print(c)"
   ]
  },
  {
   "cell_type": "markdown",
   "metadata": {},
   "source": [
    "- 但要注意，两种相同的序列才可以进行加法操作，类型不同的序列相加会报错误。"
   ]
  },
  {
   "cell_type": "code",
   "execution_count": 30,
   "metadata": {},
   "outputs": [
    {
     "ename": "TypeError",
     "evalue": "can only concatenate list (not \"tuple\") to list",
     "output_type": "error",
     "traceback": [
      "\u001b[1;31m---------------------------------------------------------------------------\u001b[0m",
      "\u001b[1;31mTypeError\u001b[0m                                 Traceback (most recent call last)",
      "\u001b[1;32m<ipython-input-30-519cc91d3c9e>\u001b[0m in \u001b[0;36m<module>\u001b[1;34m\u001b[0m\n\u001b[0;32m      1\u001b[0m \u001b[0ma\u001b[0m\u001b[1;33m=\u001b[0m\u001b[1;33m[\u001b[0m\u001b[1;36m1\u001b[0m\u001b[1;33m,\u001b[0m\u001b[1;36m2\u001b[0m\u001b[1;33m,\u001b[0m\u001b[1;36m3\u001b[0m\u001b[1;33m]\u001b[0m\u001b[1;33m\u001b[0m\u001b[1;33m\u001b[0m\u001b[0m\n\u001b[0;32m      2\u001b[0m \u001b[0mb\u001b[0m\u001b[1;33m=\u001b[0m\u001b[1;33m(\u001b[0m\u001b[1;36m4\u001b[0m\u001b[1;33m,\u001b[0m\u001b[1;36m5\u001b[0m\u001b[1;33m,\u001b[0m\u001b[1;36m6\u001b[0m\u001b[1;33m)\u001b[0m\u001b[1;33m\u001b[0m\u001b[1;33m\u001b[0m\u001b[0m\n\u001b[1;32m----> 3\u001b[1;33m \u001b[0mc\u001b[0m\u001b[1;33m=\u001b[0m\u001b[0ma\u001b[0m\u001b[1;33m+\u001b[0m\u001b[0mb\u001b[0m\u001b[1;33m\u001b[0m\u001b[1;33m\u001b[0m\u001b[0m\n\u001b[0m\u001b[0;32m      4\u001b[0m \u001b[0mprint\u001b[0m\u001b[1;33m(\u001b[0m\u001b[0mc\u001b[0m\u001b[1;33m)\u001b[0m\u001b[1;33m\u001b[0m\u001b[1;33m\u001b[0m\u001b[0m\n",
      "\u001b[1;31mTypeError\u001b[0m: can only concatenate list (not \"tuple\") to list"
     ]
    }
   ],
   "source": [
    "a=[1,2,3]\n",
    "b=(4,5,6)\n",
    "c=a+b\n",
    "print(c)"
   ]
  },
  {
   "cell_type": "markdown",
   "metadata": {},
   "source": [
    "### 乘法`*`\n",
    "- 序列可以执行乘法`*`运算，与序列加法类似，将原序列进行多次追加拼接。"
   ]
  },
  {
   "cell_type": "code",
   "execution_count": 36,
   "metadata": {},
   "outputs": [
    {
     "name": "stdout",
     "output_type": "stream",
     "text": [
      "[1, 2, 3, 1, 2, 3, 1, 2, 3, 1, 2, 3, 1, 2, 3]\n",
      "(1, 2, 3, 1, 2, 3, 1, 2, 3, 1, 2, 3, 1, 2, 3)\n",
      "--------------------------------------------------\n"
     ]
    }
   ],
   "source": [
    "#字符串相乘\n",
    "print([1,2,3]*5)\n",
    "print((1,2,3)*5)\n",
    "print('-'*50)"
   ]
  },
  {
   "cell_type": "markdown",
   "metadata": {},
   "source": [
    "### 成员资格检查`in`\n",
    "- 成员资格检查用于检查某元素是否在序列中，用运算符`in`来实现，它的返回值为布尔值（True或False），因此`in`为布尔运算符。"
   ]
  },
  {
   "cell_type": "code",
   "execution_count": 41,
   "metadata": {},
   "outputs": [
    {
     "name": "stdout",
     "output_type": "stream",
     "text": [
      "True\n",
      "False\n"
     ]
    }
   ],
   "source": [
    "#列表的成员资格检查\n",
    "b=[1,2,3]\n",
    "print(1 in b)\n",
    "#in算法不能用于确定一个列表是否包含在另一个列表内\n",
    "print([1,2] in b)"
   ]
  },
  {
   "cell_type": "code",
   "execution_count": 42,
   "metadata": {},
   "outputs": [
    {
     "name": "stdout",
     "output_type": "stream",
     "text": [
      "True\n",
      "False\n"
     ]
    }
   ],
   "source": [
    "# 元组成员资格检查\n",
    "a=(1,2,3)\n",
    "print(1 in a)\n",
    "#in算法不能用于确定一个元组是否包含在另一个元组内\n",
    "print((1,2) in a) "
   ]
  },
  {
   "cell_type": "code",
   "execution_count": 44,
   "metadata": {},
   "outputs": [
    {
     "name": "stdout",
     "output_type": "stream",
     "text": [
      "True\n",
      "True\n"
     ]
    }
   ],
   "source": [
    "#字符串的成员资格检查\n",
    "c='hello world'\n",
    "print('h' in c)\n",
    "#in算法可以用于确定一个字符串是否包含在另一个字符串内\n",
    "print('hello' in c)"
   ]
  },
  {
   "cell_type": "markdown",
   "metadata": {},
   "source": [
    "### 项目数量`len()`\n",
    "- `len()`方法可以用来计算序列的长度或项目个数。"
   ]
  },
  {
   "cell_type": "code",
   "execution_count": 46,
   "metadata": {},
   "outputs": [
    {
     "name": "stdout",
     "output_type": "stream",
     "text": [
      "3\n",
      "3\n",
      "3\n"
     ]
    }
   ],
   "source": [
    "print(len([1,2,3]))\n",
    "print(len((1,2,3)))\n",
    "print(len('123'))"
   ]
  },
  {
   "cell_type": "markdown",
   "metadata": {},
   "source": [
    "### 最大值`max()`和最小值`min()`\n",
    "- `max()`和`min()`方法可以用于计算序列内的最大值和最小值，且数字类型`-inf<0<inf`。"
   ]
  },
  {
   "cell_type": "code",
   "execution_count": 47,
   "metadata": {},
   "outputs": [
    {
     "name": "stdout",
     "output_type": "stream",
     "text": [
      "2\n",
      "7\n"
     ]
    }
   ],
   "source": [
    "b=[5,2,3,4,(7)]\n",
    "print(min(b))\n",
    "print(max(b))"
   ]
  },
  {
   "cell_type": "markdown",
   "metadata": {},
   "source": [
    "- 字符类型`'*'<'1'<'A'<'Z'<'a'<'z'`"
   ]
  },
  {
   "cell_type": "code",
   "execution_count": 48,
   "metadata": {},
   "outputs": [
    {
     "name": "stdout",
     "output_type": "stream",
     "text": [
      "*\n",
      "x\n"
     ]
    }
   ],
   "source": [
    "c='abcx*1'\n",
    "print(min(c))\n",
    "print(max(c))"
   ]
  },
  {
   "cell_type": "markdown",
   "metadata": {},
   "source": [
    "- 当存在多个相同的最大值时，返回的是最先出现的那个最大值。"
   ]
  },
  {
   "cell_type": "code",
   "execution_count": 49,
   "metadata": {},
   "outputs": [
    {
     "name": "stdout",
     "output_type": "stream",
     "text": [
      "1\n",
      "5\n"
     ]
    }
   ],
   "source": [
    "c = [1,1,2,3,4,5,5]\n",
    "print(min(c))\n",
    "print(max(c))"
   ]
  },
  {
   "cell_type": "markdown",
   "metadata": {},
   "source": [
    "- 需要注意的是python3之后`max()`和`min()`不能用于数字类型和字符类型之间的比较。"
   ]
  },
  {
   "cell_type": "code",
   "execution_count": 50,
   "metadata": {},
   "outputs": [
    {
     "ename": "TypeError",
     "evalue": "'<' not supported between instances of 'str' and 'float'",
     "output_type": "error",
     "traceback": [
      "\u001b[1;31m---------------------------------------------------------------------------\u001b[0m",
      "\u001b[1;31mTypeError\u001b[0m                                 Traceback (most recent call last)",
      "\u001b[1;32m<ipython-input-50-797bac97b31c>\u001b[0m in \u001b[0;36m<module>\u001b[1;34m\u001b[0m\n\u001b[0;32m      1\u001b[0m \u001b[0ma\u001b[0m\u001b[1;33m=\u001b[0m\u001b[1;33m[\u001b[0m\u001b[1;36m5\u001b[0m\u001b[1;33m,\u001b[0m\u001b[1;36m2.0\u001b[0m\u001b[1;33m,\u001b[0m\u001b[1;34m'A'\u001b[0m\u001b[1;33m,\u001b[0m\u001b[1;36m4\u001b[0m\u001b[1;33m,\u001b[0m\u001b[1;33m(\u001b[0m\u001b[1;36m7\u001b[0m\u001b[1;33m)\u001b[0m\u001b[1;33m]\u001b[0m\u001b[1;33m\u001b[0m\u001b[1;33m\u001b[0m\u001b[0m\n\u001b[1;32m----> 2\u001b[1;33m \u001b[0mprint\u001b[0m\u001b[1;33m(\u001b[0m\u001b[0mmin\u001b[0m\u001b[1;33m(\u001b[0m\u001b[0ma\u001b[0m\u001b[1;33m)\u001b[0m\u001b[1;33m)\u001b[0m\u001b[1;33m\u001b[0m\u001b[1;33m\u001b[0m\u001b[0m\n\u001b[0m\u001b[0;32m      3\u001b[0m \u001b[0mprint\u001b[0m\u001b[1;33m(\u001b[0m\u001b[0mmax\u001b[0m\u001b[1;33m(\u001b[0m\u001b[0ma\u001b[0m\u001b[1;33m)\u001b[0m\u001b[1;33m)\u001b[0m\u001b[1;33m\u001b[0m\u001b[1;33m\u001b[0m\u001b[0m\n",
      "\u001b[1;31mTypeError\u001b[0m: '<' not supported between instances of 'str' and 'float'"
     ]
    }
   ],
   "source": [
    "a=[5,2.0,'A',4,(7)]\n",
    "print(min(a))\n",
    "print(max(a))"
   ]
  },
  {
   "cell_type": "markdown",
   "metadata": {},
   "source": [
    "## 列表List"
   ]
  },
  {
   "cell_type": "markdown",
   "metadata": {},
   "source": [
    "列表是python中最常用的数据类型，列表中的数据项通过`[]`包裹起来，通过`,`隔开。列表的数据项不需要具有相同的类型，可以是数字、字符串、另一个列表、元组、字典等等。"
   ]
  },
  {
   "cell_type": "code",
   "execution_count": 1,
   "metadata": {},
   "outputs": [
    {
     "name": "stdout",
     "output_type": "stream",
     "text": [
      "[True, 5, 2.0, 'A', 4, (7, 5), ['hello', 'world'], {1, 2}, {'leon': 1, 'leo': 2}]\n"
     ]
    }
   ],
   "source": [
    "a=[True,5,2.0,'A',4,(7,5),['hello','world'],{1,2},{'leon':1,'leo':2}]\n",
    "print(a)"
   ]
  },
  {
   "cell_type": "markdown",
   "metadata": {},
   "source": [
    "### 增\n",
    "&emsp;&emsp;列表数据的更新及添加有三个方法：`append()`、`insert()`和`extend`。"
   ]
  },
  {
   "cell_type": "code",
   "execution_count": 2,
   "metadata": {},
   "outputs": [
    {
     "name": "stdout",
     "output_type": "stream",
     "text": [
      "[True, 5, 2.0, 'A', 4, (7, 5), ['hello', 'world'], {1, 2}, {'leon': 1, 'leo': 2}]\n",
      "[True, 5, 2.0, 'A', 4, (7, 5), ['hello', 'world'], {1, 2}, {'leon': 1, 'leo': 2}, 'end']\n"
     ]
    }
   ],
   "source": [
    "# 末尾增`append(x)` 将数据追加在末尾。\n",
    "a=[True,5,2.0,'A',4,(7,5),['hello','world'],{1,2},{'leon':1,'leo':2}]\n",
    "print(a)\n",
    "a.append('end') # append()方法直接把新数据追加在最后一位上\n",
    "print(a)"
   ]
  },
  {
   "cell_type": "code",
   "execution_count": 4,
   "metadata": {},
   "outputs": [
    {
     "name": "stdout",
     "output_type": "stream",
     "text": [
      "[True, 5, 2.0, 'A', 4, (7, 5), ['hello', 'world'], {1, 2}, {'leon': 1, 'leo': 2}]\n",
      "['start', True, 5, 2.0, 'A', 4, (7, 5), ['hello', 'world'], {1, 2}, {'leon': 1, 'leo': 2}]\n"
     ]
    }
   ],
   "source": [
    "# 索引增`insert(index, x)`将数据添加到指定位置：\n",
    "a=[True,5,2.0,'A',4,(7,5),['hello','world'],{1,2},{'leon':1,'leo':2}]\n",
    "print(a)\n",
    "a.insert(0,'start')\n",
    "print(a)"
   ]
  },
  {
   "cell_type": "code",
   "execution_count": 9,
   "metadata": {},
   "outputs": [
    {
     "name": "stdout",
     "output_type": "stream",
     "text": [
      "[True, 5, 2.0, 'A', 4, (7, 5), ['hello', 'world'], {1, 2}, {'leon': 1, 'leo': 2}]\n",
      "[True, 5, 2.0, 'A', 4, (7, 5), ['hello', 'world'], {1, 2}, {'leon': 1, 'leo': 2}, 'out1', 'out2']\n",
      "[True, 5, 2.0, 'A', 4, (7, 5), ['hello', 'world'], {1, 2}, {'leon': 1, 'leo': 2}]\n",
      "[True, 5, 2.0, 'A', 4, (7, 5), ['hello', 'world'], {1, 2}, {'leon': 1, 'leo': 2}, 'out1', 'out2']\n"
     ]
    }
   ],
   "source": [
    "# 追加增`extend()` 用于在末尾追加另一个列表。\n",
    "a = [True,5,2.0,'A',4,(7,5),['hello','world'],{1,2},{'leon':1,'leo':2}]\n",
    "b = ['out1','out2']\n",
    "print(a)\n",
    "a.extend(b) #必需参数为列表 \n",
    "print(a)\n",
    "# 直接使用+法可以达到相同的效果\n",
    "a1 = [True,5,2.0,'A',4,(7,5),['hello','world'],{1,2},{'leon':1,'leo':2}]\n",
    "b1 = ['out1','out2']\n",
    "print(a1)\n",
    "a1 = a1 + b1\n",
    "print(a1)"
   ]
  },
  {
   "cell_type": "markdown",
   "metadata": {},
   "source": [
    "### 删\n",
    "&emsp;&emsp;列表数据的删除有[四种方法](https://www.cnblogs.com/chaofn/p/4592258.html)：`pop()`、`del`<sup>[Re](https://www.cnblogs.com/cheng10/p/9634437.html)</sup>、`remove()`和`clear()`,"
   ]
  },
  {
   "cell_type": "code",
   "execution_count": 19,
   "metadata": {},
   "outputs": [
    {
     "name": "stdout",
     "output_type": "stream",
     "text": [
      "[True, 5, 2.0, 'A', 4, (7, 5), ['hello', 'world'], {1, 2}, {'leon': 1, 'leo': 2}]\n",
      "{'leon': 1, 'leo': 2}\n",
      "[True, 5, 2.0, 'A', 4, (7, 5), ['hello', 'world'], {1, 2}]\n",
      "{1, 2}\n"
     ]
    }
   ],
   "source": [
    "# 索引删`pop()`用于删除末尾(默认)或指定索引数据\n",
    "a=[True,5,2.0,'A',4,(7,5),['hello','world'],{1,2},{'leon':1,'leo':2}]\n",
    "print(a)\n",
    "b=a.pop() #pop()默认删除末尾，可传入整型索引位置实现指定位置数据的删除\n",
    "print(b) #pop()返回值为删除的元素\n",
    "print(a)\n",
    "b1 = a.pop(-1)\n",
    "print(b1)"
   ]
  },
  {
   "cell_type": "code",
   "execution_count": 28,
   "metadata": {},
   "outputs": [
    {
     "name": "stdout",
     "output_type": "stream",
     "text": [
      "[True, 5, 2.0, 'A', 4, (7, 5), 'A', ['hello', 'world'], {1, 2}, {'leon': 1, 'leo': 2}, 1]\n",
      "[5, 2.0, 4, (7, 5), 'A', ['hello', 'world'], {1, 2}, {'leon': 1, 'leo': 2}, 1]\n"
     ]
    }
   ],
   "source": [
    "# 内容删`remove()` 删除指定内容的数据:\n",
    "a=[True,5,2.0,'A',4,(7,5),'A',['hello','world'],{1,2},{'leon':1,'leo':2},1]\n",
    "print(a)\n",
    "a.remove(1) #注意：True=1  不能一处list内部序列的值例如：{1，2}中的1\n",
    "a.remove('A')#当有多个重复值时，remove()只能删除首次出现的数据\n",
    "print(a)"
   ]
  },
  {
   "cell_type": "code",
   "execution_count": 25,
   "metadata": {},
   "outputs": [
    {
     "name": "stdout",
     "output_type": "stream",
     "text": [
      "[True, 5, 2.0, 'A', 4, (7, 5), 'A', ['hello', 'world'], {1, 2}, {'leon': 1, 'leo': 2}]\n",
      "['A', 4, (7, 5), 'A', ['hello', 'world'], {1, 2}, {'leon': 1, 'leo': 2}]\n",
      "[]\n"
     ]
    },
    {
     "ename": "NameError",
     "evalue": "name 'a' is not defined",
     "output_type": "error",
     "traceback": [
      "\u001b[1;31m---------------------------------------------------------------------------\u001b[0m",
      "\u001b[1;31mNameError\u001b[0m                                 Traceback (most recent call last)",
      "\u001b[1;32m<ipython-input-25-5925a634b73c>\u001b[0m in \u001b[0;36m<module>\u001b[1;34m\u001b[0m\n\u001b[0;32m      7\u001b[0m \u001b[0mprint\u001b[0m\u001b[1;33m(\u001b[0m\u001b[0ma\u001b[0m\u001b[1;33m)\u001b[0m\u001b[1;33m\u001b[0m\u001b[1;33m\u001b[0m\u001b[0m\n\u001b[0;32m      8\u001b[0m \u001b[1;32mdel\u001b[0m \u001b[0ma\u001b[0m     \u001b[1;31m# 将列表从内存中删除\u001b[0m\u001b[1;33m\u001b[0m\u001b[1;33m\u001b[0m\u001b[0m\n\u001b[1;32m----> 9\u001b[1;33m \u001b[0mprint\u001b[0m\u001b[1;33m(\u001b[0m\u001b[0ma\u001b[0m\u001b[1;33m)\u001b[0m\u001b[1;33m\u001b[0m\u001b[1;33m\u001b[0m\u001b[0m\n\u001b[0m",
      "\u001b[1;31mNameError\u001b[0m: name 'a' is not defined"
     ]
    }
   ],
   "source": [
    "#  全能删`del` 用于删除指定索引位置或指定切片的数据\n",
    "a=[True,5,2.0,'A',4,(7,5),'A',['hello','world'],{1,2},{'leon':1,'leo':2}]\n",
    "print(a)\n",
    "del a[0:3] #del可传入一个索引或者一个切片，实现指定位置数据的删除\n",
    "print(a)\n",
    "del a[:]  #指定全部索引时，del可以清空列表数据\n",
    "print(a)\n",
    "del a     # 将列表从内存中删除\n",
    "print(a)"
   ]
  },
  {
   "cell_type": "code",
   "execution_count": 29,
   "metadata": {},
   "outputs": [
    {
     "name": "stdout",
     "output_type": "stream",
     "text": [
      "[]\n"
     ]
    }
   ],
   "source": [
    "# 清空列表`clear()` 用于清空列表数据：\n",
    "b=[True,False,1,2.0,8,4]\n",
    "b.clear()\n",
    "print(b)"
   ]
  },
  {
   "cell_type": "markdown",
   "metadata": {},
   "source": [
    "### 改"
   ]
  },
  {
   "cell_type": "code",
   "execution_count": 30,
   "metadata": {},
   "outputs": [
    {
     "name": "stdout",
     "output_type": "stream",
     "text": [
      "[True, 5, 2.0, 'A', 4, (7, 5), ['hello', 'world'], {1, 2}, {'leon': 1, 'leo': 2}]\n",
      "[1, 5, 2.0, 'A', 4, (7, 5), ['hello', 'world'], {1, 2}, {'leon': 1, 'leo': 2}]\n"
     ]
    }
   ],
   "source": [
    "# 赋值 列表的修改通过直接赋值实现:\n",
    "a=[True,5,2.0,'A',4,(7,5),['hello','world'],{1,2},{'leon':1,'leo':2}]\n",
    "print(a)\n",
    "a[0]=1 # 直接赋值可以修改已存在的数据，索引不能超出范围\n",
    "print(a)"
   ]
  },
  {
   "cell_type": "code",
   "execution_count": 31,
   "metadata": {},
   "outputs": [
    {
     "name": "stdout",
     "output_type": "stream",
     "text": [
      "[True, 5, 2.0, 'A', 4, (7, 5), ['hello', 'world'], {1, 2}, {'leon': 1, 'leo': 2}]\n",
      "[True, 'd', 'e', 'f', 'g', 'A', 4, (7, 5), ['hello', 'world'], {1, 2}, {'leon': 1, 'leo': 2}]\n",
      "[True, 'd', 'b', 'c', 'f', 'g', 'A', 4, (7, 5), ['hello', 'world'], {1, 2}, {'leon': 1, 'leo': 2}]\n",
      "[]\n"
     ]
    }
   ],
   "source": [
    "# 切片赋值，还可以通过切片赋值对列表进行批量修改：\n",
    "a=[True,5,2.0,'A',4,(7,5),['hello','world'],{1,2},{'leon':1,'leo':2}]\n",
    "print(a)\n",
    "a[1:3]=list('defg')  #切片范围内的将被替换，范围外的添加至列表\n",
    "print(a)\n",
    "a[1:3]=['d','b','c'] #切片范围内的将被替换，范围外的添加\n",
    "print(a)\n",
    "a[:]=[]  #清空列表\n",
    "print(a)"
   ]
  },
  {
   "cell_type": "code",
   "execution_count": 40,
   "metadata": {},
   "outputs": [
    {
     "name": "stdout",
     "output_type": "stream",
     "text": [
      "[True, (7, 5), 5, 2.0, 'A', 'A', 4]\n",
      "[4, 'A', 'A', 2.0, 5, (7, 5), True]\n",
      "------------------------------\n",
      "[4, 'A', 'A', 2.0, 5, (7, 5), True]\n"
     ]
    }
   ],
   "source": [
    "# 反向存放 `a[::-1]` `reverse()`\n",
    "#反向切片可以实现反向存放，且不改变原值\n",
    "a=[True,(7,5),5,2.0,'A','A',4]\n",
    "print(a)\n",
    "b=a[::-1] \n",
    "print(b)\n",
    "print('-'*30)\n",
    "# 利用`reverse()`将列表中的元素反向存放,直接修改原值\n",
    "a.reverse()\n",
    "print(a)"
   ]
  },
  {
   "cell_type": "code",
   "execution_count": 38,
   "metadata": {},
   "outputs": [
    {
     "name": "stdout",
     "output_type": "stream",
     "text": [
      "[False, True, 1, 2.0, 4, 8]\n",
      "['1', '999', 'A', 'Z', 'a', 'z']\n",
      "['z', 'a', 'Z', 'A', '999', '1']\n",
      "****************************************\n",
      "[True, False, 1, 2.0, 8, 4]\n",
      "[False, True, 1, 2.0, 4, 8]\n"
     ]
    }
   ],
   "source": [
    "# 排序整理`sort()` `sorted()`\n",
    "# 可以利用`sort()`对列表元素进行排序：\n",
    "a=[True,False,1,2.0,8,4] #False=0,True=1\n",
    "a.sort() #在()有两个可选参数key和reverse，可实现自定义排序；比如key=len可按照字符长度排序；\n",
    "print(a)\n",
    "b=['a','A','z','Z','1','999']\n",
    "b.sort()\n",
    "print(b)\n",
    "b.sort(reverse=True) #sort(reverse = True)可以进行反向排序\n",
    "print(b)\n",
    "print('*'*40)\n",
    "# `sorted()`方法也可以对列表元素进行排序，但不会修改原列表，返回值为排序后的列表：\n",
    "a=[True,False,1,2.0,8,4]\n",
    "b=sorted(a) #sorted(a,reverse = True)可以进行反向排序\n",
    "print(a)\n",
    "print(b)"
   ]
  },
  {
   "cell_type": "markdown",
   "metadata": {},
   "source": [
    "### 查"
   ]
  },
  {
   "cell_type": "code",
   "execution_count": 41,
   "metadata": {},
   "outputs": [
    {
     "name": "stdout",
     "output_type": "stream",
     "text": [
      "True\n",
      "False\n"
     ]
    }
   ],
   "source": [
    "# 查是否存在`in`\n",
    "# 查询元素是否在列表内，使用`in`来实现：\n",
    "a=[True,5,2.0,'A',4,(7,5),['hello','world'],{1,2},{'leon':1,'leo':2}]\n",
    "print('A' in a)\n",
    "print('hello' in a) #in只能以当前列表进行查找，不能查找子列表"
   ]
  },
  {
   "cell_type": "code",
   "execution_count": 42,
   "metadata": {},
   "outputs": [
    {
     "name": "stdout",
     "output_type": "stream",
     "text": [
      "2\n",
      "4\n",
      "数据不在列表中\n"
     ]
    }
   ],
   "source": [
    "# 查索引值`index()`\n",
    "# 查询元素索引值，使用`index()`来实现：\n",
    "a=[True,(7,5),5,2.0,'A','A',4]\n",
    "print(a.index(5)) #只能查找到当前列表的元素，子元组中的查不到\n",
    "print(a.index('A')) #当元素值有重复时，返回最早出现值的索引\n",
    "try:\n",
    "    print(a.index('B')) #当列表中没有需要查询的值时，会报错\n",
    "except:\n",
    "    print('数据不在列表中')"
   ]
  },
  {
   "cell_type": "code",
   "execution_count": 43,
   "metadata": {},
   "outputs": [
    {
     "name": "stdout",
     "output_type": "stream",
     "text": [
      "1\n",
      "2\n",
      "0\n"
     ]
    }
   ],
   "source": [
    "# 查出现次数`count()`\n",
    "# 统计元素出现的次数，使用`count()`来实现：\n",
    "a=[True,(7,5),5,2.0,'A','A',4]\n",
    "print(a.count(5)) #仅能统计当前列表元素\n",
    "print(a.count('A'))\n",
    "print(a.count('B')) #无相关元素时返回0"
   ]
  },
  {
   "cell_type": "markdown",
   "metadata": {},
   "source": [
    "## 元组"
   ]
  },
  {
   "cell_type": "markdown",
   "metadata": {},
   "source": [
    "&emsp;&emsp;元组与列表相类似，可以存放各种类型的数据，元组中的数据项通过`()`包裹起来，通过`,`隔开。相比与列表，元组有以下特点："
   ]
  },
  {
   "cell_type": "markdown",
   "metadata": {},
   "source": [
    "### 创建"
   ]
  },
  {
   "cell_type": "markdown",
   "metadata": {},
   "source": [
    "- 元组的创建与列表类似:"
   ]
  },
  {
   "cell_type": "code",
   "execution_count": 10,
   "metadata": {},
   "outputs": [
    {
     "name": "stdout",
     "output_type": "stream",
     "text": [
      "('physics', 'chemistry', 1997, 2000) <class 'tuple'>\n",
      "(1, 2, 3, 4, 5) <class 'tuple'>\n",
      "('a', 'b', 'c', 'd') <class 'tuple'>\n"
     ]
    }
   ],
   "source": [
    "tup1 = ('physics', 'chemistry', 1997, 2000)\n",
    "tup2 = (1, 2, 3, 4, 5 )\n",
    "tup3 = \"a\", \"b\", \"c\", \"d\"\n",
    "print(tup1, type(tup1))\n",
    "print(tup2, type(tup2))\n",
    "print(tup3, type(tup3))"
   ]
  },
  {
   "cell_type": "markdown",
   "metadata": {},
   "source": [
    "- `a=()`可以创建一个空元组"
   ]
  },
  {
   "cell_type": "code",
   "execution_count": 3,
   "metadata": {},
   "outputs": [
    {
     "name": "stdout",
     "output_type": "stream",
     "text": [
      "()\n",
      "<class 'tuple'>\n"
     ]
    }
   ],
   "source": [
    "a=() #空元组\n",
    "print(a)\n",
    "print(type(a))"
   ]
  },
  {
   "cell_type": "markdown",
   "metadata": {},
   "source": [
    "- 元组中只包含一个元素时，必须在元素后面添加逗号，否则`()`会被当作运算符使用，元素会被作为其他类型存储；"
   ]
  },
  {
   "cell_type": "code",
   "execution_count": 5,
   "metadata": {},
   "outputs": [
    {
     "name": "stdout",
     "output_type": "stream",
     "text": [
      "A\n",
      "<class 'str'>\n",
      "('A',)\n",
      "<class 'tuple'>\n"
     ]
    }
   ],
   "source": [
    "aa=('A') \n",
    "print(aa)\n",
    "print(type(aa))\n",
    "bb=('A',) #单元素元组\n",
    "print(bb)\n",
    "print(type(bb))"
   ]
  },
  {
   "cell_type": "markdown",
   "metadata": {},
   "source": [
    "### 删除/修改"
   ]
  },
  {
   "cell_type": "markdown",
   "metadata": {},
   "source": [
    "- 元组内的数据是不允许修改和删除的，但可以通过`del`删除整个元组；"
   ]
  },
  {
   "cell_type": "code",
   "execution_count": 1,
   "metadata": {},
   "outputs": [
    {
     "name": "stdout",
     "output_type": "stream",
     "text": [
      "('a', 1, [1, 2])\n",
      "a不存在\n"
     ]
    }
   ],
   "source": [
    "a=('a',1,[1,2]) #元组赋值时可以不用()，但不推荐\n",
    "print(a)\n",
    "del a\n",
    "try:\n",
    "    print(a)\n",
    "except:\n",
    "    print(\"a不存在\")"
   ]
  },
  {
   "cell_type": "markdown",
   "metadata": {},
   "source": [
    "- 元组内可以嵌套列表，元组不允许修改，但是元组内的列表允许修改；"
   ]
  },
  {
   "cell_type": "code",
   "execution_count": 12,
   "metadata": {},
   "outputs": [
    {
     "name": "stdout",
     "output_type": "stream",
     "text": [
      "('a', 'b', [0, 3, 4, 8])\n"
     ]
    }
   ],
   "source": [
    "a=('a','b',[1,2])\n",
    "a[2][0]=3\n",
    "a[2][1]=4\n",
    "a[2].append(8)\n",
    "a[2].insert(0,0)\n",
    "print(a)"
   ]
  },
  {
   "cell_type": "markdown",
   "metadata": {},
   "source": [
    "## 字符串"
   ]
  },
  {
   "cell_type": "markdown",
   "metadata": {},
   "source": [
    "&emsp;&emsp;字符串是 Python 中最常用的数据类型。我们可以使用引号(`'`或`\"` )来创建字符串。python中字符串是不可变对象，所以所有修改和生成字符串的操作的实现方法都是另一个内存片段中新生成一个字符串对象,所以一般字符串的操作都是有返回值的。"
   ]
  },
  {
   "cell_type": "markdown",
   "metadata": {},
   "source": [
    "字符串是一种序列，序列的一系列操作都可以在字符串中使用，此处不再赘述，重点记录字符串的特殊之处。"
   ]
  },
  {
   "cell_type": "markdown",
   "metadata": {},
   "source": [
    "### 字符串转义字符"
   ]
  },
  {
   "cell_type": "markdown",
   "metadata": {},
   "source": [
    "- python中有一些字符具有特殊功能，叫做转义字符，在使用时需要注意。"
   ]
  },
  {
   "cell_type": "markdown",
   "metadata": {},
   "source": [
    "| 转义字符  |    描 述   |转义字符|   描述   |\n",
    "|---------- |------------|--------|----------|\n",
    "|\\\\(在行尾) |续行符      |\\n      |换行      |\n",
    "|\\\\\\        |反斜杠      |\\v      |纵向制表符|\n",
    "|\\\\'        |单引号      |\\t      |横向制表符|\n",
    "|\\\\\"        |双引号      |\\r      |回车      |\n",
    "|\\a         |响铃        |\\f      |换页      |\n",
    "|\\b         |退格        |\\oyy    |八进制    |\n",
    "|\\e         |转义        |\\xyy    |十六进制  |\n",
    "|\\000       |空          |\\other  |其他字符  |"
   ]
  },
  {
   "cell_type": "code",
   "execution_count": 16,
   "metadata": {},
   "outputs": [
    {
     "name": "stdout",
     "output_type": "stream",
     "text": [
      " 精诚所至\n",
      " 金石为开\n",
      " ------- \n",
      "'精诚所至'\n",
      "'金石为开'\n",
      "精诚所 金石为开\n",
      " 金石为开\n",
      "精诚所至 \u0000 金石为开\n"
     ]
    }
   ],
   "source": [
    "# 例1，使用了`\\n`和`\\'`：\n",
    "print(' 精诚所至\\n 金石为开')\n",
    "print(' ------- ')\n",
    "print('\\'精诚所至\\'\\n\\'金石为开\\'')\n",
    "\n",
    "# 例2，使用了`\\a`：\n",
    "#在命令行中输入会响铃\n",
    "#print('\\a')\n",
    "\n",
    "# 例2，使用了`\\b` `\\r` `\\000`：\n",
    "print('精诚所至\\b 金石为开')\n",
    "print('精诚所至 \\r 金石为开')\n",
    "print('精诚所至 \\000 金石为开') #\\000输出一个矩形~.~\n"
   ]
  },
  {
   "cell_type": "markdown",
   "metadata": {},
   "source": [
    "### %字符串格式化"
   ]
  },
  {
   "cell_type": "markdown",
   "metadata": {},
   "source": [
    "传统字符串格式化使用操作符百分号`%`标记开始，通用的表示形式为`%[(name)][flags][width].[precision]typecode`"
   ]
  },
  {
   "cell_type": "markdown",
   "metadata": {},
   "source": [
    "- 1. typecode 占位符(必需) "
   ]
  },
  {
   "cell_type": "code",
   "execution_count": 29,
   "metadata": {},
   "outputs": [
    {
     "name": "stdout",
     "output_type": "stream",
     "text": [
      "小智今年10岁了\n",
      "我叫王大锤，今年10岁\n",
      "我叫王大锤，今年28岁\n"
     ]
    }
   ],
   "source": [
    "# 简单赋值\n",
    "print('小智今年%s岁了' %10)\n",
    "\n",
    "# 元组赋值\n",
    "print('我叫%s，今年%d岁' %('王大锤',10))\n",
    "# 字典赋值\n",
    "print('我叫%(name)s，今年%(age)d岁' %{'name':'王大锤','age':28})"
   ]
  },
  {
   "cell_type": "markdown",
   "metadata": {},
   "source": [
    "&emsp;&emsp;如上两例，格式化字符串的`%s`、`%d`部分表示转换说明符，标记了需要放置转换值的位置，通用术语为**占位符**。`s`表示百分号右边的值将被格式化为字符串，`s`指的是`str`,如果不是字符串，则使用`str`将其转换为字符串。Python提供的转换说明符如下所示：  "
   ]
  },
  {
   "cell_type": "markdown",
   "metadata": {},
   "source": [
    "|  符号  |    描 述   |  符号  |   描述   |\n",
    "|------- |------------|--------|----------|\n",
    "|%c      |格式化字符及ASCII码  |%f      |格式化浮点数字，可指定精读      |\n",
    "|%s     |格式化字符串      |%e      |科学计数法格式化浮点数|\n",
    "|%d     |格式化整数      |%E      |同%e|\n",
    "|%u     |格式化无符号整型      |%g      |%f和%e的简写 |\n",
    "|%o      |格式化无符号八进制 |%G      |%f和%E的简写 |\n",
    "|%x      |格式化无符号16进制  |%p    |用16进制格式化变量地址 |\n",
    "|%X      |格式化无符号16进制(大写) |%%|输出%|"
   ]
  },
  {
   "cell_type": "markdown",
   "metadata": {},
   "source": [
    "- 2. precision 精度(可选)  \n",
    "&emsp;&emsp;当占位符为浮点数时，可以对其精度进行控制"
   ]
  },
  {
   "cell_type": "code",
   "execution_count": 33,
   "metadata": {},
   "outputs": [
    {
     "name": "stdout",
     "output_type": "stream",
     "text": [
      "我今年261523636110.123岁\n"
     ]
    }
   ],
   "source": [
    "print('我今年%7.3f岁'%261523636110.123456)"
   ]
  },
  {
   "cell_type": "markdown",
   "metadata": {},
   "source": [
    "- 3.  width(可选)  \n",
    "&emsp;width用于表示字符串的最小字段宽度，转换后的字符串至少应该具有该值指定的宽度，如果此值为`*`则宽度从元组中读出。"
   ]
  },
  {
   "cell_type": "code",
   "execution_count": 46,
   "metadata": {},
   "outputs": [
    {
     "name": "stdout",
     "output_type": "stream",
     "text": [
      "我今年 10.123岁\n",
      "我叫     王大\n",
      "我年薪  10.12万\n"
     ]
    }
   ],
   "source": [
    "print('我今年%7.3f岁'%10.123456)\n",
    "print('我叫%7.2s'%'王大锤')\n",
    "print('我年薪%*.*f万'%(7,2,10.12345))"
   ]
  },
  {
   "cell_type": "markdown",
   "metadata": {},
   "source": [
    "- 4.  flags转换标志(可选)  \n",
    "&emsp;&emsp;flags表示转换标志，python可用的转换标志包括："
   ]
  },
  {
   "cell_type": "code",
   "execution_count": 42,
   "metadata": {},
   "outputs": [
    {
     "name": "stdout",
     "output_type": "stream",
     "text": [
      "--------------- 左对齐\n",
      "我今年    10.123岁\n",
      "我今年10.123    岁\n",
      "+++++++++++++++ 正负号\n",
      "我年薪  10.12万\n",
      "我年薪 +10.12万\n",
      "                填充空格\n",
      "我年薪10.12万\n",
      "我年薪 10.12万\n",
      "000000000000000 填充0\n",
      "我年薪  10.12万\n",
      "我年薪0010.12万\n"
     ]
    }
   ],
   "source": [
    "# 1. `-` 表示左对齐\n",
    "print('-'*15,'左对齐')\n",
    "print('我今年%10.3f岁'%10.123456)#默认右对齐，空格补充在左边\n",
    "print('我今年%-10.3f岁'%10.123456)#左对齐，空格补充在右边\n",
    "\n",
    "# 2. `+` 表示在转换值之前加正负号(整数加`+`负数加`-`)；\n",
    "print('+'*15,'正负号')\n",
    "print('我年薪%*.*f万'%(7,2,+10.12345))\n",
    "print('我年薪%+*.*f万'%(7,2,+10.12345))\n",
    "\n",
    "# 3. `<sp>` 空格表示在正数前面显示空格；\n",
    "print(' '*15, '填充空格')\n",
    "print('我年薪%.*f万'%(2,+10.12345))\n",
    "print('我年薪% .*f万'%(2,+10.12345))\n",
    "\n",
    "# 4. `0`&emsp;表示转换位数不够时用0填充；\n",
    "print('0'*15, '填充0')\n",
    "print('我年薪%*.*f万'%(7,2,+10.12345))\n",
    "print('我年薪%0*.*f万'%(7,2,+10.12345))\n"
   ]
  },
  {
   "cell_type": "markdown",
   "metadata": {},
   "source": [
    "- 5. (name)名称(可选)"
   ]
  },
  {
   "cell_type": "markdown",
   "metadata": {},
   "source": [
    "&emsp;&emsp; (name)用于在字典赋值时指定key；"
   ]
  },
  {
   "cell_type": "code",
   "execution_count": 48,
   "metadata": {},
   "outputs": [
    {
     "name": "stdout",
     "output_type": "stream",
     "text": [
      "我叫王大锤，今年28岁\n",
      "我叫王大锤，今年28\n"
     ]
    }
   ],
   "source": [
    "#字典赋值\n",
    "print('我叫%(name)s，今年%(age)d岁' %{'name':'王大锤','age':28})\n",
    "print(a)"
   ]
  },
  {
   "cell_type": "markdown",
   "metadata": {},
   "source": [
    "### `str.format()`格式化"
   ]
  },
  {
   "cell_type": "markdown",
   "metadata": {},
   "source": [
    "python2.6之后推出了新增了一种格式化字符串的函数 str.format()，它增强了字符串格式化的功能基本语法是通过`{}`和`:`来代替以前的`%`。format 函数可以接受不限个参数，位置可以不按顺序。  常见格式为：`{字段名!转换字段:格式说明符}`  "
   ]
  },
  {
   "cell_type": "markdown",
   "metadata": {},
   "source": [
    "**1. 字段名**"
   ]
  },
  {
   "cell_type": "markdown",
   "metadata": {},
   "source": [
    "- 普通赋值 :"
   ]
  },
  {
   "cell_type": "code",
   "execution_count": 55,
   "metadata": {},
   "outputs": [
    {
     "name": "stdout",
     "output_type": "stream",
     "text": [
      "你好,明天\n",
      "你好,明天\n",
      "明天,你好\n",
      "明天,你好,明天\n"
     ]
    }
   ],
   "source": [
    "print('{},{}'.format('你好','明天'))\n",
    "print('{0},{1}'.format('你好','明天'))#{}内的数字表示.format()内元素的索引\n",
    "print('{1},{0}'.format('你好','明天'))#.format()类似于构建了一个元组\n",
    "print('{1},{0},{1}'.format('你好','明天'))"
   ]
  },
  {
   "cell_type": "markdown",
   "metadata": {},
   "source": [
    "- 通过其他格式赋值"
   ]
  },
  {
   "cell_type": "code",
   "execution_count": 59,
   "metadata": {},
   "outputs": [
    {
     "name": "stdout",
     "output_type": "stream",
     "text": [
      "我叫王大锤，今年28\n",
      "我叫王大锤，今年28\n",
      "我叫王大锤，今年28\n",
      "我叫王大锤，今年18\n"
     ]
    }
   ],
   "source": [
    "print('我叫{0}，今年{age}'.format('王大锤',age='28'))#可以混用\n",
    "#通过元组赋值\n",
    "trup=('王大锤','28')\n",
    "print('我叫{0}，今年{1}'.format(*trup))\n",
    "#通过字典赋值\n",
    "site={'name':'王大锤','age':'28'}\n",
    "print('我叫{name}，今年{age}'.format(**site))\n",
    "#通过列表赋值\n",
    "list1=['王大锤','28']\n",
    "list2=['王二锤','18']\n",
    "print('我叫{0[0]}，今年{1[1]}'.format(list1,list2))#[]外的数字表示format()内的元素索引，[]内表示列表索引"
   ]
  },
  {
   "cell_type": "markdown",
   "metadata": {},
   "source": [
    "也可以向`str.format()`传入对象："
   ]
  },
  {
   "cell_type": "code",
   "execution_count": 51,
   "metadata": {},
   "outputs": [
    {
     "name": "stdout",
     "output_type": "stream",
     "text": [
      "value 为: 6\n"
     ]
    }
   ],
   "source": [
    "class AssignValue(object):\n",
    "    def __init__(self, value):\n",
    "        self.value = value\n",
    "my_value = AssignValue(6)\n",
    "print('value 为: {0.value}'.format(my_value))  # \"0\" 是可选的"
   ]
  },
  {
   "cell_type": "markdown",
   "metadata": {},
   "source": [
    "**2. 转换字段**  \n",
    "转换字段 conversion field 的取值有三种，前面要加 !：\n",
    "- `s`：传递参数之前先对参数调用 `str()`\n",
    "- `r`：传递参数之前先对参数调用 `repr()`\n",
    "- `a`：传递参数之前先对参数调用 `ascii()`"
   ]
  },
  {
   "cell_type": "code",
   "execution_count": 60,
   "metadata": {},
   "outputs": [
    {
     "name": "stdout",
     "output_type": "stream",
     "text": [
      "我叫王大锤\n",
      "我叫'王大锤'\n",
      "我叫'\\u738b\\u5927\\u9524'\n"
     ]
    }
   ],
   "source": [
    "print('我叫{!s}'.format('王大锤'))\n",
    "print('我叫{!r}'.format('王大锤'))\n",
    "print('我叫{!a}'.format('王大锤'))"
   ]
  },
  {
   "cell_type": "markdown",
   "metadata": {},
   "source": [
    "**3. 格式说明符**  "
   ]
  },
  {
   "cell_type": "markdown",
   "metadata": {},
   "source": [
    "标准格式说明符的形式为： \n",
    "`[[fill]align][sign][#][0][width][grouping_option][.precision][type]`，其中方括号是可选的。 中文形式为`[[填充]对齐方式][正负号][#][0][宽度][分组选项][.精度][类型码]`。  \n",
    "- type 格式化类型\n",
    "\n",
    "|  符号  |    描 述   |  符号  |   描述   |\n",
    "|------- |------------|--------|----------|\n",
    "|c      |格式化字符及ASCII码  |f      |格式化浮点数字，可指定精读      |\n",
    "|s     |格式化字符串      |e      |科学计数法格式化浮点数|\n",
    "|d     |格式化整数      |E      |同e|\n",
    "|u     |格式化无符号整型      |g      |f和%e的简写 |\n",
    "|o      |格式化无符号八进制 |G      |%f和%E的简写 |\n",
    "|x      |格式化无符号16进制  |p    |用16进制格式化变量地址 |\n",
    "|X      |格式化无符号16进制(大写) |b|二进制|\n",
    "|none(空)    |同str|%|百分比|\n",
    "\n",
    "- .precision精度-同传统格式方法\n",
    "- grouping_option分组选项  \n",
    "    分组选项 grouping_option 的取值有两种：`,` 和 `_`：，\n",
    "    - 使用逗号或下划线对浮点数和 d 类型的整数以千为单位进行分隔\n",
    "    - 对于 b、o、x 和 X 类型，每四位插入一个下划线，其他类型都会报错。"
   ]
  },
  {
   "cell_type": "code",
   "execution_count": 66,
   "metadata": {},
   "outputs": [
    {
     "name": "stdout",
     "output_type": "stream",
     "text": [
      "年薪：8,348,283,894\n",
      "年薪：8_348_283_894\n",
      "年薪：9_8969_78ff\n"
     ]
    }
   ],
   "source": [
    "print('年薪：{0:,}'.format(8348283894))\n",
    "print('年薪：{0:_}'.format(8348283894))\n",
    "print('16进制：{0:_x}'.format(0x9896978FF))"
   ]
  },
  {
   "cell_type": "markdown",
   "metadata": {},
   "source": [
    "- [0]width 宽度及填充  \n",
    " 用于设置字符串的最小宽度,如果最小宽度前面有一个前导 0，意味着用 0 填充："
   ]
  },
  {
   "cell_type": "code",
   "execution_count": 67,
   "metadata": {},
   "outputs": [
    {
     "name": "stdout",
     "output_type": "stream",
     "text": [
      "我叫王大锤  \n",
      "我年薪   20万\n",
      "我年薪00020万\n"
     ]
    }
   ],
   "source": [
    "print('我叫{:5}'.format('王大锤'))\n",
    "print('我年薪{:5}万'.format(20))\n",
    "print('我年薪{:05}万'.format(20))#"
   ]
  },
  {
   "cell_type": "markdown",
   "metadata": {},
   "source": [
    "- `#`  \n",
    "给二进制数加上 0b 前缀  \n",
    "给八进制数加上 0o 前缀  \n",
    "给十六进制数加上 0x 前缀\n"
   ]
  },
  {
   "cell_type": "code",
   "execution_count": 75,
   "metadata": {},
   "outputs": [],
   "source": [
    "# print('16进制：{0:#}'.format(0b0010100101))"
   ]
  },
  {
   "cell_type": "markdown",
   "metadata": {},
   "source": [
    "- sign正负号  \n",
    "`+`，正号加正，负号加负；  \n",
    "`-`，正号不变，负号加负；  \n",
    "`空格` ，正号空格，负号加负；"
   ]
  },
  {
   "cell_type": "code",
   "execution_count": 76,
   "metadata": {},
   "outputs": [
    {
     "name": "stdout",
     "output_type": "stream",
     "text": [
      "+125:-125\n",
      "125:-125\n",
      " 125:-125\n"
     ]
    }
   ],
   "source": [
    "print('{:+}:{:+}'.format(125,-125))\n",
    "print('{:-}:{:-}'.format(125,-125))\n",
    "print('{: }:{: }'.format(125,-125))"
   ]
  },
  {
   "cell_type": "markdown",
   "metadata": {},
   "source": [
    "- align对齐方式（需配合width使用）  \n",
    "`<`，内容左对齐  \n",
    "`>`，内容右对齐(默认)  \n",
    "`＝`，内容右对齐，将符号放置在填充字符的左侧，且只对数字类型有效。 即使：符号+填充物+数字  \n",
    "`^`，内容居中"
   ]
  },
  {
   "cell_type": "code",
   "execution_count": 77,
   "metadata": {},
   "outputs": [
    {
     "name": "stdout",
     "output_type": "stream",
     "text": [
      "我年薪+20  万\n",
      "我年薪  +20万\n",
      "我年薪+  20万\n",
      "我年薪 +20 万\n"
     ]
    }
   ],
   "source": [
    "print('我年薪{:<+5}万'.format(20))\n",
    "print('我年薪{:>+5}万'.format(20))\n",
    "print('我年薪{:=+5}万'.format(20))\n",
    "print('我年薪{:^+5}万'.format(20))"
   ]
  },
  {
   "cell_type": "markdown",
   "metadata": {},
   "source": [
    "- fill填充  \n",
    "    * 只能是一个字符  \n",
    "    * 不指定默认用空格填充  \n",
    "    * 如果指定填充字符，则必须要同时指定对齐方式"
   ]
  },
  {
   "cell_type": "code",
   "execution_count": 78,
   "metadata": {},
   "outputs": [
    {
     "name": "stdout",
     "output_type": "stream",
     "text": [
      "我年薪+20**万\n",
      "我年薪**+20万\n",
      "我年薪+**20万\n",
      "我年薪*+20*万\n"
     ]
    }
   ],
   "source": [
    "print('我年薪{:*<+5}万'.format(20))\n",
    "print('我年薪{:*>+5}万'.format(20))\n",
    "print('我年薪{:*=+5}万'.format(20))\n",
    "print('我年薪{:*^+5}万'.format(20))"
   ]
  },
  {
   "cell_type": "markdown",
   "metadata": {},
   "source": [
    "### 字符串常用方法\n",
    "&emsp; &emsp;Python中的字符串内建函数多达40个，具体详见“[Python3字符串|菜鸟教程](http://www.runoob.com/python3/python3-string.html)”，本节仅对较常用的方法进行介绍。"
   ]
  },
  {
   "cell_type": "markdown",
   "metadata": {},
   "source": [
    "**1. find()、count()**  \n",
    "&emsp; &emsp;find()方法用于检查字符串中是否包含子字符串substr，count()方法用于获取字符串出现的次数，如果指定了beg(开始)和end(结束)范围，就检查是否包含在指定范围内，如果包含子字符串，就返回索引值，否则返回-1:"
   ]
  },
  {
   "cell_type": "code",
   "execution_count": 79,
   "metadata": {},
   "outputs": [
    {
     "name": "stdout",
     "output_type": "stream",
     "text": [
      "3\n",
      "-1\n",
      "11\n",
      "-1\n",
      "1\n"
     ]
    }
   ],
   "source": [
    "name='my name is leon'\n",
    "index1=name.find('name')#索引包含空格，以子字符串起始位置返回索引\n",
    "print(index1)\n",
    "index2=name.find('my',0,1)#指定的范围必须完全包含子字符串,否则返回-1\n",
    "print(index2)\n",
    "index2=name.find('leon',11)#可以只提供起点位置\n",
    "print(index2)\n",
    "index2=name.find('leon',12)#可以只提供起点位置\n",
    "print(index2)\n",
    "count1=name.count('name',0,len(name))#指定的范围必须完全包含子字符串\n",
    "print(count1)"
   ]
  },
  {
   "cell_type": "markdown",
   "metadata": {},
   "source": [
    "**2. join()**  \n",
    "&emsp; &emsp;join()方法用于将序列中的元素以指定的字符连接成一个新的字符串，join()方法的语为`str.join(sequence)`，str代表指定插入的字符串，sequence代表要连接的元素序列，返回连接后的新字符串，需要注意的是sequence内元素必须是字符串，不然会报错："
   ]
  },
  {
   "cell_type": "code",
   "execution_count": 83,
   "metadata": {},
   "outputs": [
    {
     "name": "stdout",
     "output_type": "stream",
     "text": [
      "a+b+c+d\n"
     ]
    },
    {
     "ename": "TypeError",
     "evalue": "sequence item 0: expected str instance, int found",
     "output_type": "error",
     "traceback": [
      "\u001b[1;31m---------------------------------------------------------------------------\u001b[0m",
      "\u001b[1;31mTypeError\u001b[0m                                 Traceback (most recent call last)",
      "\u001b[1;32m<ipython-input-83-d8a97109b5f3>\u001b[0m in \u001b[0;36m<module>\u001b[1;34m\u001b[0m\n\u001b[0;32m      1\u001b[0m \u001b[0mstr1\u001b[0m\u001b[1;33m=\u001b[0m\u001b[1;34m'+'\u001b[0m\u001b[1;33m.\u001b[0m\u001b[0mjoin\u001b[0m\u001b[1;33m(\u001b[0m\u001b[1;33m[\u001b[0m\u001b[1;34m'a'\u001b[0m\u001b[1;33m,\u001b[0m\u001b[1;34m'b'\u001b[0m\u001b[1;33m,\u001b[0m\u001b[1;34m'c'\u001b[0m\u001b[1;33m,\u001b[0m\u001b[1;34m'd'\u001b[0m\u001b[1;33m]\u001b[0m\u001b[1;33m)\u001b[0m\u001b[1;33m\u001b[0m\u001b[1;33m\u001b[0m\u001b[0m\n\u001b[0;32m      2\u001b[0m \u001b[0mprint\u001b[0m\u001b[1;33m(\u001b[0m\u001b[0mstr1\u001b[0m\u001b[1;33m)\u001b[0m\u001b[1;33m\u001b[0m\u001b[1;33m\u001b[0m\u001b[0m\n\u001b[1;32m----> 3\u001b[1;33m \u001b[0mstr2\u001b[0m\u001b[1;33m=\u001b[0m\u001b[1;34m'+'\u001b[0m\u001b[1;33m.\u001b[0m\u001b[0mjoin\u001b[0m\u001b[1;33m(\u001b[0m\u001b[1;33m[\u001b[0m\u001b[1;36m1\u001b[0m\u001b[1;33m,\u001b[0m\u001b[1;36m2\u001b[0m\u001b[1;33m,\u001b[0m\u001b[1;36m3\u001b[0m\u001b[1;33m,\u001b[0m\u001b[1;36m4\u001b[0m\u001b[1;33m]\u001b[0m\u001b[1;33m)\u001b[0m\u001b[1;33m\u001b[0m\u001b[1;33m\u001b[0m\u001b[0m\n\u001b[0m\u001b[0;32m      4\u001b[0m \u001b[1;31m# str2='+'.join(str(i)) for i in [1,2,3,4]\u001b[0m\u001b[1;33m\u001b[0m\u001b[1;33m\u001b[0m\u001b[1;33m\u001b[0m\u001b[0m\n",
      "\u001b[1;31mTypeError\u001b[0m: sequence item 0: expected str instance, int found"
     ]
    }
   ],
   "source": [
    "str1='+'.join(['a','b','c','d'])\n",
    "print(str1)\n",
    "str2='+'.join([1,2,3,4])\n",
    "# str2='+'.join(str(i)) for i in [1,2,3,4]"
   ]
  },
  {
   "cell_type": "markdown",
   "metadata": {},
   "source": [
    "- 对于元素为其他类型的序列，可以通过str()加for循环将序列内的元素转换为字符串："
   ]
  },
  {
   "cell_type": "code",
   "execution_count": 84,
   "metadata": {},
   "outputs": [
    {
     "name": "stdout",
     "output_type": "stream",
     "text": [
      "1+2+3+4\n",
      "1+2+3+4\n"
     ]
    }
   ],
   "source": [
    "list=[1,2,3,4]\n",
    "strlist='+'.join(str(i) for i in list)\n",
    "print(strlist)\n",
    "print('+'.join(str(i) for i in (1,2,3,4)))"
   ]
  },
  {
   "cell_type": "markdown",
   "metadata": {},
   "source": [
    "**3. lower()、upper()、swapcase()**  \n",
    "&emsp; &emsp;lower()用于将字符串中的大写字母转换为小写,xlower()用于将字符串中的小写字母转换为大写,适用于忽略大小写的字符串校验等情况;swapcase()方法用于对字符串中的大小写进行转换，大写转小写，小写转大写。"
   ]
  },
  {
   "cell_type": "code",
   "execution_count": 85,
   "metadata": {},
   "outputs": [
    {
     "name": "stdout",
     "output_type": "stream",
     "text": [
      "abcde\n",
      "6\n",
      "ABCDE\n",
      "6\n",
      "abCDe\n"
     ]
    }
   ],
   "source": [
    "print('ABcdE'.lower())\n",
    "print('Hello World'.lower().find('WORLD'.lower()))\n",
    "print('ABcdE'.upper())\n",
    "print('Hello World'.upper().find('world'.upper()))\n",
    "print('ABcdE'.swapcase())"
   ]
  },
  {
   "cell_type": "markdown",
   "metadata": {},
   "source": [
    "**4. replace()**  \n",
    "&emsp; &emsp;replace()的语法为`str.replace(old,new,[max])`的作用类似于word中的替换，将字符串中的旧字符串`old`替换为新字符串`new`，如果指定第三个可选参数max，替换次数从左向右不超过max次："
   ]
  },
  {
   "cell_type": "code",
   "execution_count": 86,
   "metadata": {},
   "outputs": [
    {
     "name": "stdout",
     "output_type": "stream",
     "text": [
      "DO it now,DO right now\n",
      "DO it now,do right now\n"
     ]
    }
   ],
   "source": [
    "field='do it now,do right now'\n",
    "print(field.replace('do','DO'))\n",
    "print(field.replace('do','DO',1))"
   ]
  },
  {
   "cell_type": "markdown",
   "metadata": {},
   "source": [
    "**5. split()**  \n",
    "&emsp; &emsp;stlit()方法通过指定分隔符对字符串进行分割`str.split(st='',num=string.count(str))`,用来将字符串分割成序列,str为待分割的字符串，st为分隔符，默认为空格，num代表分隔次数。"
   ]
  },
  {
   "cell_type": "code",
   "execution_count": 87,
   "metadata": {},
   "outputs": [
    {
     "name": "stdout",
     "output_type": "stream",
     "text": [
      "['1', '2', '3', '4']\n",
      "['1', '2', '3+4']\n"
     ]
    }
   ],
   "source": [
    "str1='1+2+3+4'\n",
    "print(str1.split('+'))\n",
    "print(str1.split('+',2))"
   ]
  },
  {
   "cell_type": "markdown",
   "metadata": {},
   "source": [
    "**6. maketrans()、translate()**  \n",
    "&emsp; &emsp;maketrans()创建字符映射的转换表，对于接受两个参数的最简单的调用方式，第一个参数是字符串，表示需要转换的字符，第二个参数表示字符串表示转换的目标。  \n",
    "&emsp; &emsp;translate()根据参数table给出的表转换字符串的字符：`str.translate(table,[deletechars])`。该方法类似于replace，区别在于对多个单字符进行转换"
   ]
  },
  {
   "cell_type": "code",
   "execution_count": 88,
   "metadata": {},
   "outputs": [
    {
     "name": "stdout",
     "output_type": "stream",
     "text": [
      "I 1m 1 2oy\n"
     ]
    }
   ],
   "source": [
    "intab='abcde'\n",
    "outtab='12345'\n",
    "#maketrans()用于创建映射表\n",
    "transtab=str.maketrans(intab,outtab)\n",
    "strr='I am a boy'\n",
    "print(strr.translate(transtab))"
   ]
  },
  {
   "cell_type": "markdown",
   "metadata": {},
   "source": [
    "**7. 其他**  \n",
    "- `isdecimal()`  \n",
    "    - 检查字符串是否只包含十进制字符，如果是返回 true，否则返回 false。\n",
    "- `title()`   \n",
    "    - 返回\"标题化\"的字符串,就是说所有单词都是以大写开始，其余字母均为小写(见 istitle())\n",
    "- `startswith(substr, beg=0,end=len(string))`  \n",
    "    - 检查字符串是否是以指定子字符串 substr 开头，是则返回 True，否则返回 False。如果beg 和 end 指定值，则在指定范围内检查。\n",
    "- `index(str, beg=0, end=len(string))`\n",
    "    - 跟find()方法一样，只不过如果str不在字符串中会报一个异常.\n",
    "- `rindex( str, beg=0, end=len(string))`  \n",
    "    - 类似于 index()，不过是从右边开始.\n",
    "- `rfind(str, beg=0,end=len(string))`  \n",
    "    - 类似于 find()函数，不过是从右边开始查找. \n",
    "- `endswith(suffix, beg=0, end=len(string))`  \n",
    "    - 检查字符串是否以 obj 结束，如果beg 或者 end 指定则检查指定的范围内是否以 obj 结束，如果是，返回 True,否则返回 False.\n",
    "- `capitalize()`  \n",
    "    - 将字符串的第一个字符转换为大写,其他字符转换为小写."
   ]
  },
  {
   "cell_type": "markdown",
   "metadata": {},
   "source": [
    "## 字典"
   ]
  },
  {
   "cell_type": "markdown",
   "metadata": {},
   "source": [
    "&emsp; &emsp;字典（Dictionary）在Python中是一种可变的容器模型，它是通过一组键（key）值（value）对组成，这种结构类型通常也被称为映射，或者叫关联数组，也有叫哈希表的。每个key-value之间用`:`隔开，每组用`,`分割，整个字典用`{}`括起来。"
   ]
  },
  {
   "cell_type": "markdown",
   "metadata": {},
   "source": [
    "- 定义字典时，键在前，值在后，键必须唯一性，值可以不唯一，如果键有相同，值则取最后一个；"
   ]
  },
  {
   "cell_type": "code",
   "execution_count": 89,
   "metadata": {},
   "outputs": [
    {
     "name": "stdout",
     "output_type": "stream",
     "text": [
      "王二锤\n",
      "{'name': '王二锤', 'age': 29}\n"
     ]
    }
   ],
   "source": [
    "dict1={'name':'王大锤','age':29,'name':'王二锤'}\n",
    "print(dict1['name'])\n",
    "print(dict1)#注意打印结果，王大锤直接被替换掉了"
   ]
  },
  {
   "cell_type": "markdown",
   "metadata": {},
   "source": [
    "- 值可以是任何的数据类型，但是键必须是不可变的数据类型（数字、字符串、元组） "
   ]
  },
  {
   "cell_type": "code",
   "execution_count": 92,
   "metadata": {},
   "outputs": [
    {
     "name": "stdout",
     "output_type": "stream",
     "text": [
      "{'name': '王大锤', 'age': 29, 5201314: 'what?', ('country', 'city'): 'China Shanghai'}\n"
     ]
    },
    {
     "ename": "TypeError",
     "evalue": "unhashable type: 'list'",
     "output_type": "error",
     "traceback": [
      "\u001b[1;31m---------------------------------------------------------------------------\u001b[0m",
      "\u001b[1;31mTypeError\u001b[0m                                 Traceback (most recent call last)",
      "\u001b[1;32m<ipython-input-92-45fc5f389d22>\u001b[0m in \u001b[0;36m<module>\u001b[1;34m\u001b[0m\n\u001b[0;32m      2\u001b[0m \u001b[0mprint\u001b[0m\u001b[1;33m(\u001b[0m\u001b[0mdict2\u001b[0m\u001b[1;33m)\u001b[0m\u001b[1;33m\u001b[0m\u001b[1;33m\u001b[0m\u001b[0m\n\u001b[0;32m      3\u001b[0m \u001b[1;33m\u001b[0m\u001b[0m\n\u001b[1;32m----> 4\u001b[1;33m \u001b[0mdict3\u001b[0m\u001b[1;33m=\u001b[0m\u001b[1;33m{\u001b[0m\u001b[1;33m[\u001b[0m\u001b[1;34m'country'\u001b[0m\u001b[1;33m,\u001b[0m \u001b[1;34m'city'\u001b[0m\u001b[1;33m]\u001b[0m\u001b[1;33m:\u001b[0m \u001b[1;34m'China Shanghai'\u001b[0m\u001b[1;33m}\u001b[0m\u001b[1;33m\u001b[0m\u001b[1;33m\u001b[0m\u001b[0m\n\u001b[0m\u001b[0;32m      5\u001b[0m \u001b[0mprint\u001b[0m\u001b[1;33m(\u001b[0m\u001b[0mdict3\u001b[0m\u001b[1;33m)\u001b[0m\u001b[1;33m\u001b[0m\u001b[1;33m\u001b[0m\u001b[0m\n",
      "\u001b[1;31mTypeError\u001b[0m: unhashable type: 'list'"
     ]
    }
   ],
   "source": [
    "dict2={'name':'王大锤','age':29,5201314:'what?',('country','city'):'China Shanghai'}\n",
    "print(dict2)\n",
    "\n",
    "dict3={['country', 'city']: 'China Shanghai'}\n",
    "print(dict3)"
   ]
  },
  {
   "cell_type": "markdown",
   "metadata": {},
   "source": [
    "### 字典的增删改查"
   ]
  },
  {
   "cell_type": "markdown",
   "metadata": {},
   "source": [
    "- 增/改  \n",
    "字典的增改可直接通过键值对赋值的方式实现："
   ]
  },
  {
   "cell_type": "code",
   "execution_count": 93,
   "metadata": {},
   "outputs": [
    {
     "name": "stdout",
     "output_type": "stream",
     "text": [
      "{'name': '王大锤', 'age': 18, 'gender': '男'}\n"
     ]
    }
   ],
   "source": [
    "dict1={'name':'王大锤','age':29}\n",
    "dict1['gender']='男'#增\n",
    "dict1['age']=18#改\n",
    "print(dict1)"
   ]
  },
  {
   "cell_type": "markdown",
   "metadata": {},
   "source": [
    "- 删    \n",
    "字典的删除可以删除单一元素、清空及删除字典："
   ]
  },
  {
   "cell_type": "code",
   "execution_count": 94,
   "metadata": {},
   "outputs": [
    {
     "name": "stdout",
     "output_type": "stream",
     "text": [
      "{'name': '王大锤'}\n"
     ]
    }
   ],
   "source": [
    "dict1={'name':'王大锤','age':29}\n",
    "del dict1['age']#删除单一元素\n",
    "print(dict1)"
   ]
  },
  {
   "cell_type": "code",
   "execution_count": 96,
   "metadata": {},
   "outputs": [
    {
     "name": "stdout",
     "output_type": "stream",
     "text": [
      "{}\n"
     ]
    }
   ],
   "source": [
    "dict1={'name':'王大锤','age':29}\n",
    "dict1.clear()#清空字典\n",
    "print(dict1)"
   ]
  },
  {
   "cell_type": "code",
   "execution_count": 97,
   "metadata": {},
   "outputs": [
    {
     "ename": "NameError",
     "evalue": "name 'dict1' is not defined",
     "output_type": "error",
     "traceback": [
      "\u001b[1;31m---------------------------------------------------------------------------\u001b[0m",
      "\u001b[1;31mNameError\u001b[0m                                 Traceback (most recent call last)",
      "\u001b[1;32m<ipython-input-97-130904244fb4>\u001b[0m in \u001b[0;36m<module>\u001b[1;34m\u001b[0m\n\u001b[0;32m      1\u001b[0m \u001b[0mdict1\u001b[0m\u001b[1;33m=\u001b[0m\u001b[1;33m{\u001b[0m\u001b[1;34m'name'\u001b[0m\u001b[1;33m:\u001b[0m\u001b[1;34m'王大锤'\u001b[0m\u001b[1;33m,\u001b[0m\u001b[1;34m'age'\u001b[0m\u001b[1;33m:\u001b[0m\u001b[1;36m29\u001b[0m\u001b[1;33m}\u001b[0m\u001b[1;33m\u001b[0m\u001b[1;33m\u001b[0m\u001b[0m\n\u001b[0;32m      2\u001b[0m \u001b[1;32mdel\u001b[0m \u001b[0mdict1\u001b[0m\u001b[1;31m# 删除字典\u001b[0m\u001b[1;33m\u001b[0m\u001b[1;33m\u001b[0m\u001b[0m\n\u001b[1;32m----> 3\u001b[1;33m \u001b[0mprint\u001b[0m\u001b[1;33m(\u001b[0m\u001b[0mdict1\u001b[0m\u001b[1;33m)\u001b[0m\u001b[1;33m\u001b[0m\u001b[1;33m\u001b[0m\u001b[0m\n\u001b[0m",
      "\u001b[1;31mNameError\u001b[0m: name 'dict1' is not defined"
     ]
    }
   ],
   "source": [
    "dict1={'name':'王大锤','age':29}\n",
    "del dict1# 删除字典\n",
    "print(dict1)"
   ]
  },
  {
   "cell_type": "markdown",
   "metadata": {},
   "source": [
    "`pop(key[,default])`也可用于删除指定key的值，并将其返回。"
   ]
  },
  {
   "cell_type": "code",
   "execution_count": 98,
   "metadata": {},
   "outputs": [
    {
     "name": "stdout",
     "output_type": "stream",
     "text": [
      "王大锤\n",
      "女\n",
      "{'age': 29}\n"
     ]
    }
   ],
   "source": [
    "dict1={'name':'王大锤','age':29}\n",
    "st1=dict1.pop('name')\n",
    "st2=dict1.pop('gender','女')\n",
    "print(st1)\n",
    "print(st2)\n",
    "print(dict1)"
   ]
  },
  {
   "cell_type": "markdown",
   "metadata": {},
   "source": [
    "- 查  \n",
    "直接通过键可查到所对应的值："
   ]
  },
  {
   "cell_type": "code",
   "execution_count": 99,
   "metadata": {},
   "outputs": [
    {
     "name": "stdout",
     "output_type": "stream",
     "text": [
      "王大锤\n"
     ]
    }
   ],
   "source": [
    "dict1={'name':'王大锤','age':29}\n",
    "print(dict1['name'])"
   ]
  },
  {
   "cell_type": "markdown",
   "metadata": {},
   "source": [
    "### 字典的方法"
   ]
  },
  {
   "cell_type": "markdown",
   "metadata": {},
   "source": [
    "&emsp; &emsp;字典的方法有数十个，具体详见[“Python3 字典|菜鸟教程”](http://www.runoob.com/python3/python3-dictionary.html)，此处仅对几个比较常见的进行介绍。"
   ]
  },
  {
   "cell_type": "markdown",
   "metadata": {},
   "source": [
    "**1. copy()浅复制**  \n",
    "&emsp; &emsp;copy()方法返回一个具有相同键/值对的新字典，这个方法是浅复制，因为值本身是相同的，而不是副本，即他们的元素指向同一地址。"
   ]
  },
  {
   "cell_type": "code",
   "execution_count": 101,
   "metadata": {},
   "outputs": [
    {
     "name": "stdout",
     "output_type": "stream",
     "text": [
      "原字典：{'name': '王大锤', 'age': 29, 'info': ['高', '富', '帅']}\n",
      "新字典：{'name': '王二锤', 'age': 29, 'info': ['高', '富', '帅']}\n",
      "原字典：{'name': '王大锤', 'age': 29, 'info': ['高', '富', '帅']}\n",
      "新字典：{'name': '王二锤', 'age': 29, 'info': ['高', '富', '帅'], 'gender': '男'}\n",
      "原字典：{'name': '王大锤', 'age': 29, 'info': ['高', '富', '帅']}\n",
      "新字典：{'name': '王二锤', 'age': 29, 'info': ['高', '富', '帅']}\n",
      "原字典：{'name': '王大锤', 'age': 29, 'info': ['好高', '富', '帅']}\n",
      "新字典：{'name': '王二锤', 'age': 29, 'info': ['好高', '富', '帅']}\n",
      "原字典：{'name': '王大花', 'age': 29, 'info': ['好高', '富', '帅']}\n",
      "新字典：{'name': '王二锤', 'age': 29, 'info': ['好高', '富', '帅']}\n",
      "原字典：{'name': '王大花', 'age': 29, 'info': ['好高', '富', '帅'], 'gender': '女'}\n",
      "新字典：{'name': '王二锤', 'age': 29, 'info': ['好高', '富', '帅']}\n",
      "原字典：{'name': '王大花', 'age': 29, 'info': ['白', '富', '美'], 'gender': '女'}\n",
      "新字典：{'name': '王二锤', 'age': 29, 'info': ['白', '富', '美']}\n"
     ]
    }
   ],
   "source": [
    "dict1={'name':'王大锤','age':29,'info':['高','富','帅']}\n",
    "st1=dict1.copy()\n",
    "st1['name']='王二锤'#复制\n",
    "print('原字典：'+str(dict1))\n",
    "print('新字典：'+str(st1))\n",
    "\n",
    "st1['gender']='男'#新字典增加元素不影响原字典\n",
    "print('原字典：'+str(dict1))\n",
    "print('新字典：'+str(st1))\n",
    "\n",
    "del st1['gender']#新字典删除元素不影响原字典\n",
    "print('原字典：'+str(dict1))\n",
    "print('新字典：'+str(st1))\n",
    "\n",
    "st1['info'][0]='好高'#新字典修改列表导致原字典变换\n",
    "print('原字典：'+str(dict1))\n",
    "print('新字典：'+str(st1))\n",
    "\n",
    "dict1['name']='王大花'#原字典修改不影响原字典\n",
    "print('原字典：'+str(dict1))\n",
    "print('新字典：'+str(st1))\n",
    "\n",
    "dict1['gender']='女'\n",
    "print('原字典：'+str(dict1))#原字典增加不影响新字典\n",
    "print('新字典：'+str(st1))\n",
    "\n",
    "dict1['info'][:]=['白','富','美']#原字典修改列表导致新字典变换\n",
    "print('原字典：'+str(dict1))\n",
    "print('新字典：'+str(st1))"
   ]
  },
  {
   "cell_type": "markdown",
   "metadata": {},
   "source": [
    "**2. get()、setdefault()**  \n",
    "- `dict.get(key[,dafault=None])`方法返回指定键的值，如果值不再字典中，就返回默认值。"
   ]
  },
  {
   "cell_type": "code",
   "execution_count": 102,
   "metadata": {},
   "outputs": [
    {
     "name": "stdout",
     "output_type": "stream",
     "text": [
      "王大锤\n",
      "女\n"
     ]
    }
   ],
   "source": [
    "dict1={'name':'王大锤','age':29}\n",
    "print(dict1.get('name'))\n",
    "print(dict1.get('gender','女'))"
   ]
  },
  {
   "cell_type": "markdown",
   "metadata": {},
   "source": [
    "- `dict.setdefault(key[,dafault=None])`方法与get()类似，用于获取指定键对应的值，如果不存在旧取默认值。不同点在于，setdefault()会将默认值更新到字典中，默认为None。"
   ]
  },
  {
   "cell_type": "code",
   "execution_count": 103,
   "metadata": {},
   "outputs": [
    {
     "name": "stdout",
     "output_type": "stream",
     "text": [
      "None\n",
      "{'name': '王大锤', 'age': 29, 'gender': None}\n",
      "['高', '富', '帅']\n",
      "{'name': '王大锤', 'age': 29, 'gender': None, 'info': ['高', '富', '帅']}\n"
     ]
    }
   ],
   "source": [
    "dict1={'name':'王大锤','age':29}\n",
    "print(dict1.setdefault('gender'))\n",
    "print(dict1)\n",
    "print(dict1.setdefault('info',['高','富','帅']))\n",
    "print(dict1)"
   ]
  },
  {
   "cell_type": "markdown",
   "metadata": {},
   "source": [
    "**3.  key in dict**  \n",
    "&emsp; &emsp;此方法用于判断键是否在字典中，如果键存在旧返回true，否则返回false。"
   ]
  },
  {
   "cell_type": "code",
   "execution_count": 104,
   "metadata": {},
   "outputs": [
    {
     "name": "stdout",
     "output_type": "stream",
     "text": [
      "True\n",
      "False\n"
     ]
    }
   ],
   "source": [
    "dict1={'name':'王大锤','age':29}\n",
    "print('name' in dict1)\n",
    "print('gender' in dict1)"
   ]
  },
  {
   "cell_type": "markdown",
   "metadata": {},
   "source": [
    "**4. keys()、values()**  \n",
    "- keys()方法以列表形式返回一个字典的所有键："
   ]
  },
  {
   "cell_type": "code",
   "execution_count": 107,
   "metadata": {},
   "outputs": [
    {
     "name": "stdout",
     "output_type": "stream",
     "text": [
      "dict_keys(['name', 'age'])\n"
     ]
    }
   ],
   "source": [
    "dict1={'name':'王大锤','age':29}\n",
    "print(dict1.keys())"
   ]
  },
  {
   "cell_type": "markdown",
   "metadata": {},
   "source": [
    "- values()方法以列表形式返回一个字典的所有值："
   ]
  },
  {
   "cell_type": "code",
   "execution_count": 108,
   "metadata": {},
   "outputs": [
    {
     "name": "stdout",
     "output_type": "stream",
     "text": [
      "dict_values(['王大锤', 29])\n"
     ]
    }
   ],
   "source": [
    "dict1={'name':'王大锤','age':29}\n",
    "print(dict1.values())"
   ]
  },
  {
   "cell_type": "markdown",
   "metadata": {},
   "source": [
    "**5. items()**  \n",
    "&emsp; &emsp;items()方法以列表返回可遍历的`(键,值)`元组数组:"
   ]
  },
  {
   "cell_type": "code",
   "execution_count": 106,
   "metadata": {},
   "outputs": [
    {
     "name": "stdout",
     "output_type": "stream",
     "text": [
      "dict_items([('name', '王大锤'), ('age', 29)])\n",
      "name 王大锤\n",
      "age 29\n"
     ]
    }
   ],
   "source": [
    "dict1={'name':'王大锤','age':29}\n",
    "print(dict1.items())\n",
    "for i,j in dict1.items():\n",
    "    print(i,j)"
   ]
  },
  {
   "cell_type": "markdown",
   "metadata": {},
   "source": [
    "**5. updata()**  \n",
    "&emsp; &emsp;updata()用于把新字典更新入旧字典中，新的元素会添加，已存在的元素会被修改。"
   ]
  },
  {
   "cell_type": "markdown",
   "metadata": {},
   "source": [
    "## 集合"
   ]
  },
  {
   "cell_type": "markdown",
   "metadata": {},
   "source": [
    "&emsp; &emsp;集合（set）是一个无序的不重复元素序列。可以使用大括号`{}`或者`set()`函数创建集合，注意：创建一个空集合必须用 `set()`而不是`{}`，因为`{}`是用来创建一个空字典。"
   ]
  },
  {
   "cell_type": "markdown",
   "metadata": {},
   "source": [
    "### 增删改查\n",
    "**1. 增add()、update()**  \n",
    "- add()将元素 x 添加到集合 s 中，如果元素已存在，则不进行任何操作。"
   ]
  },
  {
   "cell_type": "code",
   "execution_count": 109,
   "metadata": {},
   "outputs": [
    {
     "name": "stdout",
     "output_type": "stream",
     "text": [
      "{'小明', '小刘', '小李', '小张'}\n",
      "{'小张', '小李', '小明', ('小红', '小晓'), '小刘'}\n"
     ]
    }
   ],
   "source": [
    "a={'小明','小张','小李','小明'}\n",
    "a.add('小刘')\n",
    "print(a)\n",
    "a.add(('小红','小晓'))\n",
    "print(a)"
   ]
  },
  {
   "cell_type": "markdown",
   "metadata": {},
   "source": [
    "- update()也可以添加元素，且参数可以是列表，元组，字典等."
   ]
  },
  {
   "cell_type": "code",
   "execution_count": 110,
   "metadata": {},
   "outputs": [
    {
     "name": "stdout",
     "output_type": "stream",
     "text": [
      "{'小', '小张', '小明', '刘', '小李'}\n",
      "{'小晓', '小', '小张', '小红', '小明', '刘', '小李'}\n"
     ]
    }
   ],
   "source": [
    "#注意update与add的区别\n",
    "a={'小明','小张','小李','小明'}\n",
    "a.update('小刘')\n",
    "print(a)\n",
    "a.update(('小红','小晓'))\n",
    "print(a)"
   ]
  },
  {
   "cell_type": "markdown",
   "metadata": {},
   "source": [
    "**2.  删remove()、discard()、clear()**\n",
    "- remove()将元素x从集合s中移除，如果元素不存在，则会发生错误。"
   ]
  },
  {
   "cell_type": "code",
   "execution_count": 112,
   "metadata": {},
   "outputs": [
    {
     "name": "stdout",
     "output_type": "stream",
     "text": [
      "{'小明', '小张'}\n"
     ]
    },
    {
     "ename": "KeyError",
     "evalue": "'锤子'",
     "output_type": "error",
     "traceback": [
      "\u001b[1;31m---------------------------------------------------------------------------\u001b[0m",
      "\u001b[1;31mKeyError\u001b[0m                                  Traceback (most recent call last)",
      "\u001b[1;32m<ipython-input-112-db076c41ab59>\u001b[0m in \u001b[0;36m<module>\u001b[1;34m\u001b[0m\n\u001b[0;32m      2\u001b[0m \u001b[0ma\u001b[0m\u001b[1;33m.\u001b[0m\u001b[0mremove\u001b[0m\u001b[1;33m(\u001b[0m\u001b[1;34m'小李'\u001b[0m\u001b[1;33m)\u001b[0m\u001b[1;33m\u001b[0m\u001b[1;33m\u001b[0m\u001b[0m\n\u001b[0;32m      3\u001b[0m \u001b[0mprint\u001b[0m\u001b[1;33m(\u001b[0m\u001b[0ma\u001b[0m\u001b[1;33m)\u001b[0m\u001b[1;33m\u001b[0m\u001b[1;33m\u001b[0m\u001b[0m\n\u001b[1;32m----> 4\u001b[1;33m \u001b[0ma\u001b[0m\u001b[1;33m.\u001b[0m\u001b[0mremove\u001b[0m\u001b[1;33m(\u001b[0m\u001b[1;34m'锤子'\u001b[0m\u001b[1;33m)\u001b[0m \u001b[1;31m#若不存在会报错\u001b[0m\u001b[1;33m\u001b[0m\u001b[1;33m\u001b[0m\u001b[0m\n\u001b[0m",
      "\u001b[1;31mKeyError\u001b[0m: '锤子'"
     ]
    }
   ],
   "source": [
    "a={'小明','小张','小李','小明'}\n",
    "a.remove('小李')\n",
    "print(a)\n",
    "a.remove('锤子') #若不存在会报错"
   ]
  },
  {
   "cell_type": "markdown",
   "metadata": {},
   "source": [
    "- discard()将元素x从集合s中移除，如果元素不存在，不会报错。"
   ]
  },
  {
   "cell_type": "code",
   "execution_count": 114,
   "metadata": {},
   "outputs": [
    {
     "name": "stdout",
     "output_type": "stream",
     "text": [
      "{'小明', '小张'}\n"
     ]
    }
   ],
   "source": [
    "a={'小明','小张','小李','小明'}\n",
    "a.discard('小李')\n",
    "print(a)\n",
    "a.discard('锤子') #若不存在会报错"
   ]
  },
  {
   "cell_type": "markdown",
   "metadata": {},
   "source": [
    "- clear()用于清空集合。"
   ]
  },
  {
   "cell_type": "code",
   "execution_count": 115,
   "metadata": {},
   "outputs": [
    {
     "name": "stdout",
     "output_type": "stream",
     "text": [
      "set()\n"
     ]
    }
   ],
   "source": [
    "a={'小明','小张','小李','小明'}\n",
    "a.clear()\n",
    "print(a)"
   ]
  },
  {
   "cell_type": "markdown",
   "metadata": {},
   "source": [
    "**3. 查 in**"
   ]
  },
  {
   "cell_type": "code",
   "execution_count": 116,
   "metadata": {},
   "outputs": [
    {
     "name": "stdout",
     "output_type": "stream",
     "text": [
      "True\n"
     ]
    }
   ],
   "source": [
    "a={'小明','小张','小李','小明'}\n",
    "print('小李' in a)"
   ]
  },
  {
   "cell_type": "markdown",
   "metadata": {},
   "source": [
    "### 集合中的方法\n",
    "&emsp; &emsp;集合中的方法有数十种，具体详见[“Python3 集合|菜鸟教程”](http://www.runoob.com/python3/python3-set.html)，此处不再详细展开。"
   ]
  },
  {
   "cell_type": "markdown",
   "metadata": {},
   "source": [
    "## 数据类型转换\n",
    "> 对python内置的数据类型进行转换时，可以使用内置函数，常用的[类型转换函数](https://www.cnblogs.com/mywood/p/7428138.html)如下：  "
   ]
  },
  {
   "cell_type": "markdown",
   "metadata": {},
   "source": [
    "|函数格式|使用示例|描述|\n",
    "|--|--|--|\n",
    "|int(x [,base])|int(\"8\")|可以转换的包括String类型和其他数字类型，但是会丢失精度|      \n",
    "|float(x)|float(1)或者float(\"1\")| 可以转换String和其他数字类型，不足的位数用0补齐，例如1会变成1.0|\n",
    "|complex(real ,imag)| complex(\"1\")或者complex(1,2)|第一个参数可以是String或者数字，第二个参数只能为数字类型，第二个参数没有时默认为0|\n",
    "|str(x)|str(1)|将数字转化为String|\n",
    "|repr(x)| repr(Object)|返回一个对象的String格式|\n",
    "|eval(str)| eval(\"12+23\")|执行一个字符串表达式，返回计算的结果,如例子中返回35|\n",
    "|tuple(seq)| tuple((1,2,3,4))|参数可以是元组、列表或者字典，wie字典时，返回字典的key组成的集合|\n",
    "|list(s)|list((1,2,3,4))|将序列转变成一个列表，参数可为元组、字典、列表，为字典时，返回字典的key组成的集合|\n",
    "|set(s)|set(['b', 'r', 'u', 'o', 'n'])或者set(\"asdfg\")|将一个可以迭代对象转变为可变集合，并且去重复，返回结果可以用来计算差集x - y、并集x | y、交集x & y|\n",
    "|frozenset(s| frozenset([0, 1, 2, 3, 4, 5, 6, 7, 8, 9])|将一个可迭代对象转变成不可变集合，参数为元组、字典、列表等，|\n",
    "|chr(x)|chr(0x30)|chr()用一个范围在 range（256）内的（就是0～255）整数作参数，返回一个对应的字符。返回值是当前整数对应的ascii字符。|\n",
    "|ord(x)|ord('a')|返回对应的 ASCII 数值，或者 Unicode 数值|\n",
    "|hex(x)|hex(12)|把一个整数转换为十六进制字符串|\n",
    "|oct(x)|oct(12)|把一个整数转换为八进制字符串|"
   ]
  },
  {
   "cell_type": "markdown",
   "metadata": {},
   "source": [
    "各种数据类型转换的对比详见：https://blog.csdn.net/jmilk/article/details/49720611#%E7%9B%AE%E5%BD%95"
   ]
  },
  {
   "cell_type": "markdown",
   "metadata": {},
   "source": [
    "### 字符串转换str()、repr()"
   ]
  },
  {
   "cell_type": "markdown",
   "metadata": {},
   "source": [
    "**1. str()函数**  \n",
    "str()是最常用的转换为String的内建函数，可以接受任意对象，并将其转换为String类型。若object为String类型，则返回一个同类型的对象。在转换为String后无论是原来的特殊符号还是空格符都会成为String的元素之一。"
   ]
  },
  {
   "cell_type": "code",
   "execution_count": 132,
   "metadata": {},
   "outputs": [
    {
     "name": "stdout",
     "output_type": "stream",
     "text": [
      "[\n",
      "(\n",
      "{\n"
     ]
    }
   ],
   "source": [
    "print(str([1,2,3])[0])\n",
    "print(str(('my','name','is','jmilk'))[0])\n",
    "print(str({'name':'Jmilk','age':23})[0])"
   ]
  },
  {
   "cell_type": "markdown",
   "metadata": {},
   "source": [
    "**2. repr()**  \n",
    "repr()函数的使用方法于str()函数类似，都是传入一个任意对象，再返回一个String类型对象，但两者却有着本质的区别。  \n",
    "- str()函数的目标是一般用户的可读性，返回一个更适合人阅读的nice string。\n",
    "- 而repr()则返回一个更适合python解析器阅读的canonical strng，同时会返回Python解析器能够识别的数据细节，但这些细节对一般用户来说是多余的。\n",
    "- 而且repr()转换后的String对象可以通过求值运算eval()来还原到转换之前的对象，相比之下str()通常不需要eval()去处理。eval(repr(object)) == object。"
   ]
  }
 ],
 "metadata": {
  "kernelspec": {
   "display_name": "Python 3",
   "language": "python",
   "name": "python3"
  },
  "language_info": {
   "codemirror_mode": {
    "name": "ipython",
    "version": 3
   },
   "file_extension": ".py",
   "mimetype": "text/x-python",
   "name": "python",
   "nbconvert_exporter": "python",
   "pygments_lexer": "ipython3",
   "version": "3.7.4"
  },
  "toc-autonumbering": true,
  "toc-showcode": false,
  "toc-showmarkdowntxt": false,
  "toc-showtags": false
 },
 "nbformat": 4,
 "nbformat_minor": 4
}
