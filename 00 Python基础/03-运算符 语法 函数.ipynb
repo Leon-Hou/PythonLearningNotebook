{
 "cells": [
  {
   "cell_type": "markdown",
   "metadata": {},
   "source": [
    "# Python中的运算符\n",
    "&emsp;&emsp;运算符是一些特殊符号的集合，Python支持七种运算符：算术运算符、比较(关系)运算符、赋值运算符、逻辑运算符、位运算符、成员运算符、身份运算符。\n"
   ]
  },
  {
   "cell_type": "markdown",
   "metadata": {},
   "source": [
    "## 算数运算符\n",
    "a,b=10,5\n",
    "- `+` 加  a+b=15\n",
    "- `-` 减  a-b=5\n",
    "- `*` 乘  a*b=50\n",
    "- `/` 除  a/b=2.0 (结果为float)\n",
    "- `%` 取模 a%b=0\n",
    "- `**` 幂 a**b=100000\n",
    "- `//` 地板除 9//2=4; 9.0//2.0=4.0"
   ]
  },
  {
   "cell_type": "markdown",
   "metadata": {},
   "source": [
    "## 比较运算符\n",
    "```python\n",
    "a,b=10,20\n",
    "```\n",
    "- `==` 等于：比较对象是否相等 (a==b)->false\n",
    "- `!=` 不等于：比较对象是否不等 (a！=b)->true\n",
    "- `>`  大于\n",
    "- `<`  小于\n",
    "- `>=` 大于等于\n",
    "- `<=` 小于等于\n",
    "- `<>` Python2中的不等于，python3已删除\n",
    "\n"
   ]
  },
  {
   "cell_type": "markdown",
   "metadata": {},
   "source": [
    "## 赋值运算符\n",
    "```python\n",
    "a,b=10,20\n",
    "```\n",
    "- `=` 简单赋值\n",
    "- `+=` 加法赋值 c+=a -> c=c+a\n",
    "- `-=` 加法赋值 c-=a -> c=c-a \n",
    "- `*=` 加法赋值 c**=a -> c=c*a \n",
    "- `/=` 加法赋值 c/=a -> c=c/a \n",
    "- `%=` 加法赋值 c%=a -> c=c%a\n",
    "- `**=` 加法赋值 c**=a -> c=c**a\n",
    "- `//=` 加法赋值 c//=a -> c=c//a "
   ]
  },
  {
   "cell_type": "markdown",
   "metadata": {},
   "source": [
    "## 位运算符\n",
    "```python\n",
    "a,b=60,13\n",
    "```\n",
    "- `&` 按位与：a&b->12 00001100\n",
    "- `|` 按位或：a|b->61 00111101\n",
    "- `^` 按位异或：a^b->49 00110001\n",
    "- `~` 按位取反：～b->-61 11000011\n",
    "- `<<` 左移运算符：a<<2->240 11110000\n",
    "- `>>` 右移运算符：a>>2->15 00001111\n"
   ]
  },
  {
   "cell_type": "code",
   "execution_count": 4,
   "metadata": {},
   "outputs": [
    {
     "name": "stdout",
     "output_type": "stream",
     "text": [
      "--------------------\n",
      "2 & 3 = 2\n",
      "0b10 & 0b11 = 0b10\n",
      "--------------------\n",
      "2 | 3 = 3\n",
      "0b10 | 0b11 = 0b11\n",
      "--------------------\n",
      "2 ^ 3 = 1\n",
      "0b10 ^ 0b11 = 0b1\n",
      "--------------------\n",
      "~2= -3\n",
      "~ 0b10 = 0b1\n",
      "--------------------\n"
     ]
    }
   ],
   "source": [
    "print('-'*20)\n",
    "# 按位与\n",
    "print('2 & 3 =',2&3)\n",
    "print(bin(2),'&',bin(3),'=',bin(2&3))\n",
    "print('-'*20)\n",
    "# 按位或\n",
    "print('2 | 3 =',2|3)\n",
    "print(bin(2),'|',bin(3),'=',bin(2|3))\n",
    "print('-'*20)\n",
    "# 按位异或 当两个值对应的二进位相异时，结果为1\n",
    "print('2 ^ 3 =',2^3)\n",
    "print(bin(2),'^',bin(3),'=',bin(2^3))\n",
    "print('-'*20)\n",
    "# 按位取反 （注：因为有一个符号二进制数的补码形式，所以~x 类似于 -x-1）\n",
    "print('~2=',~2)\n",
    "print('~',bin(2),'=',bin(2^3))\n",
    "print('-'*20)"
   ]
  },
  {
   "cell_type": "markdown",
   "metadata": {},
   "source": [
    "## 逻辑运算符\n",
    "```python\n",
    "a,b=10,20\n",
    "```\n",
    "- `and` 布尔与：a and b ->20\n",
    "- `or` 布尔与：a or b ->10\n",
    "- `not` 布尔与：not(a and b) ->False\n",
    "- 优先级：not>and>or\n"
   ]
  },
  {
   "cell_type": "markdown",
   "metadata": {},
   "source": [
    "## 成员运算符\n",
    "- `in` a in list\n",
    "- `not in` a not in list"
   ]
  },
  {
   "cell_type": "markdown",
   "metadata": {},
   "source": [
    "## 身份运算符\n",
    "身份运算符用于比较两个对象的存储单元：\n",
    "- `is` 用于判断两个标识符是否引用同一对象；\n",
    "- `is not` 用于判断两个标识符是否引用不同对象；"
   ]
  },
  {
   "cell_type": "markdown",
   "metadata": {},
   "source": [
    "## 运算符优先级\n",
    "1. `()`\n",
    "2. `**`\n",
    "2. `～`、`+`、`-`\n",
    "3. `*`、`/`、`%`、`//`\n",
    "4. `+`、`-`\n",
    "5. `>>`、`<<`\n",
    "6. `&`\n",
    "7. `^`、`|`\n",
    "8. `<=`、`<`、`>`、`>=`\n",
    "9. `<>`、`==`、`!=`\n",
    "10. `=`、`+=`···(所有赋值运算符)\n",
    "11. `is`、`not is`\n",
    "12. `in`、`not in`\n",
    "13. `not`、`or`、`and`"
   ]
  },
  {
   "cell_type": "markdown",
   "metadata": {},
   "source": [
    "# 赋值、条件、循环\n"
   ]
  },
  {
   "cell_type": "markdown",
   "metadata": {},
   "source": [
    "## 赋值\n"
   ]
  },
  {
   "cell_type": "markdown",
   "metadata": {},
   "source": [
    "- **序列解包**  \n",
    "&emsp;&emsp;在Python中，序列解包所做的事情叫做序列解包或可迭代解包，即将多个值的序列解开，然后放到变量序列中。"
   ]
  },
  {
   "cell_type": "code",
   "execution_count": 1,
   "metadata": {},
   "outputs": [
    {
     "name": "stdout",
     "output_type": "stream",
     "text": [
      "1 2 3\n"
     ]
    }
   ],
   "source": [
    "x,y,z=1,2,3\n",
    "print(x,y,z)"
   ]
  },
  {
   "cell_type": "code",
   "execution_count": 2,
   "metadata": {},
   "outputs": [
    {
     "name": "stdout",
     "output_type": "stream",
     "text": [
      "1 2 3\n"
     ]
    }
   ],
   "source": [
    "num =1,2,3\n",
    "x,y,z=num\n",
    "print(x,y,z)"
   ]
  },
  {
   "cell_type": "code",
   "execution_count": 3,
   "metadata": {},
   "outputs": [
    {
     "name": "stdout",
     "output_type": "stream",
     "text": [
      "2 1\n"
     ]
    }
   ],
   "source": [
    "x,y=1,2\n",
    "x,y=y,x #直接交换数据\n",
    "print(x,y)"
   ]
  },
  {
   "cell_type": "markdown",
   "metadata": {},
   "source": [
    "&emsp;&emsp;序列解包允许函数返回一个以上的值并打包成元组，然后通过一个赋值语句进行访问，需要注意的是，`=`左右的元素数量必须相等。"
   ]
  },
  {
   "cell_type": "markdown",
   "metadata": {},
   "source": [
    "- **链式赋值**"
   ]
  },
  {
   "cell_type": "code",
   "execution_count": 4,
   "metadata": {},
   "outputs": [
    {
     "name": "stdout",
     "output_type": "stream",
     "text": [
      "1 1 1\n"
     ]
    }
   ],
   "source": [
    "x=y=z=1\n",
    "print(x,y,z)"
   ]
  },
  {
   "cell_type": "markdown",
   "metadata": {},
   "source": [
    "- **增量赋值**"
   ]
  },
  {
   "cell_type": "code",
   "execution_count": 5,
   "metadata": {},
   "outputs": [
    {
     "name": "stdout",
     "output_type": "stream",
     "text": [
      "2\n"
     ]
    }
   ],
   "source": [
    "x=1\n",
    "x+=1\n",
    "print(x)"
   ]
  },
  {
   "cell_type": "markdown",
   "metadata": {},
   "source": [
    "## 条件\n",
    "&emsp;&emsp;在Python中，冒号`:`用来标示语句块的开始，语句块的每一个语句都需要锁进(锁进量相同)，当退回和已经闭合的块一样的锁进量时，表示当前语句块结束了。"
   ]
  },
  {
   "cell_type": "markdown",
   "metadata": {},
   "source": [
    "- **if**"
   ]
  },
  {
   "cell_type": "code",
   "execution_count": 6,
   "metadata": {},
   "outputs": [
    {
     "name": "stdout",
     "output_type": "stream",
     "text": [
      "小\n"
     ]
    }
   ],
   "source": [
    "x=5\n",
    "if x>6:\n",
    "    print('大')\n",
    "else: #else也需要冒号\n",
    "    print('小')"
   ]
  },
  {
   "cell_type": "code",
   "execution_count": 7,
   "metadata": {},
   "outputs": [
    {
     "name": "stdout",
     "output_type": "stream",
     "text": [
      "0～10\n"
     ]
    }
   ],
   "source": [
    "x=10\n",
    "if x>10:\n",
    "    print('大于10')\n",
    "elif 0<=x<=10: #与数学表达习惯一致\n",
    "    print('0～10')\n",
    "else:\n",
    "    print('小于0')"
   ]
  },
  {
   "cell_type": "markdown",
   "metadata": {},
   "source": [
    "- **断言**  \n",
    "\n",
    "&emsp;&emsp;assert断言与if语句类似，用于在程序出现错误时崩溃并打印log，当assert后面的条件为真时，程序正常执行；当assert后面的条件为假时，输出错误信息。"
   ]
  },
  {
   "cell_type": "code",
   "execution_count": 8,
   "metadata": {},
   "outputs": [
    {
     "ename": "AssertionError",
     "evalue": "x不是负数",
     "output_type": "error",
     "traceback": [
      "\u001b[1;31m---------------------------------------------------------------------------\u001b[0m",
      "\u001b[1;31mAssertionError\u001b[0m                            Traceback (most recent call last)",
      "\u001b[1;32m<ipython-input-8-6d98e7415870>\u001b[0m in \u001b[0;36m<module>\u001b[1;34m\u001b[0m\n\u001b[0;32m      1\u001b[0m \u001b[0mx\u001b[0m\u001b[1;33m=\u001b[0m\u001b[1;36m5\u001b[0m\u001b[1;33m\u001b[0m\u001b[1;33m\u001b[0m\u001b[0m\n\u001b[1;32m----> 2\u001b[1;33m \u001b[1;32massert\u001b[0m \u001b[0mx\u001b[0m\u001b[1;33m<\u001b[0m\u001b[1;36m0\u001b[0m\u001b[1;33m,\u001b[0m\u001b[1;34m'x不是负数'\u001b[0m\u001b[1;33m\u001b[0m\u001b[1;33m\u001b[0m\u001b[0m\n\u001b[0m",
      "\u001b[1;31mAssertionError\u001b[0m: x不是负数"
     ]
    }
   ],
   "source": [
    "x=5\n",
    "assert x<0,'x不是负数'"
   ]
  },
  {
   "cell_type": "markdown",
   "metadata": {},
   "source": [
    "&emsp;&emsp;使用assert断言时，需要注意以下几点：\n",
    "- assert断言用来声明某个条件是真的\n",
    "- assert用于检验必然的情况；\n",
    "- assert语句失败时，会引发一个AssertionError；"
   ]
  },
  {
   "cell_type": "markdown",
   "metadata": {},
   "source": [
    "## 循环\n",
    "-  **while、for**  \n",
    "\n",
    "&emsp;&emsp;while循环即for循环的基本用法与其他语言类似，此处不再赘述。\n",
    "  \n",
    "&emsp;&emsp;在Python中，for循环可以遍历任何序列的项目，如一个字符串或者一个列表："
   ]
  },
  {
   "cell_type": "code",
   "execution_count": 9,
   "metadata": {},
   "outputs": [
    {
     "name": "stdout",
     "output_type": "stream",
     "text": [
      "a\n",
      "b\n",
      "c\n",
      "d\n"
     ]
    }
   ],
   "source": [
    "x=['a','b','c','d']\n",
    "for i in x:\n",
    "    print(i)"
   ]
  },
  {
   "cell_type": "code",
   "execution_count": 10,
   "metadata": {},
   "outputs": [
    {
     "name": "stdout",
     "output_type": "stream",
     "text": [
      "你\n",
      "好\n",
      "帅\n"
     ]
    }
   ],
   "source": [
    "for i in '你好帅':\n",
    "    print(i)"
   ]
  },
  {
   "cell_type": "code",
   "execution_count": 11,
   "metadata": {},
   "outputs": [
    {
     "name": "stdout",
     "output_type": "stream",
     "text": [
      "小明 98\n",
      "小张 60\n",
      "小李 88\n"
     ]
    }
   ],
   "source": [
    "#for循环遍历字典\n",
    "scores={'小明':98,'小张':60,'小李':88}\n",
    "for key,value in scores.items():\n",
    "    print(key,value)"
   ]
  },
  {
   "cell_type": "markdown",
   "metadata": {},
   "source": [
    "- **迭代工具**  \n",
    "&emsp;&emsp;在Python中，内建的zip函数用来进行并行迭代，可以把两个序列合并成一个，返回一个元组的列表。"
   ]
  },
  {
   "cell_type": "code",
   "execution_count": 14,
   "metadata": {},
   "outputs": [
    {
     "name": "stdout",
     "output_type": "stream",
     "text": [
      "小明 的学号是： 1001\n",
      "小张 的学号是： 1002\n",
      "小李 的学号是： 1003\n"
     ]
    }
   ],
   "source": [
    "# 传统方法\n",
    "student=['小明','小张','小李']\n",
    "number=[1001,1002,1003]\n",
    "for i in range(len(student)):\n",
    "    print(student[i],'的学号是：',number[i])"
   ]
  },
  {
   "cell_type": "code",
   "execution_count": 15,
   "metadata": {},
   "outputs": [
    {
     "name": "stdout",
     "output_type": "stream",
     "text": [
      "小明 的学号是： 1001\n",
      "小张 的学号是： 1002\n",
      "小李 的学号是： 1003\n"
     ]
    }
   ],
   "source": [
    "# zip方法\n",
    "student=['小明','小张','小李']\n",
    "number=[1001,1002,1003,1004,1005]\n",
    "for name,num in zip(student,number):\n",
    "    print(name,'的学号是：',num)"
   ]
  },
  {
   "cell_type": "markdown",
   "metadata": {},
   "source": [
    "&emsp;&emsp;由上例可知，zip可以用于任意数量的序列，并且可以不等长，当短序列‘用完时’就会停止。"
   ]
  },
  {
   "cell_type": "markdown",
   "metadata": {},
   "source": [
    "- **循环中的else语句**  \n",
    "\n",
    "&emsp;&emsp;while和for循环后可以跟else，用于在循环不满足时做一些工作。==(有啥用？？？)=="
   ]
  },
  {
   "cell_type": "code",
   "execution_count": 16,
   "metadata": {},
   "outputs": [
    {
     "name": "stdout",
     "output_type": "stream",
     "text": [
      "0 小于3\n",
      "1 小于3\n",
      "2 小于3\n",
      "3 大于或等于3\n"
     ]
    }
   ],
   "source": [
    "num=0\n",
    "while num<3:\n",
    "    print(num,'小于3')\n",
    "    num+=1\n",
    "else:\n",
    "    print(num,'大于或等于3')"
   ]
  },
  {
   "cell_type": "code",
   "execution_count": 17,
   "metadata": {},
   "outputs": [
    {
     "name": "stdout",
     "output_type": "stream",
     "text": [
      "0\n",
      "1\n",
      "2\n",
      "2 结束\n"
     ]
    }
   ],
   "source": [
    "for i in range(3):\n",
    "    print(i)\n",
    "else:\n",
    "    print(i,'结束')#注意结果"
   ]
  },
  {
   "cell_type": "markdown",
   "metadata": {},
   "source": [
    "- **pass语句**  \n",
    "&emsp;&emsp;Python中的pass是空语句，作用是保持程序结构的完整性。"
   ]
  },
  {
   "cell_type": "code",
   "execution_count": 18,
   "metadata": {},
   "outputs": [],
   "source": [
    "num=6\n",
    "if num>10:\n",
    "    print('大于10')\n",
    "elif 5<num<=10:\n",
    "    pass\n",
    "else:\n",
    "    print('哈哈')"
   ]
  },
  {
   "cell_type": "markdown",
   "metadata": {},
   "source": [
    "# 函数"
   ]
  },
  {
   "cell_type": "markdown",
   "metadata": {},
   "source": [
    "## 内置函数\n",
    "&emsp;&emsp;Python3中内置了很多的函数，可以直接调用，Python官网可以查看相关文档：[https://docs.python.org/3/library/functions.html](https://docs.python.org/3/library/functions.html)  \n",
    "&emsp;&emsp;还可以通过help()查看帮助信息。"
   ]
  },
  {
   "cell_type": "markdown",
   "metadata": {},
   "source": [
    "## 定义函数\n",
    "Python中自定义函数格式如下：\n",
    "\n",
    "```\n",
    "def <name>(arg1,arg2,arg3...,argn):\n",
    "    <statemrnts>\n",
    "```"
   ]
  },
  {
   "cell_type": "markdown",
   "metadata": {},
   "source": [
    "&emsp;&emsp;Python的自定义函数规则如下：\n",
    "1. 函数代码块以def开头，后接函数标示名称和圆括号`()`;\n",
    "2. 所有传入的参数和自变量都必须放在圆括号中，可以在圆括号中定义参数。\n",
    "3. 函数的第一行语句可以选择性的使用文档字符串，用于存放函数说明。\n",
    "4. 函数内容以冒号开始，并且要缩紧。\n",
    "5. return[表达式] 结束函数，选择性返回一个值给调用方，没有return或不带表达式的return相当于返回none；一旦执行到return时，函数就执行完毕，并将结果返回。\n",
    "6. 函数名必须以字母开头，或者下划线`_`。\n",
    "7. 当我们定义一个函数的时候，python就会将函数加载到内存中，只不过不调用的时候，函数内部的代码就不执行。\n",
    "8. 如果函数名和变量名冲突了，相当于重新赋值。而python解释是从上到下的，也就是说此时谁在下面谁占用这个变量名。\n",
    "9. python在执行函数里面的代码的时候，会将其放在一个新的环境中。这个新环境就像一个虚拟机，虚拟机能够访问和修改本机中数据，前提是该数据是可修改的，但是python在函数调用完毕之后会自动销毁这个环境。++由下式可得，当我们修改不可变数据类型a的值时，没有效果，这是因为环境被销毁，新赋值地址被销毁，所以不起作用。++\n",
    "10. 函数内的变量就是局部变量，外部的就是全局变量。所以在函数中定义的变量，也就是局部变量，只在函数内部有效。"
   ]
  },
  {
   "cell_type": "code",
   "execution_count": 5,
   "metadata": {},
   "outputs": [
    {
     "name": "stdout",
     "output_type": "stream",
     "text": [
      "0\n",
      "[1]\n"
     ]
    }
   ],
   "source": [
    "a=0#数值型是不可变数据类型\n",
    "b=[]\n",
    "def hello():\n",
    "    a=1#所以函数内的a相当于一个新的局部变量\n",
    "    b.append(1)\n",
    "hello()\n",
    "print(a)\n",
    "print(b)"
   ]
  },
  {
   "cell_type": "markdown",
   "metadata": {},
   "source": [
    "## 函数的参数"
   ]
  },
  {
   "cell_type": "markdown",
   "metadata": {},
   "source": [
    "&emsp;&emsp;的参数包括以下几种类型：\n",
    "- 必须参数\n",
    "- 关键字参数\n",
    "- 默认参数\n",
    "- 可变参数\n",
    "- 组合参数"
   ]
  },
  {
   "cell_type": "markdown",
   "metadata": {},
   "source": [
    "### **必须参数**  \n",
    "&emsp;&emsp;必须参数必须以**正确的顺序**传入函数"
   ]
  },
  {
   "cell_type": "code",
   "execution_count": 20,
   "metadata": {},
   "outputs": [
    {
     "name": "stdout",
     "output_type": "stream",
     "text": [
      "a b\n"
     ]
    }
   ],
   "source": [
    "def p(stra,strb):\n",
    "    print(stra,strb)\n",
    "p('a','b')"
   ]
  },
  {
   "cell_type": "markdown",
   "metadata": {},
   "source": [
    "### **关键字参数**  \n",
    "\n",
    "&emsp;&emsp;函数调用时使用关键字确定传入的参数，所以使用关键字参数允许函数调用时的顺序和声明不一致（必须所有的都以关键字参数定义，一个必须加一个关键字时顺序不能颠倒）。"
   ]
  },
  {
   "cell_type": "code",
   "execution_count": 21,
   "metadata": {},
   "outputs": [
    {
     "ename": "TypeError",
     "evalue": "p() got multiple values for argument 'stra'",
     "output_type": "error",
     "traceback": [
      "\u001b[1;31m---------------------------------------------------------------------------\u001b[0m",
      "\u001b[1;31mTypeError\u001b[0m                                 Traceback (most recent call last)",
      "\u001b[1;32m<ipython-input-21-4f2f0ae3cc3a>\u001b[0m in \u001b[0;36m<module>\u001b[1;34m\u001b[0m\n\u001b[0;32m      2\u001b[0m \u001b[1;32mdef\u001b[0m \u001b[0mp\u001b[0m\u001b[1;33m(\u001b[0m\u001b[0mstra\u001b[0m\u001b[1;33m,\u001b[0m\u001b[0mstrb\u001b[0m\u001b[1;33m)\u001b[0m\u001b[1;33m:\u001b[0m\u001b[1;33m\u001b[0m\u001b[1;33m\u001b[0m\u001b[0m\n\u001b[0;32m      3\u001b[0m     \u001b[0mprint\u001b[0m\u001b[1;33m(\u001b[0m\u001b[0mstra\u001b[0m\u001b[1;33m,\u001b[0m\u001b[0mstrb\u001b[0m\u001b[1;33m)\u001b[0m\u001b[1;33m\u001b[0m\u001b[1;33m\u001b[0m\u001b[0m\n\u001b[1;32m----> 4\u001b[1;33m \u001b[0mp\u001b[0m\u001b[1;33m(\u001b[0m\u001b[1;34m'b'\u001b[0m\u001b[1;33m,\u001b[0m\u001b[0mstra\u001b[0m\u001b[1;33m=\u001b[0m\u001b[1;34m'a'\u001b[0m\u001b[1;33m)\u001b[0m\u001b[1;33m\u001b[0m\u001b[1;33m\u001b[0m\u001b[0m\n\u001b[0m",
      "\u001b[1;31mTypeError\u001b[0m: p() got multiple values for argument 'stra'"
     ]
    }
   ],
   "source": [
    "#错误示例\n",
    "def p(stra,strb):\n",
    "    print(stra,strb)\n",
    "p('b',stra='a')"
   ]
  },
  {
   "cell_type": "code",
   "execution_count": 22,
   "metadata": {},
   "outputs": [
    {
     "name": "stdout",
     "output_type": "stream",
     "text": [
      "a b\n"
     ]
    }
   ],
   "source": [
    "#正确示例\n",
    "def p(stra,strb):\n",
    "    print(stra,strb)\n",
    "p(strb='b',stra='a')"
   ]
  },
  {
   "cell_type": "markdown",
   "metadata": {},
   "source": [
    "### **默认参数**  \n",
    "\n",
    "&emsp;&emsp;使用默认参数，就是在定义函数时，给参数一个默认值。调用函数时，如果没有赋值，则使用默认参数。"
   ]
  },
  {
   "cell_type": "code",
   "execution_count": 23,
   "metadata": {},
   "outputs": [
    {
     "name": "stdout",
     "output_type": "stream",
     "text": [
      "b c\n"
     ]
    }
   ],
   "source": [
    "def p(stra,strb='c'):\n",
    "    print(stra,strb)\n",
    "p('b')"
   ]
  },
  {
   "cell_type": "markdown",
   "metadata": {},
   "source": [
    "&emsp;&emsp;默认参数有以下需要注意：\n",
    "- 无论有多少默认参数，默认参数都不能在必须参数之前。\n",
    "- 无论有多少默认参数，若不传入默认参数，则使用默认值。\n",
    "- 若想更改某一个默认参数值，又不想传入其他默认参数，且该默认参数不是第一个，则可以通过关键字参数来赋值。\n",
    "- 若有一个默认参数通过关键字参数更改参数值，则其他想要更改的默认参数都需要通过关键字来赋值，否则会报错。\n",
    "- 更改默认参数值时，传入默认参数的顺序不需要根据定义的顺序传入，最好使用关键字赋值，否则容易出现错误。\n"
   ]
  },
  {
   "cell_type": "markdown",
   "metadata": {},
   "source": [
    "## **可变参数**  \n",
    "&emsp;&emsp;如果需要一个函数能够处理的参数声明可变时，这些参数称为可变参数。和前述参数不同的是，可变参数在声明时不需要命名。  \n",
    "基本语法如下：  \n",
    "\n",
    "```python\n",
    "def function([formal_arges,]*var_args_tuple):\n",
    "    '函数体'\n",
    "    return \n",
    "```"
   ]
  },
  {
   "cell_type": "markdown",
   "metadata": {},
   "source": [
    "- 加了`*`号的变量名会存放所有未命名的变量参数，如果变量参数在函数调用时没有指定参数，就是一个空元组。"
   ]
  },
  {
   "cell_type": "code",
   "execution_count": 3,
   "metadata": {},
   "outputs": [
    {
     "name": "stdout",
     "output_type": "stream",
     "text": [
      "b (1, 2, 3, 4)\n"
     ]
    }
   ],
   "source": [
    "def p(stra,*strb):\n",
    "    print(stra,strb)\n",
    "p('b',1,2,3,4)"
   ]
  },
  {
   "cell_type": "markdown",
   "metadata": {},
   "source": [
    "- 也可以用可变参数来处理关键字参数，在函数名之前加`**`可以处理关键字参数。"
   ]
  },
  {
   "cell_type": "code",
   "execution_count": 20,
   "metadata": {},
   "outputs": [
    {
     "name": "stdout",
     "output_type": "stream",
     "text": [
      "b 7 {'n1': 'a', 'n2': 'b'}\n",
      "b 6 {'n1': 'a', 'n2': 'b'}\n"
     ]
    }
   ],
   "source": [
    "sss={'n1':'a','n2':'b'}\n",
    "def p(stra,strb=6,**strc):\n",
    "    print(stra,strb,strc)\n",
    "p('b',7,**sss)\n",
    "p('b',n1='a',n2='b')"
   ]
  },
  {
   "cell_type": "markdown",
   "metadata": {},
   "source": [
    "### **组合参数**  \n",
    "\n",
    "&emsp;&emsp;Python中前4种参数的顺序必须是：\n",
    "1. 必须参数\n",
    "2. 默认参数\n",
    "3. 可变参数\n",
    "4. 关键字参数"
   ]
  },
  {
   "cell_type": "code",
   "execution_count": 27,
   "metadata": {},
   "outputs": [
    {
     "name": "stdout",
     "output_type": "stream",
     "text": [
      "1 2 0 () {}\n",
      "1 2 0 () {'c': 3}\n",
      "1 2 2 ('a', 'b') {'x': 9}\n"
     ]
    }
   ],
   "source": [
    "def exp(p1,p2,df=0,dd=6,*vart,**kw):\n",
    "    print(p1,p2,df,vart,kw)\n",
    "exp(1,2)\n",
    "exp(1,2,c=3)\n",
    "exp(1,2,2,5,'a','b',x=9)"
   ]
  },
  {
   "cell_type": "markdown",
   "metadata": {},
   "source": [
    "### **形参和实参**  \n",
    "\n",
    "&emsp;&emsp;函数名后`()`里的是实参，函数体内用到的是形参。"
   ]
  },
  {
   "cell_type": "markdown",
   "metadata": {},
   "source": [
    "### **全局变量和局部变量**  \n",
    "\n",
    "&emsp;&emsp;python在执行函数里面的代码的时候，会将其放在一个新的环境中。这个新环境就像一个虚拟机，虚拟机能够访问和修改本机中数据，前提是该数据是可修改的，但是python在函数调用完毕之后会自动销毁这个环境。  \n",
    "&emsp;&emsp;函数内的变量就是局部变量，外部的就是全局变量。所以在函数中定义的变量，也就是局部变量，只在函数内部有效。  "
   ]
  },
  {
   "cell_type": "code",
   "execution_count": 36,
   "metadata": {},
   "outputs": [
    {
     "name": "stdout",
     "output_type": "stream",
     "text": [
      "0\n",
      "[1]\n"
     ]
    }
   ],
   "source": [
    "a=0#全局变量\n",
    "b=[]\n",
    "def hello():\n",
    "    a=1#局部变量\n",
    "    b.append(1)\n",
    "hello()\n",
    "print(a)\n",
    "print(b)"
   ]
  },
  {
   "cell_type": "markdown",
   "metadata": {},
   "source": [
    "&emsp;&emsp;如果想在函数体内使用全局变量，需要在变量之前加一个`global`关键字："
   ]
  },
  {
   "cell_type": "code",
   "execution_count": 29,
   "metadata": {},
   "outputs": [
    {
     "name": "stdout",
     "output_type": "stream",
     "text": [
      "0\n",
      "1\n",
      "[1]\n"
     ]
    }
   ],
   "source": [
    "a=0#数值型是不可变数据类型\n",
    "b=[]\n",
    "def hello():\n",
    "    global a  #先定义，不能直接赋值\n",
    "    print(a)\n",
    "    a=1#所以函数内的a相当于一个新的局部变量\n",
    "    b.append(1)\n",
    "hello()\n",
    "print(a)\n",
    "print(b)"
   ]
  },
  {
   "cell_type": "markdown",
   "metadata": {},
   "source": [
    "### **参数解包**\n",
    "- **元组解包**<Sup>[Re](https://blog.csdn.net/cadi2011/article/details/84871401)</Sup>  \n",
    "如下例：此时print_str(*numbers_strings) 等同于print_str(\"1\",\"2\",\"3\",\"4\",\"5\")，这个*numbers_strings称为解包功能，numbers_strings为元组对象，所以也称为元组解包；  \n",
    "因此可以将位置参数暂时都先放到元组中，调用函数时，利用解包功能传入"
   ]
  },
  {
   "cell_type": "code",
   "execution_count": 2,
   "metadata": {},
   "outputs": [
    {
     "name": "stdout",
     "output_type": "stream",
     "text": [
      "1\n",
      "2\n"
     ]
    }
   ],
   "source": [
    "numbers_strings = (\"1\",\"2\")\n",
    " \n",
    "def print_str(first, second):\n",
    "    print(first)\n",
    "    print(second)\n",
    " \n",
    "if __name__ == \"__main__\":\n",
    "    print_str(*numbers_strings)"
   ]
  },
  {
   "cell_type": "markdown",
   "metadata": {},
   "source": [
    "- **字典解包**  \n",
    "\n",
    "函数调用时，可以传入一个解包字典（字典前面需加**），这样函数会解包，它会把dictionary中所有键值对转换为一个一个的关键字参数传进去"
   ]
  },
  {
   "cell_type": "code",
   "execution_count": 18,
   "metadata": {},
   "outputs": [
    {
     "name": "stdout",
     "output_type": "stream",
     "text": [
      "100\n",
      "7\n",
      "{'name': 'tyson', 'age': '99'}\n",
      "100\n",
      "7\n",
      "{'name': 'tyson', 'age': '99'}\n"
     ]
    }
   ],
   "source": [
    "def printStr(first, second, **dict):\n",
    "    print(str(first))\n",
    "    print(second)\n",
    "    print(dict)\n",
    "\n",
    "printDic = {\"name\": \"tyson\", \"age\":\"99\"}\n",
    "printStr(100, **printDic, second=7)\n",
    "#等同于\n",
    "printStr(100, name = \"tyson\", age = \"99\",second=7)"
   ]
  },
  {
   "cell_type": "markdown",
   "metadata": {},
   "source": [
    "## 特殊函数"
   ]
  },
  {
   "cell_type": "markdown",
   "metadata": {},
   "source": [
    "- **返回函数**  \n",
    "\n",
    "&emsp;&emsp;return可以返回一个函数，而不是结果："
   ]
  },
  {
   "cell_type": "code",
   "execution_count": 37,
   "metadata": {},
   "outputs": [
    {
     "name": "stdout",
     "output_type": "stream",
     "text": [
      "结果是 <function sum_late.<locals>.cacl_sum at 0x000001EFB0CD1D38>\n",
      "结果是 10\n",
      "结果是 <function sum_late.<locals>.cacl_sum at 0x000001EFB0C0D9D8>\n",
      "结果是 10\n"
     ]
    }
   ],
   "source": [
    "def sum_late(*args):\n",
    "    def cacl_sum():\n",
    "        ax=0\n",
    "        for n in args:\n",
    "            ax=ax+n\n",
    "        return ax\n",
    "    return cacl_sum\n",
    "print('结果是',sum_late(1,2,3,4))\n",
    "print('结果是',sum_late(1,2,3,4)())\n",
    "ccc=sum_late(1,2,3,4)\n",
    "print('结果是',ccc)#函数\n",
    "print('结果是',ccc())#运行函数"
   ]
  },
  {
   "cell_type": "markdown",
   "metadata": {},
   "source": [
    "&emsp;&emsp;上例中，cacl_sum()函数定义在外部函数内部，可以调用外部函数的变量，称之为闭包。\n",
    "&emsp;&emsp;使用闭包时牢记的一点就是：返回函数不要引用任何循环变量，或者后续会发生变化的变量。即包在里面的函数，不要引用外部函数的任何循环变量。如下例："
   ]
  },
  {
   "cell_type": "code",
   "execution_count": 5,
   "metadata": {},
   "outputs": [
    {
     "name": "stdout",
     "output_type": "stream",
     "text": [
      "9\n",
      "9\n",
      "9\n"
     ]
    }
   ],
   "source": [
    "def count():\n",
    "    fs = []\n",
    "    for i in range(1,4):\n",
    "        def f():\n",
    "            return i*i\n",
    "        fs.append(f)\n",
    "    return fs\n",
    "f1, f2, f3 = count()\n",
    "print (f1())\n",
    "print (f2())\n",
    "print (f3())"
   ]
  },
  {
   "cell_type": "code",
   "execution_count": 39,
   "metadata": {},
   "outputs": [
    {
     "name": "stdout",
     "output_type": "stream",
     "text": [
      "1\n",
      "4\n",
      "9\n"
     ]
    }
   ],
   "source": [
    "def count():\n",
    "    fs = []\n",
    "    for i in range(1,4):\n",
    "        def f(j):\n",
    "            def g():\n",
    "                return j*j\n",
    "            return g\n",
    "        fs.append(f(i))\n",
    "    return fs\n",
    "\n",
    "f1, f2, f3 =count()\n",
    "print (f1())\n",
    "print (f2())\n",
    "print (f3())"
   ]
  },
  {
   "cell_type": "markdown",
   "metadata": {},
   "source": [
    "- **递归函数**  \n",
    "&emsp;&emsp;函数可以在其内部调用自身，这个函数被称作递归函数，有用的递归函数应该满足以下条件：\n",
    "- 当函数直接返回值时有基本实例(最小可能性问题)。\n",
    "- 递归实例，包括一个或多个问题最小部分的递归调用。\n",
    "例如下式利用递归函数计算`n!=1x2x3x...x(n-1)xn`"
   ]
  },
  {
   "cell_type": "code",
   "execution_count": 40,
   "metadata": {},
   "outputs": [
    {
     "name": "stdout",
     "output_type": "stream",
     "text": [
      "结果是 120\n"
     ]
    }
   ],
   "source": [
    "def fact(n):\n",
    "    if n==1:\n",
    "        return 1\n",
    "    return n * fact(n - 1)\n",
    "print('结果是',fact(5))"
   ]
  },
  {
   "cell_type": "markdown",
   "metadata": {},
   "source": [
    "> 使用递归函数时要防止栈的溢出。在计算机中，函数的调用通过栈(stack)这种数据结构来实现。没当进入一个函数调用时，栈就会加一层栈帧；每当函数返回，栈就会减一层栈帧。++为防止栈溢出，可以使用尾递归优化。++"
   ]
  },
  {
   "cell_type": "markdown",
   "metadata": {},
   "source": [
    "- **匿名函数**  \n",
    "&emsp;&emsp;匿名函数就是不再使用def语句这样的标准形式定义的一个函数,比def定义函数要简洁，Python中使用lambda创建匿名函数。\n",
    "- lambda只是一个表达式，函数体比def简单很多；\n",
    "- lambda的主体是一个表达式，而不是一个代码块，仅能在lambda表达式中封装有限的逻辑。\n",
    "- lambda函数拥有自己的命名空间，不能访问自有参数列表之外或全局命名空间的参数。\n",
    "- lambda的语句如下："
   ]
  },
  {
   "cell_type": "code",
   "execution_count": 41,
   "metadata": {},
   "outputs": [
    {
     "name": "stdout",
     "output_type": "stream",
     "text": [
      "24\n"
     ]
    }
   ],
   "source": [
    "c=lambda x,y,z:x*y*z\n",
    "print(c(2,3,4))"
   ]
  },
  {
   "cell_type": "markdown",
   "metadata": {},
   "source": [
    "- **偏函数**  \n",
    "\n",
    "&emsp;&emsp;偏函数是Python2.5引入的概念，通过functools模块被用户调用。偏函数是将所要承载的函数作为partial()函数的第一个参数，原函数的每个参数依次作为partial()函数的后续参数，除非使用关键字参数。"
   ]
  },
  {
   "cell_type": "code",
   "execution_count": 42,
   "metadata": {},
   "outputs": [
    {
     "name": "stdout",
     "output_type": "stream",
     "text": [
      "2\n",
      "2\n"
     ]
    }
   ],
   "source": [
    "from functools import partial\n",
    "def mod(n,m):\n",
    "    return n%m\n",
    "\n",
    "mod_by_100=partial(mod,100)\n",
    "\n",
    "print(mod(100,7))\n",
    "print(mod_by_100(7))"
   ]
  },
  {
   "cell_type": "markdown",
   "metadata": {},
   "source": [
    "- **调用自定义函数**  \n",
    "&emsp;&emsp;有一些自己定义的基础模块函数，在很多任务中会重复使用，例如读取列表，保存结果等，每次复制相同的代码到一个.py文件中进行调用太过麻烦，把基础模块放在固定文件夹（或相对固定文件夹），使用sys.path.append(r'自定义的模块路径')，将自定义模块所在路径添加到搜索路径，当需要在不同的电脑（或服务器）使用时，会便利很多。\n",
    "1. 在子目录下，定义一个 `fun.py`\n",
    "```python\n",
    "#!/usr/bin/python\n",
    "# -*- coding: UTF-8 -*-\n",
    "def add(x, y):\n",
    "    z=x+y\n",
    "    return z\n",
    "```\n",
    "2. 在其他`.py`中调用\n",
    "\n",
    "```python\n",
    "# import sys\n",
    "# sys.path.append(r'文件夹地址')#将所选文件夹路径添加至搜索路径中,可用相对路径；\n",
    "from fun import * #调用目标.py\n",
    "\n",
    "a=add(2,3)\n",
    "print(a)\n",
    ">\n",
    " 5\n",
    "```"
   ]
  },
  {
   "cell_type": "code",
   "execution_count": null,
   "metadata": {},
   "outputs": [],
   "source": []
  }
 ],
 "metadata": {
  "kernelspec": {
   "display_name": "Python 3",
   "language": "python",
   "name": "python3"
  },
  "language_info": {
   "codemirror_mode": {
    "name": "ipython",
    "version": 3
   },
   "file_extension": ".py",
   "mimetype": "text/x-python",
   "name": "python",
   "nbconvert_exporter": "python",
   "pygments_lexer": "ipython3",
   "version": "3.7.4"
  },
  "toc-autonumbering": true,
  "toc-showmarkdowntxt": false
 },
 "nbformat": 4,
 "nbformat_minor": 4
}
